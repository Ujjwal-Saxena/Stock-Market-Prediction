{
 "cells": [
  {
   "cell_type": "markdown",
   "id": "3f8848a6",
   "metadata": {},
   "source": [
    "# Stock Market Prediction using Numerical and Textual Analysis\n",
    "\n",
    "\n",
    "###  ● Objective:\n",
    "Create a hybrid model for stock price/performance prediction using numerical analysis of historical stock prices, and sentimental analysis of news headlines\n",
    "\n",
    "● Stock to analyze and predict - SENSEX (S&P BSE SENSEX) or  any other of your choice\n",
    "\n",
    "● Download historical stock prices from www.finance.yahoo.com (I have used Infosys Stock \"INFY\" here.)\n",
    "\n",
    "● Download textual (news) data from https://bit.ly/36fFPI6"
   ]
  },
  {
   "cell_type": "markdown",
   "id": "30eee7e3",
   "metadata": {},
   "source": [
    "### Importing Libraries"
   ]
  },
  {
   "cell_type": "code",
   "execution_count": 1,
   "id": "ef958063",
   "metadata": {},
   "outputs": [],
   "source": [
    "import pandas as pd\n",
    "import numpy as np\n",
    "import datetime"
   ]
  },
  {
   "cell_type": "markdown",
   "id": "c7913963",
   "metadata": {},
   "source": [
    "### Reading Dataset"
   ]
  },
  {
   "cell_type": "code",
   "execution_count": 2,
   "id": "ba695ec5",
   "metadata": {},
   "outputs": [
    {
     "data": {
      "text/html": [
       "<div>\n",
       "<style scoped>\n",
       "    .dataframe tbody tr th:only-of-type {\n",
       "        vertical-align: middle;\n",
       "    }\n",
       "\n",
       "    .dataframe tbody tr th {\n",
       "        vertical-align: top;\n",
       "    }\n",
       "\n",
       "    .dataframe thead th {\n",
       "        text-align: right;\n",
       "    }\n",
       "</style>\n",
       "<table border=\"1\" class=\"dataframe\">\n",
       "  <thead>\n",
       "    <tr style=\"text-align: right;\">\n",
       "      <th></th>\n",
       "      <th>Date</th>\n",
       "      <th>Open</th>\n",
       "      <th>High</th>\n",
       "      <th>Low</th>\n",
       "      <th>Close</th>\n",
       "      <th>Adj Close</th>\n",
       "      <th>Volume</th>\n",
       "    </tr>\n",
       "  </thead>\n",
       "  <tbody>\n",
       "    <tr>\n",
       "      <th>0</th>\n",
       "      <td>2001-01-02</td>\n",
       "      <td>2.878906</td>\n",
       "      <td>2.914063</td>\n",
       "      <td>2.710938</td>\n",
       "      <td>2.730469</td>\n",
       "      <td>1.931548</td>\n",
       "      <td>4483200</td>\n",
       "    </tr>\n",
       "    <tr>\n",
       "      <th>1</th>\n",
       "      <td>2001-01-03</td>\n",
       "      <td>2.705078</td>\n",
       "      <td>3.406250</td>\n",
       "      <td>2.691406</td>\n",
       "      <td>3.234375</td>\n",
       "      <td>2.288014</td>\n",
       "      <td>5856000</td>\n",
       "    </tr>\n",
       "    <tr>\n",
       "      <th>2</th>\n",
       "      <td>2001-01-04</td>\n",
       "      <td>3.193359</td>\n",
       "      <td>3.238281</td>\n",
       "      <td>3.031250</td>\n",
       "      <td>3.093750</td>\n",
       "      <td>2.188534</td>\n",
       "      <td>3811200</td>\n",
       "    </tr>\n",
       "    <tr>\n",
       "      <th>3</th>\n",
       "      <td>2001-01-05</td>\n",
       "      <td>3.148438</td>\n",
       "      <td>3.171875</td>\n",
       "      <td>2.937500</td>\n",
       "      <td>2.960938</td>\n",
       "      <td>2.094583</td>\n",
       "      <td>7414400</td>\n",
       "    </tr>\n",
       "    <tr>\n",
       "      <th>4</th>\n",
       "      <td>2001-01-08</td>\n",
       "      <td>2.953125</td>\n",
       "      <td>2.957031</td>\n",
       "      <td>2.767578</td>\n",
       "      <td>2.901855</td>\n",
       "      <td>2.052787</td>\n",
       "      <td>4326400</td>\n",
       "    </tr>\n",
       "  </tbody>\n",
       "</table>\n",
       "</div>"
      ],
      "text/plain": [
       "         Date      Open      High       Low     Close  Adj Close   Volume\n",
       "0  2001-01-02  2.878906  2.914063  2.710938  2.730469   1.931548  4483200\n",
       "1  2001-01-03  2.705078  3.406250  2.691406  3.234375   2.288014  5856000\n",
       "2  2001-01-04  3.193359  3.238281  3.031250  3.093750   2.188534  3811200\n",
       "3  2001-01-05  3.148438  3.171875  2.937500  2.960938   2.094583  7414400\n",
       "4  2001-01-08  2.953125  2.957031  2.767578  2.901855   2.052787  4326400"
      ]
     },
     "execution_count": 2,
     "metadata": {},
     "output_type": "execute_result"
    }
   ],
   "source": [
    "df=pd.read_csv('infy_stocks.csv')\n",
    "df.head()"
   ]
  },
  {
   "cell_type": "code",
   "execution_count": 3,
   "id": "c936449e",
   "metadata": {},
   "outputs": [
    {
     "data": {
      "text/html": [
       "<div>\n",
       "<style scoped>\n",
       "    .dataframe tbody tr th:only-of-type {\n",
       "        vertical-align: middle;\n",
       "    }\n",
       "\n",
       "    .dataframe tbody tr th {\n",
       "        vertical-align: top;\n",
       "    }\n",
       "\n",
       "    .dataframe thead th {\n",
       "        text-align: right;\n",
       "    }\n",
       "</style>\n",
       "<table border=\"1\" class=\"dataframe\">\n",
       "  <thead>\n",
       "    <tr style=\"text-align: right;\">\n",
       "      <th></th>\n",
       "      <th>Date</th>\n",
       "      <th>Open</th>\n",
       "      <th>High</th>\n",
       "      <th>Low</th>\n",
       "      <th>Close</th>\n",
       "      <th>Adj Close</th>\n",
       "      <th>Volume</th>\n",
       "    </tr>\n",
       "  </thead>\n",
       "  <tbody>\n",
       "    <tr>\n",
       "      <th>0</th>\n",
       "      <td>2001-01-02</td>\n",
       "      <td>2.878906</td>\n",
       "      <td>2.914063</td>\n",
       "      <td>2.710938</td>\n",
       "      <td>2.730469</td>\n",
       "      <td>1.931548</td>\n",
       "      <td>4483200</td>\n",
       "    </tr>\n",
       "    <tr>\n",
       "      <th>1</th>\n",
       "      <td>2001-01-03</td>\n",
       "      <td>2.705078</td>\n",
       "      <td>3.406250</td>\n",
       "      <td>2.691406</td>\n",
       "      <td>3.234375</td>\n",
       "      <td>2.288014</td>\n",
       "      <td>5856000</td>\n",
       "    </tr>\n",
       "    <tr>\n",
       "      <th>2</th>\n",
       "      <td>2001-01-04</td>\n",
       "      <td>3.193359</td>\n",
       "      <td>3.238281</td>\n",
       "      <td>3.031250</td>\n",
       "      <td>3.093750</td>\n",
       "      <td>2.188534</td>\n",
       "      <td>3811200</td>\n",
       "    </tr>\n",
       "    <tr>\n",
       "      <th>3</th>\n",
       "      <td>2001-01-05</td>\n",
       "      <td>3.148438</td>\n",
       "      <td>3.171875</td>\n",
       "      <td>2.937500</td>\n",
       "      <td>2.960938</td>\n",
       "      <td>2.094583</td>\n",
       "      <td>7414400</td>\n",
       "    </tr>\n",
       "    <tr>\n",
       "      <th>4</th>\n",
       "      <td>2001-01-08</td>\n",
       "      <td>2.953125</td>\n",
       "      <td>2.957031</td>\n",
       "      <td>2.767578</td>\n",
       "      <td>2.901855</td>\n",
       "      <td>2.052787</td>\n",
       "      <td>4326400</td>\n",
       "    </tr>\n",
       "  </tbody>\n",
       "</table>\n",
       "</div>"
      ],
      "text/plain": [
       "         Date      Open      High       Low     Close  Adj Close   Volume\n",
       "0  2001-01-02  2.878906  2.914063  2.710938  2.730469   1.931548  4483200\n",
       "1  2001-01-03  2.705078  3.406250  2.691406  3.234375   2.288014  5856000\n",
       "2  2001-01-04  3.193359  3.238281  3.031250  3.093750   2.188534  3811200\n",
       "3  2001-01-05  3.148438  3.171875  2.937500  2.960938   2.094583  7414400\n",
       "4  2001-01-08  2.953125  2.957031  2.767578  2.901855   2.052787  4326400"
      ]
     },
     "execution_count": 3,
     "metadata": {},
     "output_type": "execute_result"
    }
   ],
   "source": [
    "df1=df.copy()\n",
    "df1.head()"
   ]
  },
  {
   "cell_type": "code",
   "execution_count": 4,
   "id": "5ad74ed7",
   "metadata": {},
   "outputs": [
    {
     "data": {
      "text/html": [
       "<div>\n",
       "<style scoped>\n",
       "    .dataframe tbody tr th:only-of-type {\n",
       "        vertical-align: middle;\n",
       "    }\n",
       "\n",
       "    .dataframe tbody tr th {\n",
       "        vertical-align: top;\n",
       "    }\n",
       "\n",
       "    .dataframe thead th {\n",
       "        text-align: right;\n",
       "    }\n",
       "</style>\n",
       "<table border=\"1\" class=\"dataframe\">\n",
       "  <thead>\n",
       "    <tr style=\"text-align: right;\">\n",
       "      <th></th>\n",
       "      <th>publish_date</th>\n",
       "      <th>headline_category</th>\n",
       "      <th>headline_text</th>\n",
       "    </tr>\n",
       "  </thead>\n",
       "  <tbody>\n",
       "    <tr>\n",
       "      <th>0</th>\n",
       "      <td>20010102</td>\n",
       "      <td>unknown</td>\n",
       "      <td>Status quo will not be disturbed at Ayodhya; s...</td>\n",
       "    </tr>\n",
       "    <tr>\n",
       "      <th>1</th>\n",
       "      <td>20010102</td>\n",
       "      <td>unknown</td>\n",
       "      <td>Fissures in Hurriyat over Pak visit</td>\n",
       "    </tr>\n",
       "    <tr>\n",
       "      <th>2</th>\n",
       "      <td>20010102</td>\n",
       "      <td>unknown</td>\n",
       "      <td>America's unwanted heading for India?</td>\n",
       "    </tr>\n",
       "    <tr>\n",
       "      <th>3</th>\n",
       "      <td>20010102</td>\n",
       "      <td>unknown</td>\n",
       "      <td>For bigwigs; it is destination Goa</td>\n",
       "    </tr>\n",
       "    <tr>\n",
       "      <th>4</th>\n",
       "      <td>20010102</td>\n",
       "      <td>unknown</td>\n",
       "      <td>Extra buses to clear tourist traffic</td>\n",
       "    </tr>\n",
       "    <tr>\n",
       "      <th>5</th>\n",
       "      <td>20010102</td>\n",
       "      <td>unknown</td>\n",
       "      <td>Dilute the power of transfers; says Riberio</td>\n",
       "    </tr>\n",
       "    <tr>\n",
       "      <th>6</th>\n",
       "      <td>20010102</td>\n",
       "      <td>unknown</td>\n",
       "      <td>Focus shifts to teaching of Hindi</td>\n",
       "    </tr>\n",
       "    <tr>\n",
       "      <th>7</th>\n",
       "      <td>20010102</td>\n",
       "      <td>unknown</td>\n",
       "      <td>IT will become compulsory in schools</td>\n",
       "    </tr>\n",
       "    <tr>\n",
       "      <th>8</th>\n",
       "      <td>20010102</td>\n",
       "      <td>unknown</td>\n",
       "      <td>Move to stop freedom fighters' pension flayed</td>\n",
       "    </tr>\n",
       "    <tr>\n",
       "      <th>9</th>\n",
       "      <td>20010102</td>\n",
       "      <td>unknown</td>\n",
       "      <td>Gilani claims he applied for passport 2 years ago</td>\n",
       "    </tr>\n",
       "  </tbody>\n",
       "</table>\n",
       "</div>"
      ],
      "text/plain": [
       "   publish_date headline_category  \\\n",
       "0      20010102           unknown   \n",
       "1      20010102           unknown   \n",
       "2      20010102           unknown   \n",
       "3      20010102           unknown   \n",
       "4      20010102           unknown   \n",
       "5      20010102           unknown   \n",
       "6      20010102           unknown   \n",
       "7      20010102           unknown   \n",
       "8      20010102           unknown   \n",
       "9      20010102           unknown   \n",
       "\n",
       "                                       headline_text  \n",
       "0  Status quo will not be disturbed at Ayodhya; s...  \n",
       "1                Fissures in Hurriyat over Pak visit  \n",
       "2              America's unwanted heading for India?  \n",
       "3                 For bigwigs; it is destination Goa  \n",
       "4               Extra buses to clear tourist traffic  \n",
       "5        Dilute the power of transfers; says Riberio  \n",
       "6                  Focus shifts to teaching of Hindi  \n",
       "7               IT will become compulsory in schools  \n",
       "8      Move to stop freedom fighters' pension flayed  \n",
       "9  Gilani claims he applied for passport 2 years ago  "
      ]
     },
     "execution_count": 4,
     "metadata": {},
     "output_type": "execute_result"
    }
   ],
   "source": [
    "news_title=pd.read_csv('india-news-headlines.csv')\n",
    "news_title.head(10)"
   ]
  },
  {
   "cell_type": "code",
   "execution_count": 5,
   "id": "68a03ee2",
   "metadata": {},
   "outputs": [
    {
     "data": {
      "text/plain": [
       "(3424067, 3)"
      ]
     },
     "execution_count": 5,
     "metadata": {},
     "output_type": "execute_result"
    }
   ],
   "source": [
    "news_title.shape"
   ]
  },
  {
   "cell_type": "code",
   "execution_count": 6,
   "id": "9fd7ff8f",
   "metadata": {},
   "outputs": [
    {
     "data": {
      "text/plain": [
       "(5094, 7)"
      ]
     },
     "execution_count": 6,
     "metadata": {},
     "output_type": "execute_result"
    }
   ],
   "source": [
    "df1.shape"
   ]
  },
  {
   "cell_type": "markdown",
   "id": "90ec7050",
   "metadata": {},
   "source": [
    "### FEAUTRE ENGINEERING"
   ]
  },
  {
   "cell_type": "code",
   "execution_count": 7,
   "id": "3e9151ca",
   "metadata": {},
   "outputs": [
    {
     "data": {
      "text/plain": [
       "(5094, 3424067)"
      ]
     },
     "execution_count": 7,
     "metadata": {},
     "output_type": "execute_result"
    }
   ],
   "source": [
    "len(df1),len(news_title)"
   ]
  },
  {
   "cell_type": "code",
   "execution_count": 8,
   "id": "23f674f3",
   "metadata": {},
   "outputs": [
    {
     "data": {
      "text/html": [
       "<div>\n",
       "<style scoped>\n",
       "    .dataframe tbody tr th:only-of-type {\n",
       "        vertical-align: middle;\n",
       "    }\n",
       "\n",
       "    .dataframe tbody tr th {\n",
       "        vertical-align: top;\n",
       "    }\n",
       "\n",
       "    .dataframe thead th {\n",
       "        text-align: right;\n",
       "    }\n",
       "</style>\n",
       "<table border=\"1\" class=\"dataframe\">\n",
       "  <thead>\n",
       "    <tr style=\"text-align: right;\">\n",
       "      <th></th>\n",
       "      <th>Open</th>\n",
       "      <th>High</th>\n",
       "      <th>Low</th>\n",
       "      <th>Close</th>\n",
       "      <th>Adj Close</th>\n",
       "      <th>Volume</th>\n",
       "    </tr>\n",
       "  </thead>\n",
       "  <tbody>\n",
       "    <tr>\n",
       "      <th>count</th>\n",
       "      <td>5094.000000</td>\n",
       "      <td>5094.000000</td>\n",
       "      <td>5094.000000</td>\n",
       "      <td>5094.000000</td>\n",
       "      <td>5094.000000</td>\n",
       "      <td>5.094000e+03</td>\n",
       "    </tr>\n",
       "    <tr>\n",
       "      <th>mean</th>\n",
       "      <td>6.423301</td>\n",
       "      <td>6.491481</td>\n",
       "      <td>6.354288</td>\n",
       "      <td>6.424466</td>\n",
       "      <td>5.433062</td>\n",
       "      <td>1.225933e+07</td>\n",
       "    </tr>\n",
       "    <tr>\n",
       "      <th>std</th>\n",
       "      <td>3.131143</td>\n",
       "      <td>3.145358</td>\n",
       "      <td>3.115879</td>\n",
       "      <td>3.132031</td>\n",
       "      <td>3.200801</td>\n",
       "      <td>9.389762e+06</td>\n",
       "    </tr>\n",
       "    <tr>\n",
       "      <th>min</th>\n",
       "      <td>1.015938</td>\n",
       "      <td>1.070938</td>\n",
       "      <td>0.956250</td>\n",
       "      <td>1.031875</td>\n",
       "      <td>0.730778</td>\n",
       "      <td>3.360000e+05</td>\n",
       "    </tr>\n",
       "    <tr>\n",
       "      <th>25%</th>\n",
       "      <td>4.374531</td>\n",
       "      <td>4.425312</td>\n",
       "      <td>4.313125</td>\n",
       "      <td>4.370312</td>\n",
       "      <td>3.207041</td>\n",
       "      <td>6.629950e+06</td>\n",
       "    </tr>\n",
       "    <tr>\n",
       "      <th>50%</th>\n",
       "      <td>6.536875</td>\n",
       "      <td>6.597500</td>\n",
       "      <td>6.476250</td>\n",
       "      <td>6.549375</td>\n",
       "      <td>5.097252</td>\n",
       "      <td>1.004820e+07</td>\n",
       "    </tr>\n",
       "    <tr>\n",
       "      <th>75%</th>\n",
       "      <td>8.220000</td>\n",
       "      <td>8.299062</td>\n",
       "      <td>8.150000</td>\n",
       "      <td>8.220000</td>\n",
       "      <td>7.002832</td>\n",
       "      <td>1.525480e+07</td>\n",
       "    </tr>\n",
       "    <tr>\n",
       "      <th>max</th>\n",
       "      <td>19.219999</td>\n",
       "      <td>19.370001</td>\n",
       "      <td>19.160000</td>\n",
       "      <td>19.330000</td>\n",
       "      <td>19.330000</td>\n",
       "      <td>1.475912e+08</td>\n",
       "    </tr>\n",
       "  </tbody>\n",
       "</table>\n",
       "</div>"
      ],
      "text/plain": [
       "              Open         High          Low        Close    Adj Close  \\\n",
       "count  5094.000000  5094.000000  5094.000000  5094.000000  5094.000000   \n",
       "mean      6.423301     6.491481     6.354288     6.424466     5.433062   \n",
       "std       3.131143     3.145358     3.115879     3.132031     3.200801   \n",
       "min       1.015938     1.070938     0.956250     1.031875     0.730778   \n",
       "25%       4.374531     4.425312     4.313125     4.370312     3.207041   \n",
       "50%       6.536875     6.597500     6.476250     6.549375     5.097252   \n",
       "75%       8.220000     8.299062     8.150000     8.220000     7.002832   \n",
       "max      19.219999    19.370001    19.160000    19.330000    19.330000   \n",
       "\n",
       "             Volume  \n",
       "count  5.094000e+03  \n",
       "mean   1.225933e+07  \n",
       "std    9.389762e+06  \n",
       "min    3.360000e+05  \n",
       "25%    6.629950e+06  \n",
       "50%    1.004820e+07  \n",
       "75%    1.525480e+07  \n",
       "max    1.475912e+08  "
      ]
     },
     "execution_count": 8,
     "metadata": {},
     "output_type": "execute_result"
    }
   ],
   "source": [
    "df1.describe()"
   ]
  },
  {
   "cell_type": "code",
   "execution_count": 9,
   "id": "6452026e",
   "metadata": {},
   "outputs": [
    {
     "name": "stdout",
     "output_type": "stream",
     "text": [
      "<class 'pandas.core.frame.DataFrame'>\n",
      "RangeIndex: 5094 entries, 0 to 5093\n",
      "Data columns (total 7 columns):\n",
      " #   Column     Non-Null Count  Dtype  \n",
      "---  ------     --------------  -----  \n",
      " 0   Date       5094 non-null   object \n",
      " 1   Open       5094 non-null   float64\n",
      " 2   High       5094 non-null   float64\n",
      " 3   Low        5094 non-null   float64\n",
      " 4   Close      5094 non-null   float64\n",
      " 5   Adj Close  5094 non-null   float64\n",
      " 6   Volume     5094 non-null   int64  \n",
      "dtypes: float64(5), int64(1), object(1)\n",
      "memory usage: 278.7+ KB\n"
     ]
    }
   ],
   "source": [
    "df1.info()"
   ]
  },
  {
   "cell_type": "code",
   "execution_count": 10,
   "id": "5a2f96f1",
   "metadata": {},
   "outputs": [
    {
     "data": {
      "text/html": [
       "<div>\n",
       "<style scoped>\n",
       "    .dataframe tbody tr th:only-of-type {\n",
       "        vertical-align: middle;\n",
       "    }\n",
       "\n",
       "    .dataframe tbody tr th {\n",
       "        vertical-align: top;\n",
       "    }\n",
       "\n",
       "    .dataframe thead th {\n",
       "        text-align: right;\n",
       "    }\n",
       "</style>\n",
       "<table border=\"1\" class=\"dataframe\">\n",
       "  <thead>\n",
       "    <tr style=\"text-align: right;\">\n",
       "      <th></th>\n",
       "      <th>Date</th>\n",
       "      <th>Open</th>\n",
       "      <th>High</th>\n",
       "      <th>Low</th>\n",
       "      <th>Close</th>\n",
       "      <th>Adj Close</th>\n",
       "      <th>Volume</th>\n",
       "    </tr>\n",
       "  </thead>\n",
       "  <tbody>\n",
       "    <tr>\n",
       "      <th>0</th>\n",
       "      <td>False</td>\n",
       "      <td>False</td>\n",
       "      <td>False</td>\n",
       "      <td>False</td>\n",
       "      <td>False</td>\n",
       "      <td>False</td>\n",
       "      <td>False</td>\n",
       "    </tr>\n",
       "    <tr>\n",
       "      <th>1</th>\n",
       "      <td>False</td>\n",
       "      <td>False</td>\n",
       "      <td>False</td>\n",
       "      <td>False</td>\n",
       "      <td>False</td>\n",
       "      <td>False</td>\n",
       "      <td>False</td>\n",
       "    </tr>\n",
       "    <tr>\n",
       "      <th>2</th>\n",
       "      <td>False</td>\n",
       "      <td>False</td>\n",
       "      <td>False</td>\n",
       "      <td>False</td>\n",
       "      <td>False</td>\n",
       "      <td>False</td>\n",
       "      <td>False</td>\n",
       "    </tr>\n",
       "    <tr>\n",
       "      <th>3</th>\n",
       "      <td>False</td>\n",
       "      <td>False</td>\n",
       "      <td>False</td>\n",
       "      <td>False</td>\n",
       "      <td>False</td>\n",
       "      <td>False</td>\n",
       "      <td>False</td>\n",
       "    </tr>\n",
       "    <tr>\n",
       "      <th>4</th>\n",
       "      <td>False</td>\n",
       "      <td>False</td>\n",
       "      <td>False</td>\n",
       "      <td>False</td>\n",
       "      <td>False</td>\n",
       "      <td>False</td>\n",
       "      <td>False</td>\n",
       "    </tr>\n",
       "    <tr>\n",
       "      <th>...</th>\n",
       "      <td>...</td>\n",
       "      <td>...</td>\n",
       "      <td>...</td>\n",
       "      <td>...</td>\n",
       "      <td>...</td>\n",
       "      <td>...</td>\n",
       "      <td>...</td>\n",
       "    </tr>\n",
       "    <tr>\n",
       "      <th>5089</th>\n",
       "      <td>False</td>\n",
       "      <td>False</td>\n",
       "      <td>False</td>\n",
       "      <td>False</td>\n",
       "      <td>False</td>\n",
       "      <td>False</td>\n",
       "      <td>False</td>\n",
       "    </tr>\n",
       "    <tr>\n",
       "      <th>5090</th>\n",
       "      <td>False</td>\n",
       "      <td>False</td>\n",
       "      <td>False</td>\n",
       "      <td>False</td>\n",
       "      <td>False</td>\n",
       "      <td>False</td>\n",
       "      <td>False</td>\n",
       "    </tr>\n",
       "    <tr>\n",
       "      <th>5091</th>\n",
       "      <td>False</td>\n",
       "      <td>False</td>\n",
       "      <td>False</td>\n",
       "      <td>False</td>\n",
       "      <td>False</td>\n",
       "      <td>False</td>\n",
       "      <td>False</td>\n",
       "    </tr>\n",
       "    <tr>\n",
       "      <th>5092</th>\n",
       "      <td>False</td>\n",
       "      <td>False</td>\n",
       "      <td>False</td>\n",
       "      <td>False</td>\n",
       "      <td>False</td>\n",
       "      <td>False</td>\n",
       "      <td>False</td>\n",
       "    </tr>\n",
       "    <tr>\n",
       "      <th>5093</th>\n",
       "      <td>False</td>\n",
       "      <td>False</td>\n",
       "      <td>False</td>\n",
       "      <td>False</td>\n",
       "      <td>False</td>\n",
       "      <td>False</td>\n",
       "      <td>False</td>\n",
       "    </tr>\n",
       "  </tbody>\n",
       "</table>\n",
       "<p>5094 rows × 7 columns</p>\n",
       "</div>"
      ],
      "text/plain": [
       "       Date   Open   High    Low  Close  Adj Close  Volume\n",
       "0     False  False  False  False  False      False   False\n",
       "1     False  False  False  False  False      False   False\n",
       "2     False  False  False  False  False      False   False\n",
       "3     False  False  False  False  False      False   False\n",
       "4     False  False  False  False  False      False   False\n",
       "...     ...    ...    ...    ...    ...        ...     ...\n",
       "5089  False  False  False  False  False      False   False\n",
       "5090  False  False  False  False  False      False   False\n",
       "5091  False  False  False  False  False      False   False\n",
       "5092  False  False  False  False  False      False   False\n",
       "5093  False  False  False  False  False      False   False\n",
       "\n",
       "[5094 rows x 7 columns]"
      ]
     },
     "execution_count": 10,
     "metadata": {},
     "output_type": "execute_result"
    }
   ],
   "source": [
    "df1.isnull()"
   ]
  },
  {
   "cell_type": "code",
   "execution_count": 11,
   "id": "44877203",
   "metadata": {},
   "outputs": [
    {
     "data": {
      "text/plain": [
       "Date         False\n",
       "Open         False\n",
       "High         False\n",
       "Low          False\n",
       "Close        False\n",
       "Adj Close    False\n",
       "Volume       False\n",
       "dtype: bool"
      ]
     },
     "execution_count": 11,
     "metadata": {},
     "output_type": "execute_result"
    }
   ],
   "source": [
    "df1.isna().any()"
   ]
  },
  {
   "cell_type": "code",
   "execution_count": 12,
   "id": "1de0a357",
   "metadata": {},
   "outputs": [
    {
     "data": {
      "text/plain": [
       "publish_date         False\n",
       "headline_category    False\n",
       "headline_text        False\n",
       "dtype: bool"
      ]
     },
     "execution_count": 12,
     "metadata": {},
     "output_type": "execute_result"
    }
   ],
   "source": [
    "news_title.isna().any()"
   ]
  },
  {
   "cell_type": "markdown",
   "id": "33e71115",
   "metadata": {},
   "source": [
    "## STOCK PRICE DATA"
   ]
  },
  {
   "cell_type": "code",
   "execution_count": 13,
   "id": "298ce113",
   "metadata": {},
   "outputs": [],
   "source": [
    "df1 = df1.drop_duplicates()"
   ]
  },
  {
   "cell_type": "code",
   "execution_count": 14,
   "id": "956e912f",
   "metadata": {},
   "outputs": [
    {
     "data": {
      "text/plain": [
       "Date          object\n",
       "Open         float64\n",
       "High         float64\n",
       "Low          float64\n",
       "Close        float64\n",
       "Adj Close    float64\n",
       "Volume         int64\n",
       "dtype: object"
      ]
     },
     "execution_count": 14,
     "metadata": {},
     "output_type": "execute_result"
    }
   ],
   "source": [
    "df1.dtypes"
   ]
  },
  {
   "cell_type": "code",
   "execution_count": 15,
   "id": "20bb3bbb",
   "metadata": {},
   "outputs": [],
   "source": [
    "# converting datatype of column 'Date' from object type to 'datetime' datatype.\n",
    "df1['Date']=pd.to_datetime(df1['Date']).dt.normalize()"
   ]
  },
  {
   "cell_type": "code",
   "execution_count": 16,
   "id": "c50bebed",
   "metadata": {},
   "outputs": [
    {
     "data": {
      "text/plain": [
       "Date         datetime64[ns]\n",
       "Open                float64\n",
       "High                float64\n",
       "Low                 float64\n",
       "Close               float64\n",
       "Adj Close           float64\n",
       "Volume                int64\n",
       "dtype: object"
      ]
     },
     "execution_count": 16,
     "metadata": {},
     "output_type": "execute_result"
    }
   ],
   "source": [
    "df1.dtypes"
   ]
  },
  {
   "cell_type": "code",
   "execution_count": 17,
   "id": "7aaa0df2",
   "metadata": {},
   "outputs": [
    {
     "data": {
      "text/html": [
       "<div>\n",
       "<style scoped>\n",
       "    .dataframe tbody tr th:only-of-type {\n",
       "        vertical-align: middle;\n",
       "    }\n",
       "\n",
       "    .dataframe tbody tr th {\n",
       "        vertical-align: top;\n",
       "    }\n",
       "\n",
       "    .dataframe thead th {\n",
       "        text-align: right;\n",
       "    }\n",
       "</style>\n",
       "<table border=\"1\" class=\"dataframe\">\n",
       "  <thead>\n",
       "    <tr style=\"text-align: right;\">\n",
       "      <th></th>\n",
       "      <th>Date</th>\n",
       "      <th>Open</th>\n",
       "      <th>High</th>\n",
       "      <th>Low</th>\n",
       "      <th>Close</th>\n",
       "      <th>Adj Close</th>\n",
       "      <th>Volume</th>\n",
       "    </tr>\n",
       "  </thead>\n",
       "  <tbody>\n",
       "    <tr>\n",
       "      <th>0</th>\n",
       "      <td>2001-01-02</td>\n",
       "      <td>2.878906</td>\n",
       "      <td>2.914063</td>\n",
       "      <td>2.710938</td>\n",
       "      <td>2.730469</td>\n",
       "      <td>1.931548</td>\n",
       "      <td>4483200</td>\n",
       "    </tr>\n",
       "    <tr>\n",
       "      <th>1</th>\n",
       "      <td>2001-01-03</td>\n",
       "      <td>2.705078</td>\n",
       "      <td>3.406250</td>\n",
       "      <td>2.691406</td>\n",
       "      <td>3.234375</td>\n",
       "      <td>2.288014</td>\n",
       "      <td>5856000</td>\n",
       "    </tr>\n",
       "    <tr>\n",
       "      <th>2</th>\n",
       "      <td>2001-01-04</td>\n",
       "      <td>3.193359</td>\n",
       "      <td>3.238281</td>\n",
       "      <td>3.031250</td>\n",
       "      <td>3.093750</td>\n",
       "      <td>2.188534</td>\n",
       "      <td>3811200</td>\n",
       "    </tr>\n",
       "    <tr>\n",
       "      <th>3</th>\n",
       "      <td>2001-01-05</td>\n",
       "      <td>3.148438</td>\n",
       "      <td>3.171875</td>\n",
       "      <td>2.937500</td>\n",
       "      <td>2.960938</td>\n",
       "      <td>2.094583</td>\n",
       "      <td>7414400</td>\n",
       "    </tr>\n",
       "    <tr>\n",
       "      <th>4</th>\n",
       "      <td>2001-01-08</td>\n",
       "      <td>2.953125</td>\n",
       "      <td>2.957031</td>\n",
       "      <td>2.767578</td>\n",
       "      <td>2.901855</td>\n",
       "      <td>2.052787</td>\n",
       "      <td>4326400</td>\n",
       "    </tr>\n",
       "  </tbody>\n",
       "</table>\n",
       "</div>"
      ],
      "text/plain": [
       "        Date      Open      High       Low     Close  Adj Close   Volume\n",
       "0 2001-01-02  2.878906  2.914063  2.710938  2.730469   1.931548  4483200\n",
       "1 2001-01-03  2.705078  3.406250  2.691406  3.234375   2.288014  5856000\n",
       "2 2001-01-04  3.193359  3.238281  3.031250  3.093750   2.188534  3811200\n",
       "3 2001-01-05  3.148438  3.171875  2.937500  2.960938   2.094583  7414400\n",
       "4 2001-01-08  2.953125  2.957031  2.767578  2.901855   2.052787  4326400"
      ]
     },
     "execution_count": 17,
     "metadata": {},
     "output_type": "execute_result"
    }
   ],
   "source": [
    "df1.head()"
   ]
  },
  {
   "cell_type": "code",
   "execution_count": 18,
   "id": "745d7cc7",
   "metadata": {},
   "outputs": [],
   "source": [
    "# filtering the important columns required\n",
    "df1=df1.filter(['Date', 'Close', 'Open', 'High', 'Low', 'Volume'])"
   ]
  },
  {
   "cell_type": "code",
   "execution_count": 19,
   "id": "d4c8836b",
   "metadata": {},
   "outputs": [
    {
     "data": {
      "text/html": [
       "<div>\n",
       "<style scoped>\n",
       "    .dataframe tbody tr th:only-of-type {\n",
       "        vertical-align: middle;\n",
       "    }\n",
       "\n",
       "    .dataframe tbody tr th {\n",
       "        vertical-align: top;\n",
       "    }\n",
       "\n",
       "    .dataframe thead th {\n",
       "        text-align: right;\n",
       "    }\n",
       "</style>\n",
       "<table border=\"1\" class=\"dataframe\">\n",
       "  <thead>\n",
       "    <tr style=\"text-align: right;\">\n",
       "      <th></th>\n",
       "      <th>Close</th>\n",
       "      <th>Open</th>\n",
       "      <th>High</th>\n",
       "      <th>Low</th>\n",
       "      <th>Volume</th>\n",
       "    </tr>\n",
       "    <tr>\n",
       "      <th>Date</th>\n",
       "      <th></th>\n",
       "      <th></th>\n",
       "      <th></th>\n",
       "      <th></th>\n",
       "      <th></th>\n",
       "    </tr>\n",
       "  </thead>\n",
       "  <tbody>\n",
       "    <tr>\n",
       "      <th>2001-01-02</th>\n",
       "      <td>2.730469</td>\n",
       "      <td>2.878906</td>\n",
       "      <td>2.914063</td>\n",
       "      <td>2.710938</td>\n",
       "      <td>4483200</td>\n",
       "    </tr>\n",
       "    <tr>\n",
       "      <th>2001-01-03</th>\n",
       "      <td>3.234375</td>\n",
       "      <td>2.705078</td>\n",
       "      <td>3.406250</td>\n",
       "      <td>2.691406</td>\n",
       "      <td>5856000</td>\n",
       "    </tr>\n",
       "    <tr>\n",
       "      <th>2001-01-04</th>\n",
       "      <td>3.093750</td>\n",
       "      <td>3.193359</td>\n",
       "      <td>3.238281</td>\n",
       "      <td>3.031250</td>\n",
       "      <td>3811200</td>\n",
       "    </tr>\n",
       "    <tr>\n",
       "      <th>2001-01-05</th>\n",
       "      <td>2.960938</td>\n",
       "      <td>3.148438</td>\n",
       "      <td>3.171875</td>\n",
       "      <td>2.937500</td>\n",
       "      <td>7414400</td>\n",
       "    </tr>\n",
       "    <tr>\n",
       "      <th>2001-01-08</th>\n",
       "      <td>2.901855</td>\n",
       "      <td>2.953125</td>\n",
       "      <td>2.957031</td>\n",
       "      <td>2.767578</td>\n",
       "      <td>4326400</td>\n",
       "    </tr>\n",
       "  </tbody>\n",
       "</table>\n",
       "</div>"
      ],
      "text/plain": [
       "               Close      Open      High       Low   Volume\n",
       "Date                                                       \n",
       "2001-01-02  2.730469  2.878906  2.914063  2.710938  4483200\n",
       "2001-01-03  3.234375  2.705078  3.406250  2.691406  5856000\n",
       "2001-01-04  3.093750  3.193359  3.238281  3.031250  3811200\n",
       "2001-01-05  2.960938  3.148438  3.171875  2.937500  7414400\n",
       "2001-01-08  2.901855  2.953125  2.957031  2.767578  4326400"
      ]
     },
     "execution_count": 19,
     "metadata": {},
     "output_type": "execute_result"
    }
   ],
   "source": [
    "df1.set_index('Date',inplace=True)\n",
    "df1.head()"
   ]
  },
  {
   "cell_type": "code",
   "execution_count": 20,
   "id": "c9a9a115",
   "metadata": {},
   "outputs": [
    {
     "data": {
      "text/html": [
       "<div>\n",
       "<style scoped>\n",
       "    .dataframe tbody tr th:only-of-type {\n",
       "        vertical-align: middle;\n",
       "    }\n",
       "\n",
       "    .dataframe tbody tr th {\n",
       "        vertical-align: top;\n",
       "    }\n",
       "\n",
       "    .dataframe thead th {\n",
       "        text-align: right;\n",
       "    }\n",
       "</style>\n",
       "<table border=\"1\" class=\"dataframe\">\n",
       "  <thead>\n",
       "    <tr style=\"text-align: right;\">\n",
       "      <th></th>\n",
       "      <th>Close</th>\n",
       "      <th>Open</th>\n",
       "      <th>High</th>\n",
       "      <th>Low</th>\n",
       "      <th>Volume</th>\n",
       "    </tr>\n",
       "    <tr>\n",
       "      <th>Date</th>\n",
       "      <th></th>\n",
       "      <th></th>\n",
       "      <th></th>\n",
       "      <th></th>\n",
       "      <th></th>\n",
       "    </tr>\n",
       "  </thead>\n",
       "  <tbody>\n",
       "    <tr>\n",
       "      <th>2001-01-02</th>\n",
       "      <td>2.730469</td>\n",
       "      <td>2.878906</td>\n",
       "      <td>2.914063</td>\n",
       "      <td>2.710938</td>\n",
       "      <td>4483200</td>\n",
       "    </tr>\n",
       "    <tr>\n",
       "      <th>2001-01-03</th>\n",
       "      <td>3.234375</td>\n",
       "      <td>2.705078</td>\n",
       "      <td>3.406250</td>\n",
       "      <td>2.691406</td>\n",
       "      <td>5856000</td>\n",
       "    </tr>\n",
       "    <tr>\n",
       "      <th>2001-01-04</th>\n",
       "      <td>3.093750</td>\n",
       "      <td>3.193359</td>\n",
       "      <td>3.238281</td>\n",
       "      <td>3.031250</td>\n",
       "      <td>3811200</td>\n",
       "    </tr>\n",
       "    <tr>\n",
       "      <th>2001-01-05</th>\n",
       "      <td>2.960938</td>\n",
       "      <td>3.148438</td>\n",
       "      <td>3.171875</td>\n",
       "      <td>2.937500</td>\n",
       "      <td>7414400</td>\n",
       "    </tr>\n",
       "    <tr>\n",
       "      <th>2001-01-08</th>\n",
       "      <td>2.901855</td>\n",
       "      <td>2.953125</td>\n",
       "      <td>2.957031</td>\n",
       "      <td>2.767578</td>\n",
       "      <td>4326400</td>\n",
       "    </tr>\n",
       "    <tr>\n",
       "      <th>...</th>\n",
       "      <td>...</td>\n",
       "      <td>...</td>\n",
       "      <td>...</td>\n",
       "      <td>...</td>\n",
       "      <td>...</td>\n",
       "    </tr>\n",
       "    <tr>\n",
       "      <th>2021-03-26</th>\n",
       "      <td>18.719999</td>\n",
       "      <td>18.530001</td>\n",
       "      <td>18.719999</td>\n",
       "      <td>18.299999</td>\n",
       "      <td>13425300</td>\n",
       "    </tr>\n",
       "    <tr>\n",
       "      <th>2021-03-29</th>\n",
       "      <td>18.430000</td>\n",
       "      <td>18.700001</td>\n",
       "      <td>18.740000</td>\n",
       "      <td>18.360001</td>\n",
       "      <td>8066300</td>\n",
       "    </tr>\n",
       "    <tr>\n",
       "      <th>2021-03-30</th>\n",
       "      <td>18.799999</td>\n",
       "      <td>18.790001</td>\n",
       "      <td>18.910000</td>\n",
       "      <td>18.750000</td>\n",
       "      <td>7845100</td>\n",
       "    </tr>\n",
       "    <tr>\n",
       "      <th>2021-03-31</th>\n",
       "      <td>18.719999</td>\n",
       "      <td>18.750000</td>\n",
       "      <td>18.830000</td>\n",
       "      <td>18.660000</td>\n",
       "      <td>8991400</td>\n",
       "    </tr>\n",
       "    <tr>\n",
       "      <th>2021-04-01</th>\n",
       "      <td>19.010000</td>\n",
       "      <td>18.920000</td>\n",
       "      <td>19.040001</td>\n",
       "      <td>18.870001</td>\n",
       "      <td>4213100</td>\n",
       "    </tr>\n",
       "  </tbody>\n",
       "</table>\n",
       "<p>5094 rows × 5 columns</p>\n",
       "</div>"
      ],
      "text/plain": [
       "                Close       Open       High        Low    Volume\n",
       "Date                                                            \n",
       "2001-01-02   2.730469   2.878906   2.914063   2.710938   4483200\n",
       "2001-01-03   3.234375   2.705078   3.406250   2.691406   5856000\n",
       "2001-01-04   3.093750   3.193359   3.238281   3.031250   3811200\n",
       "2001-01-05   2.960938   3.148438   3.171875   2.937500   7414400\n",
       "2001-01-08   2.901855   2.953125   2.957031   2.767578   4326400\n",
       "...               ...        ...        ...        ...       ...\n",
       "2021-03-26  18.719999  18.530001  18.719999  18.299999  13425300\n",
       "2021-03-29  18.430000  18.700001  18.740000  18.360001   8066300\n",
       "2021-03-30  18.799999  18.790001  18.910000  18.750000   7845100\n",
       "2021-03-31  18.719999  18.750000  18.830000  18.660000   8991400\n",
       "2021-04-01  19.010000  18.920000  19.040001  18.870001   4213100\n",
       "\n",
       "[5094 rows x 5 columns]"
      ]
     },
     "execution_count": 20,
     "metadata": {},
     "output_type": "execute_result"
    }
   ],
   "source": [
    "df1.sort_index(ascending=True,axis=0)"
   ]
  },
  {
   "cell_type": "markdown",
   "id": "0252ab85",
   "metadata": {},
   "source": [
    "### Plotting to get insights from stocks data"
   ]
  },
  {
   "cell_type": "code",
   "execution_count": 21,
   "id": "03f1395e",
   "metadata": {},
   "outputs": [
    {
     "data": {
      "text/plain": [
       "Text(0, 0.5, 'Close')"
      ]
     },
     "execution_count": 21,
     "metadata": {},
     "output_type": "execute_result"
    },
    {
     "data": {
      "image/png": "[encoded data removed]",
      "text/plain": [
       "<Figure size 720x720 with 1 Axes>"
      ]
     },
     "metadata": {
      "needs_background": "light"
     },
     "output_type": "display_data"
    }
   ],
   "source": [
    "import matplotlib.pyplot as plt\n",
    "plt.figure(figsize=(10, 10))\n",
    "df1['Close'].plot()\n",
    "plt.ylabel('Close')"
   ]
  },
  {
   "cell_type": "code",
   "execution_count": 22,
   "id": "2e5b7197",
   "metadata": {},
   "outputs": [
    {
     "data": {
      "text/plain": [
       "<matplotlib.legend.Legend at 0x1fc41d6a4f0>"
      ]
     },
     "execution_count": 22,
     "metadata": {},
     "output_type": "execute_result"
    },
    {
     "data": {
      "image/png": "[encoded data removed]",
      "text/plain": [
       "<Figure size 720x432 with 1 Axes>"
      ]
     },
     "metadata": {
      "needs_background": "light"
     },
     "output_type": "display_data"
    }
   ],
   "source": [
    "#Plotting moving average\n",
    "close = df1['Close']\n",
    "mean = close.rolling(window = 50).mean()\n",
    "std = close.rolling(window = 50).std()\n",
    "\n",
    "plt.figure(figsize=(10, 6))\n",
    "df1['Close'].plot(color = 'b', label = 'Close')\n",
    "mean.plot(color = 'r', label = 'Rolling Mean')\n",
    "std.plot(label = 'Rolling Standard Deviation')\n",
    "plt.legend()"
   ]
  },
  {
   "cell_type": "code",
   "execution_count": 23,
   "id": "155194b9",
   "metadata": {},
   "outputs": [
    {
     "data": {
      "text/plain": [
       "Text(0.5, 1.0, 'Returns')"
      ]
     },
     "execution_count": 23,
     "metadata": {},
     "output_type": "execute_result"
    },
    {
     "data": {
      "image/png": "[encoded data removed]",
      "text/plain": [
       "<Figure size 720x432 with 1 Axes>"
      ]
     },
     "metadata": {
      "needs_background": "light"
     },
     "output_type": "display_data"
    }
   ],
   "source": [
    "#Plotting returns\n",
    "returns = close / close.shift(1) - 1\n",
    "\n",
    "plt.figure(figsize = (10,6))\n",
    "returns.plot(label='Return', color = 'g')\n",
    "plt.title(\"Returns\")"
   ]
  },
  {
   "cell_type": "markdown",
   "id": "0327b1d1",
   "metadata": {},
   "source": [
    "## News headlines data\n",
    "### We'll perform same feature engineering tasks as above for news headlines data."
   ]
  },
  {
   "cell_type": "code",
   "execution_count": 24,
   "id": "0a0439f2",
   "metadata": {},
   "outputs": [],
   "source": [
    "news_title=news_title.drop_duplicates()"
   ]
  },
  {
   "cell_type": "code",
   "execution_count": 25,
   "id": "c5899efe",
   "metadata": {},
   "outputs": [
    {
     "data": {
      "text/plain": [
       "(3399876, 3)"
      ]
     },
     "execution_count": 25,
     "metadata": {},
     "output_type": "execute_result"
    }
   ],
   "source": [
    "news_title.shape"
   ]
  },
  {
   "cell_type": "code",
   "execution_count": 26,
   "id": "f322c14c",
   "metadata": {},
   "outputs": [
    {
     "data": {
      "text/plain": [
       "publish_date          int64\n",
       "headline_category    object\n",
       "headline_text        object\n",
       "dtype: object"
      ]
     },
     "execution_count": 26,
     "metadata": {},
     "output_type": "execute_result"
    }
   ],
   "source": [
    "news_title.dtypes"
   ]
  },
  {
   "cell_type": "code",
   "execution_count": 27,
   "id": "47eb0586",
   "metadata": {},
   "outputs": [
    {
     "data": {
      "text/html": [
       "<div>\n",
       "<style scoped>\n",
       "    .dataframe tbody tr th:only-of-type {\n",
       "        vertical-align: middle;\n",
       "    }\n",
       "\n",
       "    .dataframe tbody tr th {\n",
       "        vertical-align: top;\n",
       "    }\n",
       "\n",
       "    .dataframe thead th {\n",
       "        text-align: right;\n",
       "    }\n",
       "</style>\n",
       "<table border=\"1\" class=\"dataframe\">\n",
       "  <thead>\n",
       "    <tr style=\"text-align: right;\">\n",
       "      <th></th>\n",
       "      <th>publish_date</th>\n",
       "      <th>headline_category</th>\n",
       "      <th>headline_text</th>\n",
       "    </tr>\n",
       "  </thead>\n",
       "  <tbody>\n",
       "    <tr>\n",
       "      <th>0</th>\n",
       "      <td>20010102</td>\n",
       "      <td>unknown</td>\n",
       "      <td>Status quo will not be disturbed at Ayodhya; s...</td>\n",
       "    </tr>\n",
       "    <tr>\n",
       "      <th>1</th>\n",
       "      <td>20010102</td>\n",
       "      <td>unknown</td>\n",
       "      <td>Fissures in Hurriyat over Pak visit</td>\n",
       "    </tr>\n",
       "    <tr>\n",
       "      <th>2</th>\n",
       "      <td>20010102</td>\n",
       "      <td>unknown</td>\n",
       "      <td>America's unwanted heading for India?</td>\n",
       "    </tr>\n",
       "    <tr>\n",
       "      <th>3</th>\n",
       "      <td>20010102</td>\n",
       "      <td>unknown</td>\n",
       "      <td>For bigwigs; it is destination Goa</td>\n",
       "    </tr>\n",
       "    <tr>\n",
       "      <th>4</th>\n",
       "      <td>20010102</td>\n",
       "      <td>unknown</td>\n",
       "      <td>Extra buses to clear tourist traffic</td>\n",
       "    </tr>\n",
       "  </tbody>\n",
       "</table>\n",
       "</div>"
      ],
      "text/plain": [
       "   publish_date headline_category  \\\n",
       "0      20010102           unknown   \n",
       "1      20010102           unknown   \n",
       "2      20010102           unknown   \n",
       "3      20010102           unknown   \n",
       "4      20010102           unknown   \n",
       "\n",
       "                                       headline_text  \n",
       "0  Status quo will not be disturbed at Ayodhya; s...  \n",
       "1                Fissures in Hurriyat over Pak visit  \n",
       "2              America's unwanted heading for India?  \n",
       "3                 For bigwigs; it is destination Goa  \n",
       "4               Extra buses to clear tourist traffic  "
      ]
     },
     "execution_count": 27,
     "metadata": {},
     "output_type": "execute_result"
    }
   ],
   "source": [
    "news_title.head(5)"
   ]
  },
  {
   "cell_type": "code",
   "execution_count": 28,
   "id": "a3b1e689",
   "metadata": {},
   "outputs": [
    {
     "data": {
      "text/html": [
       "<div>\n",
       "<style scoped>\n",
       "    .dataframe tbody tr th:only-of-type {\n",
       "        vertical-align: middle;\n",
       "    }\n",
       "\n",
       "    .dataframe tbody tr th {\n",
       "        vertical-align: top;\n",
       "    }\n",
       "\n",
       "    .dataframe thead th {\n",
       "        text-align: right;\n",
       "    }\n",
       "</style>\n",
       "<table border=\"1\" class=\"dataframe\">\n",
       "  <thead>\n",
       "    <tr style=\"text-align: right;\">\n",
       "      <th></th>\n",
       "      <th>publish_date</th>\n",
       "      <th>headline_category</th>\n",
       "      <th>headline_text</th>\n",
       "    </tr>\n",
       "  </thead>\n",
       "  <tbody>\n",
       "    <tr>\n",
       "      <th>0</th>\n",
       "      <td>1970-01-01</td>\n",
       "      <td>unknown</td>\n",
       "      <td>Status quo will not be disturbed at Ayodhya; s...</td>\n",
       "    </tr>\n",
       "    <tr>\n",
       "      <th>1</th>\n",
       "      <td>1970-01-01</td>\n",
       "      <td>unknown</td>\n",
       "      <td>Fissures in Hurriyat over Pak visit</td>\n",
       "    </tr>\n",
       "    <tr>\n",
       "      <th>2</th>\n",
       "      <td>1970-01-01</td>\n",
       "      <td>unknown</td>\n",
       "      <td>America's unwanted heading for India?</td>\n",
       "    </tr>\n",
       "  </tbody>\n",
       "</table>\n",
       "</div>"
      ],
      "text/plain": [
       "  publish_date headline_category  \\\n",
       "0   1970-01-01           unknown   \n",
       "1   1970-01-01           unknown   \n",
       "2   1970-01-01           unknown   \n",
       "\n",
       "                                       headline_text  \n",
       "0  Status quo will not be disturbed at Ayodhya; s...  \n",
       "1                Fissures in Hurriyat over Pak visit  \n",
       "2              America's unwanted heading for India?  "
      ]
     },
     "execution_count": 28,
     "metadata": {},
     "output_type": "execute_result"
    }
   ],
   "source": [
    "# Converting \"Publish date\" from integer value to datetime datatype \n",
    "news_title['publish_date']=pd.to_datetime(news_title['publish_date']).dt.normalize()\n",
    "news_title.head(3)"
   ]
  },
  {
   "cell_type": "code",
   "execution_count": 29,
   "id": "7ecd44ea",
   "metadata": {},
   "outputs": [
    {
     "data": {
      "text/html": [
       "<div>\n",
       "<style scoped>\n",
       "    .dataframe tbody tr th:only-of-type {\n",
       "        vertical-align: middle;\n",
       "    }\n",
       "\n",
       "    .dataframe tbody tr th {\n",
       "        vertical-align: top;\n",
       "    }\n",
       "\n",
       "    .dataframe thead th {\n",
       "        text-align: right;\n",
       "    }\n",
       "</style>\n",
       "<table border=\"1\" class=\"dataframe\">\n",
       "  <thead>\n",
       "    <tr style=\"text-align: right;\">\n",
       "      <th></th>\n",
       "      <th>publish_date</th>\n",
       "      <th>headline_category</th>\n",
       "      <th>headline_text</th>\n",
       "    </tr>\n",
       "  </thead>\n",
       "  <tbody>\n",
       "    <tr>\n",
       "      <th>3424062</th>\n",
       "      <td>1970-01-01</td>\n",
       "      <td>city.jodhpur</td>\n",
       "      <td>Covid-19: Despite dip in cases; Rajasthan amon...</td>\n",
       "    </tr>\n",
       "    <tr>\n",
       "      <th>3424063</th>\n",
       "      <td>1970-01-01</td>\n",
       "      <td>city.udaipur</td>\n",
       "      <td>Covid-19: Despite dip in cases; Rajasthan amon...</td>\n",
       "    </tr>\n",
       "    <tr>\n",
       "      <th>3424064</th>\n",
       "      <td>1970-01-01</td>\n",
       "      <td>city.ajmer</td>\n",
       "      <td>Covid-19: Despite dip in cases; Rajasthan amon...</td>\n",
       "    </tr>\n",
       "    <tr>\n",
       "      <th>3424065</th>\n",
       "      <td>1970-01-01</td>\n",
       "      <td>removed</td>\n",
       "      <td>Govt extends deadline for use of FASTag till F...</td>\n",
       "    </tr>\n",
       "    <tr>\n",
       "      <th>3424066</th>\n",
       "      <td>1970-01-01</td>\n",
       "      <td>entertainment.bengali.movies.news</td>\n",
       "      <td>Celebs plan to party safely and responsibly on...</td>\n",
       "    </tr>\n",
       "  </tbody>\n",
       "</table>\n",
       "</div>"
      ],
      "text/plain": [
       "        publish_date                  headline_category  \\\n",
       "3424062   1970-01-01                       city.jodhpur   \n",
       "3424063   1970-01-01                       city.udaipur   \n",
       "3424064   1970-01-01                         city.ajmer   \n",
       "3424065   1970-01-01                            removed   \n",
       "3424066   1970-01-01  entertainment.bengali.movies.news   \n",
       "\n",
       "                                             headline_text  \n",
       "3424062  Covid-19: Despite dip in cases; Rajasthan amon...  \n",
       "3424063  Covid-19: Despite dip in cases; Rajasthan amon...  \n",
       "3424064  Covid-19: Despite dip in cases; Rajasthan amon...  \n",
       "3424065  Govt extends deadline for use of FASTag till F...  \n",
       "3424066  Celebs plan to party safely and responsibly on...  "
      ]
     },
     "execution_count": 29,
     "metadata": {},
     "output_type": "execute_result"
    }
   ],
   "source": [
    "news_title.tail()"
   ]
  },
  {
   "cell_type": "code",
   "execution_count": 31,
   "id": "0a0052bb",
   "metadata": {},
   "outputs": [
    {
     "data": {
      "text/plain": [
       "publish_date         datetime64[ns]\n",
       "headline_category            object\n",
       "headline_text                object\n",
       "dtype: object"
      ]
     },
     "execution_count": 31,
     "metadata": {},
     "output_type": "execute_result"
    }
   ],
   "source": [
    "news_title.dtypes"
   ]
  },
  {
   "cell_type": "code",
   "execution_count": 32,
   "id": "8eb34cce",
   "metadata": {},
   "outputs": [],
   "source": [
    "news_title.set_index('publish_date',inplace=True)"
   ]
  },
  {
   "cell_type": "code",
   "execution_count": 33,
   "id": "9bf3f13b",
   "metadata": {},
   "outputs": [
    {
     "data": {
      "text/html": [
       "<div>\n",
       "<style scoped>\n",
       "    .dataframe tbody tr th:only-of-type {\n",
       "        vertical-align: middle;\n",
       "    }\n",
       "\n",
       "    .dataframe tbody tr th {\n",
       "        vertical-align: top;\n",
       "    }\n",
       "\n",
       "    .dataframe thead th {\n",
       "        text-align: right;\n",
       "    }\n",
       "</style>\n",
       "<table border=\"1\" class=\"dataframe\">\n",
       "  <thead>\n",
       "    <tr style=\"text-align: right;\">\n",
       "      <th></th>\n",
       "      <th>headline_category</th>\n",
       "      <th>headline_text</th>\n",
       "    </tr>\n",
       "    <tr>\n",
       "      <th>publish_date</th>\n",
       "      <th></th>\n",
       "      <th></th>\n",
       "    </tr>\n",
       "  </thead>\n",
       "  <tbody>\n",
       "    <tr>\n",
       "      <th>1970-01-01</th>\n",
       "      <td>unknown</td>\n",
       "      <td>Status quo will not be disturbed at Ayodhya; s...</td>\n",
       "    </tr>\n",
       "    <tr>\n",
       "      <th>1970-01-01</th>\n",
       "      <td>unknown</td>\n",
       "      <td>Fissures in Hurriyat over Pak visit</td>\n",
       "    </tr>\n",
       "    <tr>\n",
       "      <th>1970-01-01</th>\n",
       "      <td>unknown</td>\n",
       "      <td>America's unwanted heading for India?</td>\n",
       "    </tr>\n",
       "    <tr>\n",
       "      <th>1970-01-01</th>\n",
       "      <td>unknown</td>\n",
       "      <td>For bigwigs; it is destination Goa</td>\n",
       "    </tr>\n",
       "    <tr>\n",
       "      <th>1970-01-01</th>\n",
       "      <td>unknown</td>\n",
       "      <td>Extra buses to clear tourist traffic</td>\n",
       "    </tr>\n",
       "  </tbody>\n",
       "</table>\n",
       "</div>"
      ],
      "text/plain": [
       "             headline_category  \\\n",
       "publish_date                     \n",
       "1970-01-01             unknown   \n",
       "1970-01-01             unknown   \n",
       "1970-01-01             unknown   \n",
       "1970-01-01             unknown   \n",
       "1970-01-01             unknown   \n",
       "\n",
       "                                                  headline_text  \n",
       "publish_date                                                     \n",
       "1970-01-01    Status quo will not be disturbed at Ayodhya; s...  \n",
       "1970-01-01                  Fissures in Hurriyat over Pak visit  \n",
       "1970-01-01                America's unwanted heading for India?  \n",
       "1970-01-01                   For bigwigs; it is destination Goa  \n",
       "1970-01-01                 Extra buses to clear tourist traffic  "
      ]
     },
     "execution_count": 33,
     "metadata": {},
     "output_type": "execute_result"
    }
   ],
   "source": [
    "news_title.head()"
   ]
  },
  {
   "cell_type": "code",
   "execution_count": 34,
   "id": "837c03cf",
   "metadata": {},
   "outputs": [
    {
     "data": {
      "text/plain": [
       "False"
      ]
     },
     "execution_count": 34,
     "metadata": {},
     "output_type": "execute_result"
    }
   ],
   "source": [
    "# TO DETECT WHETHER headlin_category COLUMNS CONTAINS ONLY unknown VALUES (RETURNS TRUE) ELSE RETURNS FALSE \n",
    "(news_title['headline_category'] == 'unknown').all()"
   ]
  },
  {
   "cell_type": "code",
   "execution_count": 35,
   "id": "5f900359",
   "metadata": {},
   "outputs": [
    {
     "data": {
      "text/html": [
       "<div>\n",
       "<style scoped>\n",
       "    .dataframe tbody tr th:only-of-type {\n",
       "        vertical-align: middle;\n",
       "    }\n",
       "\n",
       "    .dataframe tbody tr th {\n",
       "        vertical-align: top;\n",
       "    }\n",
       "\n",
       "    .dataframe thead th {\n",
       "        text-align: right;\n",
       "    }\n",
       "</style>\n",
       "<table border=\"1\" class=\"dataframe\">\n",
       "  <thead>\n",
       "    <tr style=\"text-align: right;\">\n",
       "      <th></th>\n",
       "      <th>headline_category</th>\n",
       "      <th>headline_text</th>\n",
       "    </tr>\n",
       "    <tr>\n",
       "      <th>publish_date</th>\n",
       "      <th></th>\n",
       "      <th></th>\n",
       "    </tr>\n",
       "  </thead>\n",
       "  <tbody>\n",
       "    <tr>\n",
       "      <th>1970-01-01</th>\n",
       "      <td>city.jodhpur</td>\n",
       "      <td>Covid-19: Despite dip in cases; Rajasthan amon...</td>\n",
       "    </tr>\n",
       "    <tr>\n",
       "      <th>1970-01-01</th>\n",
       "      <td>city.udaipur</td>\n",
       "      <td>Covid-19: Despite dip in cases; Rajasthan amon...</td>\n",
       "    </tr>\n",
       "    <tr>\n",
       "      <th>1970-01-01</th>\n",
       "      <td>city.ajmer</td>\n",
       "      <td>Covid-19: Despite dip in cases; Rajasthan amon...</td>\n",
       "    </tr>\n",
       "    <tr>\n",
       "      <th>1970-01-01</th>\n",
       "      <td>removed</td>\n",
       "      <td>Govt extends deadline for use of FASTag till F...</td>\n",
       "    </tr>\n",
       "    <tr>\n",
       "      <th>1970-01-01</th>\n",
       "      <td>entertainment.bengali.movies.news</td>\n",
       "      <td>Celebs plan to party safely and responsibly on...</td>\n",
       "    </tr>\n",
       "  </tbody>\n",
       "</table>\n",
       "</div>"
      ],
      "text/plain": [
       "                              headline_category  \\\n",
       "publish_date                                      \n",
       "1970-01-01                         city.jodhpur   \n",
       "1970-01-01                         city.udaipur   \n",
       "1970-01-01                           city.ajmer   \n",
       "1970-01-01                              removed   \n",
       "1970-01-01    entertainment.bengali.movies.news   \n",
       "\n",
       "                                                  headline_text  \n",
       "publish_date                                                     \n",
       "1970-01-01    Covid-19: Despite dip in cases; Rajasthan amon...  \n",
       "1970-01-01    Covid-19: Despite dip in cases; Rajasthan amon...  \n",
       "1970-01-01    Covid-19: Despite dip in cases; Rajasthan amon...  \n",
       "1970-01-01    Govt extends deadline for use of FASTag till F...  \n",
       "1970-01-01    Celebs plan to party safely and responsibly on...  "
      ]
     },
     "execution_count": 35,
     "metadata": {},
     "output_type": "execute_result"
    }
   ],
   "source": [
    "news_title.tail()"
   ]
  },
  {
   "cell_type": "code",
   "execution_count": 36,
   "id": "13902c54",
   "metadata": {},
   "outputs": [
    {
     "data": {
      "text/plain": [
       "(3399876, 2)"
      ]
     },
     "execution_count": 36,
     "metadata": {},
     "output_type": "execute_result"
    }
   ],
   "source": [
    "news_title.shape"
   ]
  },
  {
   "cell_type": "code",
   "execution_count": 37,
   "id": "451a12cc",
   "metadata": {},
   "outputs": [
    {
     "data": {
      "text/html": [
       "<div>\n",
       "<style scoped>\n",
       "    .dataframe tbody tr th:only-of-type {\n",
       "        vertical-align: middle;\n",
       "    }\n",
       "\n",
       "    .dataframe tbody tr th {\n",
       "        vertical-align: top;\n",
       "    }\n",
       "\n",
       "    .dataframe thead th {\n",
       "        text-align: right;\n",
       "    }\n",
       "</style>\n",
       "<table border=\"1\" class=\"dataframe\">\n",
       "  <thead>\n",
       "    <tr style=\"text-align: right;\">\n",
       "      <th></th>\n",
       "      <th>headline_category</th>\n",
       "      <th>headline_text</th>\n",
       "    </tr>\n",
       "    <tr>\n",
       "      <th>publish_date</th>\n",
       "      <th></th>\n",
       "      <th></th>\n",
       "    </tr>\n",
       "  </thead>\n",
       "  <tbody>\n",
       "    <tr>\n",
       "      <th>1970-01-01</th>\n",
       "      <td>unknown</td>\n",
       "      <td>Status quo will not be disturbed at Ayodhya; s...</td>\n",
       "    </tr>\n",
       "    <tr>\n",
       "      <th>1970-01-01</th>\n",
       "      <td>unknown</td>\n",
       "      <td>Fissures in Hurriyat over Pak visit</td>\n",
       "    </tr>\n",
       "    <tr>\n",
       "      <th>1970-01-01</th>\n",
       "      <td>unknown</td>\n",
       "      <td>America's unwanted heading for India?</td>\n",
       "    </tr>\n",
       "    <tr>\n",
       "      <th>1970-01-01</th>\n",
       "      <td>unknown</td>\n",
       "      <td>For bigwigs; it is destination Goa</td>\n",
       "    </tr>\n",
       "    <tr>\n",
       "      <th>1970-01-01</th>\n",
       "      <td>unknown</td>\n",
       "      <td>Extra buses to clear tourist traffic</td>\n",
       "    </tr>\n",
       "    <tr>\n",
       "      <th>...</th>\n",
       "      <td>...</td>\n",
       "      <td>...</td>\n",
       "    </tr>\n",
       "    <tr>\n",
       "      <th>1970-01-01</th>\n",
       "      <td>city.jodhpur</td>\n",
       "      <td>Covid-19: Despite dip in cases; Rajasthan amon...</td>\n",
       "    </tr>\n",
       "    <tr>\n",
       "      <th>1970-01-01</th>\n",
       "      <td>city.udaipur</td>\n",
       "      <td>Covid-19: Despite dip in cases; Rajasthan amon...</td>\n",
       "    </tr>\n",
       "    <tr>\n",
       "      <th>1970-01-01</th>\n",
       "      <td>city.ajmer</td>\n",
       "      <td>Covid-19: Despite dip in cases; Rajasthan amon...</td>\n",
       "    </tr>\n",
       "    <tr>\n",
       "      <th>1970-01-01</th>\n",
       "      <td>removed</td>\n",
       "      <td>Govt extends deadline for use of FASTag till F...</td>\n",
       "    </tr>\n",
       "    <tr>\n",
       "      <th>1970-01-01</th>\n",
       "      <td>entertainment.bengali.movies.news</td>\n",
       "      <td>Celebs plan to party safely and responsibly on...</td>\n",
       "    </tr>\n",
       "  </tbody>\n",
       "</table>\n",
       "<p>3399876 rows × 2 columns</p>\n",
       "</div>"
      ],
      "text/plain": [
       "                              headline_category  \\\n",
       "publish_date                                      \n",
       "1970-01-01                              unknown   \n",
       "1970-01-01                              unknown   \n",
       "1970-01-01                              unknown   \n",
       "1970-01-01                              unknown   \n",
       "1970-01-01                              unknown   \n",
       "...                                         ...   \n",
       "1970-01-01                         city.jodhpur   \n",
       "1970-01-01                         city.udaipur   \n",
       "1970-01-01                           city.ajmer   \n",
       "1970-01-01                              removed   \n",
       "1970-01-01    entertainment.bengali.movies.news   \n",
       "\n",
       "                                                  headline_text  \n",
       "publish_date                                                     \n",
       "1970-01-01    Status quo will not be disturbed at Ayodhya; s...  \n",
       "1970-01-01                  Fissures in Hurriyat over Pak visit  \n",
       "1970-01-01                America's unwanted heading for India?  \n",
       "1970-01-01                   For bigwigs; it is destination Goa  \n",
       "1970-01-01                 Extra buses to clear tourist traffic  \n",
       "...                                                         ...  \n",
       "1970-01-01    Covid-19: Despite dip in cases; Rajasthan amon...  \n",
       "1970-01-01    Covid-19: Despite dip in cases; Rajasthan amon...  \n",
       "1970-01-01    Covid-19: Despite dip in cases; Rajasthan amon...  \n",
       "1970-01-01    Govt extends deadline for use of FASTag till F...  \n",
       "1970-01-01    Celebs plan to party safely and responsibly on...  \n",
       "\n",
       "[3399876 rows x 2 columns]"
      ]
     },
     "execution_count": 37,
     "metadata": {},
     "output_type": "execute_result"
    }
   ],
   "source": [
    "news_title.sort_index(ascending=True,axis=0)"
   ]
  },
  {
   "cell_type": "code",
   "execution_count": 38,
   "id": "d2f303be",
   "metadata": {},
   "outputs": [
    {
     "data": {
      "text/plain": [
       "headline_category    object\n",
       "headline_text        object\n",
       "dtype: object"
      ]
     },
     "execution_count": 38,
     "metadata": {},
     "output_type": "execute_result"
    }
   ],
   "source": [
    "news_title.dtypes"
   ]
  },
  {
   "cell_type": "code",
   "execution_count": 39,
   "id": "222d801f",
   "metadata": {},
   "outputs": [],
   "source": [
    "news_title.drop('headline_category',axis=1,inplace=True)"
   ]
  },
  {
   "cell_type": "markdown",
   "id": "ed5d1fa1",
   "metadata": {},
   "source": [
    "## COMBINED STOCK DATA"
   ]
  },
  {
   "cell_type": "markdown",
   "id": "e612ea48",
   "metadata": {},
   "source": [
    "### Both the two dataFrames indexes needs to be merged as they are not the same."
   ]
  },
  {
   "cell_type": "code",
   "execution_count": 40,
   "id": "8da3f0ee",
   "metadata": {},
   "outputs": [],
   "source": [
    "df1 = df1.reset_index()"
   ]
  },
  {
   "cell_type": "code",
   "execution_count": 41,
   "id": "ee6fb6d2",
   "metadata": {},
   "outputs": [],
   "source": [
    "news_title = news_title.reset_index()"
   ]
  },
  {
   "cell_type": "code",
   "execution_count": 42,
   "id": "22652b2a",
   "metadata": {},
   "outputs": [],
   "source": [
    "stock=pd.concat([df1,news_title],axis=1)"
   ]
  },
  {
   "cell_type": "code",
   "execution_count": 43,
   "id": "b5df35d8",
   "metadata": {},
   "outputs": [
    {
     "data": {
      "text/html": [
       "<div>\n",
       "<style scoped>\n",
       "    .dataframe tbody tr th:only-of-type {\n",
       "        vertical-align: middle;\n",
       "    }\n",
       "\n",
       "    .dataframe tbody tr th {\n",
       "        vertical-align: top;\n",
       "    }\n",
       "\n",
       "    .dataframe thead th {\n",
       "        text-align: right;\n",
       "    }\n",
       "</style>\n",
       "<table border=\"1\" class=\"dataframe\">\n",
       "  <thead>\n",
       "    <tr style=\"text-align: right;\">\n",
       "      <th></th>\n",
       "      <th>Date</th>\n",
       "      <th>Close</th>\n",
       "      <th>Open</th>\n",
       "      <th>High</th>\n",
       "      <th>Low</th>\n",
       "      <th>Volume</th>\n",
       "      <th>publish_date</th>\n",
       "      <th>headline_text</th>\n",
       "    </tr>\n",
       "  </thead>\n",
       "  <tbody>\n",
       "    <tr>\n",
       "      <th>0</th>\n",
       "      <td>2001-01-02</td>\n",
       "      <td>2.730469</td>\n",
       "      <td>2.878906</td>\n",
       "      <td>2.914063</td>\n",
       "      <td>2.710938</td>\n",
       "      <td>4483200.0</td>\n",
       "      <td>1970-01-01</td>\n",
       "      <td>Status quo will not be disturbed at Ayodhya; s...</td>\n",
       "    </tr>\n",
       "    <tr>\n",
       "      <th>1</th>\n",
       "      <td>2001-01-03</td>\n",
       "      <td>3.234375</td>\n",
       "      <td>2.705078</td>\n",
       "      <td>3.406250</td>\n",
       "      <td>2.691406</td>\n",
       "      <td>5856000.0</td>\n",
       "      <td>1970-01-01</td>\n",
       "      <td>Fissures in Hurriyat over Pak visit</td>\n",
       "    </tr>\n",
       "    <tr>\n",
       "      <th>2</th>\n",
       "      <td>2001-01-04</td>\n",
       "      <td>3.093750</td>\n",
       "      <td>3.193359</td>\n",
       "      <td>3.238281</td>\n",
       "      <td>3.031250</td>\n",
       "      <td>3811200.0</td>\n",
       "      <td>1970-01-01</td>\n",
       "      <td>America's unwanted heading for India?</td>\n",
       "    </tr>\n",
       "    <tr>\n",
       "      <th>3</th>\n",
       "      <td>2001-01-05</td>\n",
       "      <td>2.960938</td>\n",
       "      <td>3.148438</td>\n",
       "      <td>3.171875</td>\n",
       "      <td>2.937500</td>\n",
       "      <td>7414400.0</td>\n",
       "      <td>1970-01-01</td>\n",
       "      <td>For bigwigs; it is destination Goa</td>\n",
       "    </tr>\n",
       "    <tr>\n",
       "      <th>4</th>\n",
       "      <td>2001-01-08</td>\n",
       "      <td>2.901855</td>\n",
       "      <td>2.953125</td>\n",
       "      <td>2.957031</td>\n",
       "      <td>2.767578</td>\n",
       "      <td>4326400.0</td>\n",
       "      <td>1970-01-01</td>\n",
       "      <td>Extra buses to clear tourist traffic</td>\n",
       "    </tr>\n",
       "    <tr>\n",
       "      <th>5</th>\n",
       "      <td>2001-01-09</td>\n",
       "      <td>3.031250</td>\n",
       "      <td>3.000000</td>\n",
       "      <td>3.089844</td>\n",
       "      <td>2.845703</td>\n",
       "      <td>2934400.0</td>\n",
       "      <td>1970-01-01</td>\n",
       "      <td>Dilute the power of transfers; says Riberio</td>\n",
       "    </tr>\n",
       "    <tr>\n",
       "      <th>6</th>\n",
       "      <td>2001-01-10</td>\n",
       "      <td>2.960938</td>\n",
       "      <td>2.937500</td>\n",
       "      <td>3.050781</td>\n",
       "      <td>2.871094</td>\n",
       "      <td>4118400.0</td>\n",
       "      <td>1970-01-01</td>\n",
       "      <td>Focus shifts to teaching of Hindi</td>\n",
       "    </tr>\n",
       "    <tr>\n",
       "      <th>7</th>\n",
       "      <td>2001-01-11</td>\n",
       "      <td>3.064453</td>\n",
       "      <td>2.992188</td>\n",
       "      <td>3.218750</td>\n",
       "      <td>2.890625</td>\n",
       "      <td>3251200.0</td>\n",
       "      <td>1970-01-01</td>\n",
       "      <td>IT will become compulsory in schools</td>\n",
       "    </tr>\n",
       "    <tr>\n",
       "      <th>8</th>\n",
       "      <td>2001-01-12</td>\n",
       "      <td>3.156250</td>\n",
       "      <td>3.156250</td>\n",
       "      <td>3.167969</td>\n",
       "      <td>3.031250</td>\n",
       "      <td>2668800.0</td>\n",
       "      <td>1970-01-01</td>\n",
       "      <td>Move to stop freedom fighters' pension flayed</td>\n",
       "    </tr>\n",
       "    <tr>\n",
       "      <th>9</th>\n",
       "      <td>2001-01-16</td>\n",
       "      <td>3.529297</td>\n",
       "      <td>3.185547</td>\n",
       "      <td>3.593750</td>\n",
       "      <td>3.155273</td>\n",
       "      <td>5491200.0</td>\n",
       "      <td>1970-01-01</td>\n",
       "      <td>Gilani claims he applied for passport 2 years ago</td>\n",
       "    </tr>\n",
       "  </tbody>\n",
       "</table>\n",
       "</div>"
      ],
      "text/plain": [
       "        Date     Close      Open      High       Low     Volume publish_date  \\\n",
       "0 2001-01-02  2.730469  2.878906  2.914063  2.710938  4483200.0   1970-01-01   \n",
       "1 2001-01-03  3.234375  2.705078  3.406250  2.691406  5856000.0   1970-01-01   \n",
       "2 2001-01-04  3.093750  3.193359  3.238281  3.031250  3811200.0   1970-01-01   \n",
       "3 2001-01-05  2.960938  3.148438  3.171875  2.937500  7414400.0   1970-01-01   \n",
       "4 2001-01-08  2.901855  2.953125  2.957031  2.767578  4326400.0   1970-01-01   \n",
       "5 2001-01-09  3.031250  3.000000  3.089844  2.845703  2934400.0   1970-01-01   \n",
       "6 2001-01-10  2.960938  2.937500  3.050781  2.871094  4118400.0   1970-01-01   \n",
       "7 2001-01-11  3.064453  2.992188  3.218750  2.890625  3251200.0   1970-01-01   \n",
       "8 2001-01-12  3.156250  3.156250  3.167969  3.031250  2668800.0   1970-01-01   \n",
       "9 2001-01-16  3.529297  3.185547  3.593750  3.155273  5491200.0   1970-01-01   \n",
       "\n",
       "                                       headline_text  \n",
       "0  Status quo will not be disturbed at Ayodhya; s...  \n",
       "1                Fissures in Hurriyat over Pak visit  \n",
       "2              America's unwanted heading for India?  \n",
       "3                 For bigwigs; it is destination Goa  \n",
       "4               Extra buses to clear tourist traffic  \n",
       "5        Dilute the power of transfers; says Riberio  \n",
       "6                  Focus shifts to teaching of Hindi  \n",
       "7               IT will become compulsory in schools  \n",
       "8      Move to stop freedom fighters' pension flayed  \n",
       "9  Gilani claims he applied for passport 2 years ago  "
      ]
     },
     "execution_count": 43,
     "metadata": {},
     "output_type": "execute_result"
    }
   ],
   "source": [
    "stock.head(10)"
   ]
  },
  {
   "cell_type": "code",
   "execution_count": 44,
   "id": "c704141c",
   "metadata": {},
   "outputs": [],
   "source": [
    "stock.dropna(axis=0, inplace=True)"
   ]
  },
  {
   "cell_type": "code",
   "execution_count": 45,
   "id": "27374b57",
   "metadata": {},
   "outputs": [],
   "source": [
    "stock.drop('publish_date',axis=1,inplace=True)"
   ]
  },
  {
   "cell_type": "code",
   "execution_count": 46,
   "id": "48112cdc",
   "metadata": {},
   "outputs": [],
   "source": [
    "stock.set_index('Date',inplace=True)"
   ]
  },
  {
   "cell_type": "code",
   "execution_count": 47,
   "id": "665deac3",
   "metadata": {},
   "outputs": [
    {
     "data": {
      "text/plain": [
       "(5094, 6)"
      ]
     },
     "execution_count": 47,
     "metadata": {},
     "output_type": "execute_result"
    }
   ],
   "source": [
    "stock.shape"
   ]
  },
  {
   "cell_type": "code",
   "execution_count": 48,
   "id": "ecab2ba5",
   "metadata": {},
   "outputs": [
    {
     "data": {
      "text/html": [
       "<div>\n",
       "<style scoped>\n",
       "    .dataframe tbody tr th:only-of-type {\n",
       "        vertical-align: middle;\n",
       "    }\n",
       "\n",
       "    .dataframe tbody tr th {\n",
       "        vertical-align: top;\n",
       "    }\n",
       "\n",
       "    .dataframe thead th {\n",
       "        text-align: right;\n",
       "    }\n",
       "</style>\n",
       "<table border=\"1\" class=\"dataframe\">\n",
       "  <thead>\n",
       "    <tr style=\"text-align: right;\">\n",
       "      <th></th>\n",
       "      <th>Close</th>\n",
       "      <th>Open</th>\n",
       "      <th>High</th>\n",
       "      <th>Low</th>\n",
       "      <th>Volume</th>\n",
       "      <th>headline_text</th>\n",
       "    </tr>\n",
       "    <tr>\n",
       "      <th>Date</th>\n",
       "      <th></th>\n",
       "      <th></th>\n",
       "      <th></th>\n",
       "      <th></th>\n",
       "      <th></th>\n",
       "      <th></th>\n",
       "    </tr>\n",
       "  </thead>\n",
       "  <tbody>\n",
       "    <tr>\n",
       "      <th>2001-01-02</th>\n",
       "      <td>2.730469</td>\n",
       "      <td>2.878906</td>\n",
       "      <td>2.914063</td>\n",
       "      <td>2.710938</td>\n",
       "      <td>4483200.0</td>\n",
       "      <td>Status quo will not be disturbed at Ayodhya; s...</td>\n",
       "    </tr>\n",
       "    <tr>\n",
       "      <th>2001-01-03</th>\n",
       "      <td>3.234375</td>\n",
       "      <td>2.705078</td>\n",
       "      <td>3.406250</td>\n",
       "      <td>2.691406</td>\n",
       "      <td>5856000.0</td>\n",
       "      <td>Fissures in Hurriyat over Pak visit</td>\n",
       "    </tr>\n",
       "    <tr>\n",
       "      <th>2001-01-04</th>\n",
       "      <td>3.093750</td>\n",
       "      <td>3.193359</td>\n",
       "      <td>3.238281</td>\n",
       "      <td>3.031250</td>\n",
       "      <td>3811200.0</td>\n",
       "      <td>America's unwanted heading for India?</td>\n",
       "    </tr>\n",
       "  </tbody>\n",
       "</table>\n",
       "</div>"
      ],
      "text/plain": [
       "               Close      Open      High       Low     Volume  \\\n",
       "Date                                                            \n",
       "2001-01-02  2.730469  2.878906  2.914063  2.710938  4483200.0   \n",
       "2001-01-03  3.234375  2.705078  3.406250  2.691406  5856000.0   \n",
       "2001-01-04  3.093750  3.193359  3.238281  3.031250  3811200.0   \n",
       "\n",
       "                                                headline_text  \n",
       "Date                                                           \n",
       "2001-01-02  Status quo will not be disturbed at Ayodhya; s...  \n",
       "2001-01-03                Fissures in Hurriyat over Pak visit  \n",
       "2001-01-04              America's unwanted heading for India?  "
      ]
     },
     "execution_count": 48,
     "metadata": {},
     "output_type": "execute_result"
    }
   ],
   "source": [
    "stock.head(3)"
   ]
  },
  {
   "cell_type": "markdown",
   "id": "ebbc89fd",
   "metadata": {},
   "source": [
    "#        TEXTUAL ANALYSIS\n",
    "## CALCULATING SENTIMENT SCORES"
   ]
  },
  {
   "cell_type": "code",
   "execution_count": 49,
   "id": "bd8a40ad",
   "metadata": {},
   "outputs": [
    {
     "data": {
      "text/html": [
       "<div>\n",
       "<style scoped>\n",
       "    .dataframe tbody tr th:only-of-type {\n",
       "        vertical-align: middle;\n",
       "    }\n",
       "\n",
       "    .dataframe tbody tr th {\n",
       "        vertical-align: top;\n",
       "    }\n",
       "\n",
       "    .dataframe thead th {\n",
       "        text-align: right;\n",
       "    }\n",
       "</style>\n",
       "<table border=\"1\" class=\"dataframe\">\n",
       "  <thead>\n",
       "    <tr style=\"text-align: right;\">\n",
       "      <th></th>\n",
       "      <th>Close</th>\n",
       "      <th>Open</th>\n",
       "      <th>High</th>\n",
       "      <th>Low</th>\n",
       "      <th>Volume</th>\n",
       "      <th>headline_text</th>\n",
       "      <th>negative</th>\n",
       "      <th>positive</th>\n",
       "      <th>neutral</th>\n",
       "      <th>compound</th>\n",
       "    </tr>\n",
       "    <tr>\n",
       "      <th>Date</th>\n",
       "      <th></th>\n",
       "      <th></th>\n",
       "      <th></th>\n",
       "      <th></th>\n",
       "      <th></th>\n",
       "      <th></th>\n",
       "      <th></th>\n",
       "      <th></th>\n",
       "      <th></th>\n",
       "      <th></th>\n",
       "    </tr>\n",
       "  </thead>\n",
       "  <tbody>\n",
       "    <tr>\n",
       "      <th>2001-01-02</th>\n",
       "      <td>2.730469</td>\n",
       "      <td>2.878906</td>\n",
       "      <td>2.914063</td>\n",
       "      <td>2.710938</td>\n",
       "      <td>4483200.0</td>\n",
       "      <td>Status quo will not be disturbed at Ayodhya; s...</td>\n",
       "      <td></td>\n",
       "      <td></td>\n",
       "      <td></td>\n",
       "      <td></td>\n",
       "    </tr>\n",
       "    <tr>\n",
       "      <th>2001-01-03</th>\n",
       "      <td>3.234375</td>\n",
       "      <td>2.705078</td>\n",
       "      <td>3.406250</td>\n",
       "      <td>2.691406</td>\n",
       "      <td>5856000.0</td>\n",
       "      <td>Fissures in Hurriyat over Pak visit</td>\n",
       "      <td></td>\n",
       "      <td></td>\n",
       "      <td></td>\n",
       "      <td></td>\n",
       "    </tr>\n",
       "    <tr>\n",
       "      <th>2001-01-04</th>\n",
       "      <td>3.093750</td>\n",
       "      <td>3.193359</td>\n",
       "      <td>3.238281</td>\n",
       "      <td>3.031250</td>\n",
       "      <td>3811200.0</td>\n",
       "      <td>America's unwanted heading for India?</td>\n",
       "      <td></td>\n",
       "      <td></td>\n",
       "      <td></td>\n",
       "      <td></td>\n",
       "    </tr>\n",
       "  </tbody>\n",
       "</table>\n",
       "</div>"
      ],
      "text/plain": [
       "               Close      Open      High       Low     Volume  \\\n",
       "Date                                                            \n",
       "2001-01-02  2.730469  2.878906  2.914063  2.710938  4483200.0   \n",
       "2001-01-03  3.234375  2.705078  3.406250  2.691406  5856000.0   \n",
       "2001-01-04  3.093750  3.193359  3.238281  3.031250  3811200.0   \n",
       "\n",
       "                                                headline_text negative  \\\n",
       "Date                                                                     \n",
       "2001-01-02  Status quo will not be disturbed at Ayodhya; s...            \n",
       "2001-01-03                Fissures in Hurriyat over Pak visit            \n",
       "2001-01-04              America's unwanted heading for India?            \n",
       "\n",
       "           positive neutral compound  \n",
       "Date                                  \n",
       "2001-01-02                            \n",
       "2001-01-03                            \n",
       "2001-01-04                            "
      ]
     },
     "execution_count": 49,
     "metadata": {},
     "output_type": "execute_result"
    }
   ],
   "source": [
    "stock['negative']=''\n",
    "stock['positive']=''\n",
    "stock['neutral']=''\n",
    "stock['compound']=''\n",
    "stock.head(3)"
   ]
  },
  {
   "cell_type": "code",
   "execution_count": 50,
   "id": "3eb826ed",
   "metadata": {},
   "outputs": [
    {
     "data": {
      "text/html": [
       "<div>\n",
       "<style scoped>\n",
       "    .dataframe tbody tr th:only-of-type {\n",
       "        vertical-align: middle;\n",
       "    }\n",
       "\n",
       "    .dataframe tbody tr th {\n",
       "        vertical-align: top;\n",
       "    }\n",
       "\n",
       "    .dataframe thead th {\n",
       "        text-align: right;\n",
       "    }\n",
       "</style>\n",
       "<table border=\"1\" class=\"dataframe\">\n",
       "  <thead>\n",
       "    <tr style=\"text-align: right;\">\n",
       "      <th></th>\n",
       "      <th>Close</th>\n",
       "      <th>Open</th>\n",
       "      <th>High</th>\n",
       "      <th>Low</th>\n",
       "      <th>Volume</th>\n",
       "      <th>headline_text</th>\n",
       "      <th>negative</th>\n",
       "      <th>positive</th>\n",
       "      <th>neutral</th>\n",
       "      <th>compound</th>\n",
       "    </tr>\n",
       "    <tr>\n",
       "      <th>Date</th>\n",
       "      <th></th>\n",
       "      <th></th>\n",
       "      <th></th>\n",
       "      <th></th>\n",
       "      <th></th>\n",
       "      <th></th>\n",
       "      <th></th>\n",
       "      <th></th>\n",
       "      <th></th>\n",
       "      <th></th>\n",
       "    </tr>\n",
       "  </thead>\n",
       "  <tbody>\n",
       "    <tr>\n",
       "      <th>2001-01-02</th>\n",
       "      <td>2.730469</td>\n",
       "      <td>2.878906</td>\n",
       "      <td>2.914063</td>\n",
       "      <td>2.710938</td>\n",
       "      <td>4483200.0</td>\n",
       "      <td>Status quo will not be disturbed at Ayodhya; s...</td>\n",
       "      <td>0.000</td>\n",
       "      <td>0.195</td>\n",
       "      <td>0.805</td>\n",
       "      <td>0.2924</td>\n",
       "    </tr>\n",
       "    <tr>\n",
       "      <th>2001-01-03</th>\n",
       "      <td>3.234375</td>\n",
       "      <td>2.705078</td>\n",
       "      <td>3.406250</td>\n",
       "      <td>2.691406</td>\n",
       "      <td>5856000.0</td>\n",
       "      <td>Fissures in Hurriyat over Pak visit</td>\n",
       "      <td>0.000</td>\n",
       "      <td>0.000</td>\n",
       "      <td>1.000</td>\n",
       "      <td>0.0000</td>\n",
       "    </tr>\n",
       "    <tr>\n",
       "      <th>2001-01-04</th>\n",
       "      <td>3.093750</td>\n",
       "      <td>3.193359</td>\n",
       "      <td>3.238281</td>\n",
       "      <td>3.031250</td>\n",
       "      <td>3811200.0</td>\n",
       "      <td>America's unwanted heading for India?</td>\n",
       "      <td>0.322</td>\n",
       "      <td>0.000</td>\n",
       "      <td>0.678</td>\n",
       "      <td>-0.2263</td>\n",
       "    </tr>\n",
       "    <tr>\n",
       "      <th>2001-01-05</th>\n",
       "      <td>2.960938</td>\n",
       "      <td>3.148438</td>\n",
       "      <td>3.171875</td>\n",
       "      <td>2.937500</td>\n",
       "      <td>7414400.0</td>\n",
       "      <td>For bigwigs; it is destination Goa</td>\n",
       "      <td>0.000</td>\n",
       "      <td>0.000</td>\n",
       "      <td>1.000</td>\n",
       "      <td>0.0000</td>\n",
       "    </tr>\n",
       "    <tr>\n",
       "      <th>2001-01-08</th>\n",
       "      <td>2.901855</td>\n",
       "      <td>2.953125</td>\n",
       "      <td>2.957031</td>\n",
       "      <td>2.767578</td>\n",
       "      <td>4326400.0</td>\n",
       "      <td>Extra buses to clear tourist traffic</td>\n",
       "      <td>0.000</td>\n",
       "      <td>0.342</td>\n",
       "      <td>0.658</td>\n",
       "      <td>0.3818</td>\n",
       "    </tr>\n",
       "  </tbody>\n",
       "</table>\n",
       "</div>"
      ],
      "text/plain": [
       "               Close      Open      High       Low     Volume  \\\n",
       "Date                                                            \n",
       "2001-01-02  2.730469  2.878906  2.914063  2.710938  4483200.0   \n",
       "2001-01-03  3.234375  2.705078  3.406250  2.691406  5856000.0   \n",
       "2001-01-04  3.093750  3.193359  3.238281  3.031250  3811200.0   \n",
       "2001-01-05  2.960938  3.148438  3.171875  2.937500  7414400.0   \n",
       "2001-01-08  2.901855  2.953125  2.957031  2.767578  4326400.0   \n",
       "\n",
       "                                                headline_text  negative  \\\n",
       "Date                                                                      \n",
       "2001-01-02  Status quo will not be disturbed at Ayodhya; s...     0.000   \n",
       "2001-01-03                Fissures in Hurriyat over Pak visit     0.000   \n",
       "2001-01-04              America's unwanted heading for India?     0.322   \n",
       "2001-01-05                 For bigwigs; it is destination Goa     0.000   \n",
       "2001-01-08               Extra buses to clear tourist traffic     0.000   \n",
       "\n",
       "            positive  neutral  compound  \n",
       "Date                                     \n",
       "2001-01-02     0.195    0.805    0.2924  \n",
       "2001-01-03     0.000    1.000    0.0000  \n",
       "2001-01-04     0.000    0.678   -0.2263  \n",
       "2001-01-05     0.000    1.000    0.0000  \n",
       "2001-01-08     0.342    0.658    0.3818  "
      ]
     },
     "execution_count": 50,
     "metadata": {},
     "output_type": "execute_result"
    }
   ],
   "source": [
    "import nltk\n",
    "# nltk.download('vader_lexicon')\n",
    "from nltk.sentiment.vader import SentimentIntensityAnalyzer\n",
    "import unicodedata\n",
    "\n",
    "# instantiating the Sentiment Analyzer\n",
    "sid = SentimentIntensityAnalyzer()\n",
    "\n",
    "# calculating sentiment scores\n",
    "stock['compound'] = stock['headline_text'].apply(lambda x: sid.polarity_scores(x)['compound'])\n",
    "stock['negative'] = stock['headline_text'].apply(lambda x: sid.polarity_scores(x)['neg'])\n",
    "stock['neutral'] = stock['headline_text'].apply(lambda x: sid.polarity_scores(x)['neu'])\n",
    "stock['positive'] = stock['headline_text'].apply(lambda x: sid.polarity_scores(x)['pos'])\n",
    "\n",
    "# displaying the stock data\n",
    "stock.head()"
   ]
  },
  {
   "cell_type": "code",
   "execution_count": 51,
   "id": "cab18722",
   "metadata": {},
   "outputs": [],
   "source": [
    "stock.drop(['headline_text'],inplace=True,axis=1)"
   ]
  },
  {
   "cell_type": "code",
   "execution_count": 52,
   "id": "389bfe95",
   "metadata": {},
   "outputs": [
    {
     "data": {
      "text/html": [
       "<div>\n",
       "<style scoped>\n",
       "    .dataframe tbody tr th:only-of-type {\n",
       "        vertical-align: middle;\n",
       "    }\n",
       "\n",
       "    .dataframe tbody tr th {\n",
       "        vertical-align: top;\n",
       "    }\n",
       "\n",
       "    .dataframe thead th {\n",
       "        text-align: right;\n",
       "    }\n",
       "</style>\n",
       "<table border=\"1\" class=\"dataframe\">\n",
       "  <thead>\n",
       "    <tr style=\"text-align: right;\">\n",
       "      <th></th>\n",
       "      <th>Close</th>\n",
       "      <th>Open</th>\n",
       "      <th>High</th>\n",
       "      <th>Low</th>\n",
       "      <th>Volume</th>\n",
       "      <th>negative</th>\n",
       "      <th>positive</th>\n",
       "      <th>neutral</th>\n",
       "      <th>compound</th>\n",
       "    </tr>\n",
       "    <tr>\n",
       "      <th>Date</th>\n",
       "      <th></th>\n",
       "      <th></th>\n",
       "      <th></th>\n",
       "      <th></th>\n",
       "      <th></th>\n",
       "      <th></th>\n",
       "      <th></th>\n",
       "      <th></th>\n",
       "      <th></th>\n",
       "    </tr>\n",
       "  </thead>\n",
       "  <tbody>\n",
       "    <tr>\n",
       "      <th>2001-01-02</th>\n",
       "      <td>2.730469</td>\n",
       "      <td>2.878906</td>\n",
       "      <td>2.914063</td>\n",
       "      <td>2.710938</td>\n",
       "      <td>4483200.0</td>\n",
       "      <td>0.0</td>\n",
       "      <td>0.195</td>\n",
       "      <td>0.805</td>\n",
       "      <td>0.2924</td>\n",
       "    </tr>\n",
       "    <tr>\n",
       "      <th>2001-01-03</th>\n",
       "      <td>3.234375</td>\n",
       "      <td>2.705078</td>\n",
       "      <td>3.406250</td>\n",
       "      <td>2.691406</td>\n",
       "      <td>5856000.0</td>\n",
       "      <td>0.0</td>\n",
       "      <td>0.000</td>\n",
       "      <td>1.000</td>\n",
       "      <td>0.0000</td>\n",
       "    </tr>\n",
       "  </tbody>\n",
       "</table>\n",
       "</div>"
      ],
      "text/plain": [
       "               Close      Open      High       Low     Volume  negative  \\\n",
       "Date                                                                      \n",
       "2001-01-02  2.730469  2.878906  2.914063  2.710938  4483200.0       0.0   \n",
       "2001-01-03  3.234375  2.705078  3.406250  2.691406  5856000.0       0.0   \n",
       "\n",
       "            positive  neutral  compound  \n",
       "Date                                     \n",
       "2001-01-02     0.195    0.805    0.2924  \n",
       "2001-01-03     0.000    1.000    0.0000  "
      ]
     },
     "execution_count": 52,
     "metadata": {},
     "output_type": "execute_result"
    }
   ],
   "source": [
    "stock.head(2)"
   ]
  },
  {
   "cell_type": "code",
   "execution_count": 53,
   "id": "9780e561",
   "metadata": {},
   "outputs": [],
   "source": [
    "stock = stock[['Close', 'compound', 'negative', 'neutral', 'positive', 'Open', 'High', 'Low', 'Volume']]"
   ]
  },
  {
   "cell_type": "code",
   "execution_count": 54,
   "id": "fb49ca33",
   "metadata": {},
   "outputs": [
    {
     "data": {
      "text/html": [
       "<div>\n",
       "<style scoped>\n",
       "    .dataframe tbody tr th:only-of-type {\n",
       "        vertical-align: middle;\n",
       "    }\n",
       "\n",
       "    .dataframe tbody tr th {\n",
       "        vertical-align: top;\n",
       "    }\n",
       "\n",
       "    .dataframe thead th {\n",
       "        text-align: right;\n",
       "    }\n",
       "</style>\n",
       "<table border=\"1\" class=\"dataframe\">\n",
       "  <thead>\n",
       "    <tr style=\"text-align: right;\">\n",
       "      <th></th>\n",
       "      <th>Close</th>\n",
       "      <th>compound</th>\n",
       "      <th>negative</th>\n",
       "      <th>neutral</th>\n",
       "      <th>positive</th>\n",
       "      <th>Open</th>\n",
       "      <th>High</th>\n",
       "      <th>Low</th>\n",
       "      <th>Volume</th>\n",
       "    </tr>\n",
       "    <tr>\n",
       "      <th>Date</th>\n",
       "      <th></th>\n",
       "      <th></th>\n",
       "      <th></th>\n",
       "      <th></th>\n",
       "      <th></th>\n",
       "      <th></th>\n",
       "      <th></th>\n",
       "      <th></th>\n",
       "      <th></th>\n",
       "    </tr>\n",
       "  </thead>\n",
       "  <tbody>\n",
       "    <tr>\n",
       "      <th>2001-01-02</th>\n",
       "      <td>2.730469</td>\n",
       "      <td>0.2924</td>\n",
       "      <td>0.000</td>\n",
       "      <td>0.805</td>\n",
       "      <td>0.195</td>\n",
       "      <td>2.878906</td>\n",
       "      <td>2.914063</td>\n",
       "      <td>2.710938</td>\n",
       "      <td>4483200.0</td>\n",
       "    </tr>\n",
       "    <tr>\n",
       "      <th>2001-01-03</th>\n",
       "      <td>3.234375</td>\n",
       "      <td>0.0000</td>\n",
       "      <td>0.000</td>\n",
       "      <td>1.000</td>\n",
       "      <td>0.000</td>\n",
       "      <td>2.705078</td>\n",
       "      <td>3.406250</td>\n",
       "      <td>2.691406</td>\n",
       "      <td>5856000.0</td>\n",
       "    </tr>\n",
       "    <tr>\n",
       "      <th>2001-01-04</th>\n",
       "      <td>3.093750</td>\n",
       "      <td>-0.2263</td>\n",
       "      <td>0.322</td>\n",
       "      <td>0.678</td>\n",
       "      <td>0.000</td>\n",
       "      <td>3.193359</td>\n",
       "      <td>3.238281</td>\n",
       "      <td>3.031250</td>\n",
       "      <td>3811200.0</td>\n",
       "    </tr>\n",
       "    <tr>\n",
       "      <th>2001-01-05</th>\n",
       "      <td>2.960938</td>\n",
       "      <td>0.0000</td>\n",
       "      <td>0.000</td>\n",
       "      <td>1.000</td>\n",
       "      <td>0.000</td>\n",
       "      <td>3.148438</td>\n",
       "      <td>3.171875</td>\n",
       "      <td>2.937500</td>\n",
       "      <td>7414400.0</td>\n",
       "    </tr>\n",
       "    <tr>\n",
       "      <th>2001-01-08</th>\n",
       "      <td>2.901855</td>\n",
       "      <td>0.3818</td>\n",
       "      <td>0.000</td>\n",
       "      <td>0.658</td>\n",
       "      <td>0.342</td>\n",
       "      <td>2.953125</td>\n",
       "      <td>2.957031</td>\n",
       "      <td>2.767578</td>\n",
       "      <td>4326400.0</td>\n",
       "    </tr>\n",
       "  </tbody>\n",
       "</table>\n",
       "</div>"
      ],
      "text/plain": [
       "               Close  compound  negative  neutral  positive      Open  \\\n",
       "Date                                                                    \n",
       "2001-01-02  2.730469    0.2924     0.000    0.805     0.195  2.878906   \n",
       "2001-01-03  3.234375    0.0000     0.000    1.000     0.000  2.705078   \n",
       "2001-01-04  3.093750   -0.2263     0.322    0.678     0.000  3.193359   \n",
       "2001-01-05  2.960938    0.0000     0.000    1.000     0.000  3.148438   \n",
       "2001-01-08  2.901855    0.3818     0.000    0.658     0.342  2.953125   \n",
       "\n",
       "                High       Low     Volume  \n",
       "Date                                       \n",
       "2001-01-02  2.914063  2.710938  4483200.0  \n",
       "2001-01-03  3.406250  2.691406  5856000.0  \n",
       "2001-01-04  3.238281  3.031250  3811200.0  \n",
       "2001-01-05  3.171875  2.937500  7414400.0  \n",
       "2001-01-08  2.957031  2.767578  4326400.0  "
      ]
     },
     "execution_count": 54,
     "metadata": {},
     "output_type": "execute_result"
    }
   ],
   "source": [
    "stock.head()"
   ]
  },
  {
   "cell_type": "code",
   "execution_count": 55,
   "id": "33e5c347",
   "metadata": {},
   "outputs": [],
   "source": [
    "## Writing prepared stock_data to disk \n",
    "stock.to_csv('stock_data.csv')"
   ]
  },
  {
   "cell_type": "markdown",
   "id": "b141f160",
   "metadata": {},
   "source": [
    "#        NUMERICAL ANALYSIS\n",
    "## Reading stock data"
   ]
  },
  {
   "cell_type": "code",
   "execution_count": 56,
   "id": "ea8ea332",
   "metadata": {},
   "outputs": [],
   "source": [
    "stocks=pd.read_csv('stock_data.csv',index_col=False)"
   ]
  },
  {
   "cell_type": "code",
   "execution_count": 57,
   "id": "890b9289",
   "metadata": {},
   "outputs": [
    {
     "data": {
      "text/html": [
       "<div>\n",
       "<style scoped>\n",
       "    .dataframe tbody tr th:only-of-type {\n",
       "        vertical-align: middle;\n",
       "    }\n",
       "\n",
       "    .dataframe tbody tr th {\n",
       "        vertical-align: top;\n",
       "    }\n",
       "\n",
       "    .dataframe thead th {\n",
       "        text-align: right;\n",
       "    }\n",
       "</style>\n",
       "<table border=\"1\" class=\"dataframe\">\n",
       "  <thead>\n",
       "    <tr style=\"text-align: right;\">\n",
       "      <th></th>\n",
       "      <th>Close</th>\n",
       "      <th>compound</th>\n",
       "      <th>negative</th>\n",
       "      <th>neutral</th>\n",
       "      <th>positive</th>\n",
       "      <th>Open</th>\n",
       "      <th>High</th>\n",
       "      <th>Low</th>\n",
       "      <th>Volume</th>\n",
       "    </tr>\n",
       "    <tr>\n",
       "      <th>Date</th>\n",
       "      <th></th>\n",
       "      <th></th>\n",
       "      <th></th>\n",
       "      <th></th>\n",
       "      <th></th>\n",
       "      <th></th>\n",
       "      <th></th>\n",
       "      <th></th>\n",
       "      <th></th>\n",
       "    </tr>\n",
       "  </thead>\n",
       "  <tbody>\n",
       "    <tr>\n",
       "      <th>2001-01-02</th>\n",
       "      <td>2.730469</td>\n",
       "      <td>0.2924</td>\n",
       "      <td>0.000</td>\n",
       "      <td>0.805</td>\n",
       "      <td>0.195</td>\n",
       "      <td>2.878906</td>\n",
       "      <td>2.914063</td>\n",
       "      <td>2.710938</td>\n",
       "      <td>4483200.0</td>\n",
       "    </tr>\n",
       "    <tr>\n",
       "      <th>2001-01-03</th>\n",
       "      <td>3.234375</td>\n",
       "      <td>0.0000</td>\n",
       "      <td>0.000</td>\n",
       "      <td>1.000</td>\n",
       "      <td>0.000</td>\n",
       "      <td>2.705078</td>\n",
       "      <td>3.406250</td>\n",
       "      <td>2.691406</td>\n",
       "      <td>5856000.0</td>\n",
       "    </tr>\n",
       "    <tr>\n",
       "      <th>2001-01-04</th>\n",
       "      <td>3.093750</td>\n",
       "      <td>-0.2263</td>\n",
       "      <td>0.322</td>\n",
       "      <td>0.678</td>\n",
       "      <td>0.000</td>\n",
       "      <td>3.193359</td>\n",
       "      <td>3.238281</td>\n",
       "      <td>3.031250</td>\n",
       "      <td>3811200.0</td>\n",
       "    </tr>\n",
       "  </tbody>\n",
       "</table>\n",
       "</div>"
      ],
      "text/plain": [
       "               Close  compound  negative  neutral  positive      Open  \\\n",
       "Date                                                                    \n",
       "2001-01-02  2.730469    0.2924     0.000    0.805     0.195  2.878906   \n",
       "2001-01-03  3.234375    0.0000     0.000    1.000     0.000  2.705078   \n",
       "2001-01-04  3.093750   -0.2263     0.322    0.678     0.000  3.193359   \n",
       "\n",
       "                High       Low     Volume  \n",
       "Date                                       \n",
       "2001-01-02  2.914063  2.710938  4483200.0  \n",
       "2001-01-03  3.406250  2.691406  5856000.0  \n",
       "2001-01-04  3.238281  3.031250  3811200.0  "
      ]
     },
     "execution_count": 57,
     "metadata": {},
     "output_type": "execute_result"
    }
   ],
   "source": [
    "stocks.rename(columns={'Unnamed: 0':'Date'},inplace=True)\n",
    "stocks.set_index('Date',inplace=True)\n",
    "stocks.head(3)"
   ]
  },
  {
   "cell_type": "code",
   "execution_count": 58,
   "id": "fac1551d",
   "metadata": {},
   "outputs": [
    {
     "data": {
      "text/html": [
       "<div>\n",
       "<style scoped>\n",
       "    .dataframe tbody tr th:only-of-type {\n",
       "        vertical-align: middle;\n",
       "    }\n",
       "\n",
       "    .dataframe tbody tr th {\n",
       "        vertical-align: top;\n",
       "    }\n",
       "\n",
       "    .dataframe thead th {\n",
       "        text-align: right;\n",
       "    }\n",
       "</style>\n",
       "<table border=\"1\" class=\"dataframe\">\n",
       "  <thead>\n",
       "    <tr style=\"text-align: right;\">\n",
       "      <th></th>\n",
       "      <th>Close</th>\n",
       "      <th>compound</th>\n",
       "      <th>negative</th>\n",
       "      <th>neutral</th>\n",
       "      <th>positive</th>\n",
       "      <th>Open</th>\n",
       "      <th>High</th>\n",
       "      <th>Low</th>\n",
       "      <th>Volume</th>\n",
       "    </tr>\n",
       "  </thead>\n",
       "  <tbody>\n",
       "    <tr>\n",
       "      <th>count</th>\n",
       "      <td>5094.000000</td>\n",
       "      <td>5094.000000</td>\n",
       "      <td>5094.000000</td>\n",
       "      <td>5094.000000</td>\n",
       "      <td>5094.000000</td>\n",
       "      <td>5094.000000</td>\n",
       "      <td>5094.000000</td>\n",
       "      <td>5094.000000</td>\n",
       "      <td>5.094000e+03</td>\n",
       "    </tr>\n",
       "    <tr>\n",
       "      <th>mean</th>\n",
       "      <td>6.424466</td>\n",
       "      <td>-0.010279</td>\n",
       "      <td>0.097172</td>\n",
       "      <td>0.803925</td>\n",
       "      <td>0.098903</td>\n",
       "      <td>6.423301</td>\n",
       "      <td>6.491481</td>\n",
       "      <td>6.354288</td>\n",
       "      <td>1.225933e+07</td>\n",
       "    </tr>\n",
       "    <tr>\n",
       "      <th>std</th>\n",
       "      <td>3.132031</td>\n",
       "      <td>0.301417</td>\n",
       "      <td>0.186783</td>\n",
       "      <td>0.242796</td>\n",
       "      <td>0.190604</td>\n",
       "      <td>3.131143</td>\n",
       "      <td>3.145358</td>\n",
       "      <td>3.115879</td>\n",
       "      <td>9.389762e+06</td>\n",
       "    </tr>\n",
       "    <tr>\n",
       "      <th>min</th>\n",
       "      <td>1.031875</td>\n",
       "      <td>-0.921700</td>\n",
       "      <td>0.000000</td>\n",
       "      <td>0.000000</td>\n",
       "      <td>0.000000</td>\n",
       "      <td>1.015938</td>\n",
       "      <td>1.070938</td>\n",
       "      <td>0.956250</td>\n",
       "      <td>3.360000e+05</td>\n",
       "    </tr>\n",
       "    <tr>\n",
       "      <th>25%</th>\n",
       "      <td>4.370312</td>\n",
       "      <td>0.000000</td>\n",
       "      <td>0.000000</td>\n",
       "      <td>0.619000</td>\n",
       "      <td>0.000000</td>\n",
       "      <td>4.374531</td>\n",
       "      <td>4.425312</td>\n",
       "      <td>4.313125</td>\n",
       "      <td>6.629950e+06</td>\n",
       "    </tr>\n",
       "    <tr>\n",
       "      <th>50%</th>\n",
       "      <td>6.549375</td>\n",
       "      <td>0.000000</td>\n",
       "      <td>0.000000</td>\n",
       "      <td>1.000000</td>\n",
       "      <td>0.000000</td>\n",
       "      <td>6.536875</td>\n",
       "      <td>6.597500</td>\n",
       "      <td>6.476250</td>\n",
       "      <td>1.004820e+07</td>\n",
       "    </tr>\n",
       "    <tr>\n",
       "      <th>75%</th>\n",
       "      <td>8.220000</td>\n",
       "      <td>0.000000</td>\n",
       "      <td>0.000000</td>\n",
       "      <td>1.000000</td>\n",
       "      <td>0.000000</td>\n",
       "      <td>8.220000</td>\n",
       "      <td>8.299062</td>\n",
       "      <td>8.150000</td>\n",
       "      <td>1.525480e+07</td>\n",
       "    </tr>\n",
       "    <tr>\n",
       "      <th>max</th>\n",
       "      <td>19.330000</td>\n",
       "      <td>0.855500</td>\n",
       "      <td>1.000000</td>\n",
       "      <td>1.000000</td>\n",
       "      <td>1.000000</td>\n",
       "      <td>19.219999</td>\n",
       "      <td>19.370001</td>\n",
       "      <td>19.160000</td>\n",
       "      <td>1.475912e+08</td>\n",
       "    </tr>\n",
       "  </tbody>\n",
       "</table>\n",
       "</div>"
      ],
      "text/plain": [
       "             Close     compound     negative      neutral     positive  \\\n",
       "count  5094.000000  5094.000000  5094.000000  5094.000000  5094.000000   \n",
       "mean      6.424466    -0.010279     0.097172     0.803925     0.098903   \n",
       "std       3.132031     0.301417     0.186783     0.242796     0.190604   \n",
       "min       1.031875    -0.921700     0.000000     0.000000     0.000000   \n",
       "25%       4.370312     0.000000     0.000000     0.619000     0.000000   \n",
       "50%       6.549375     0.000000     0.000000     1.000000     0.000000   \n",
       "75%       8.220000     0.000000     0.000000     1.000000     0.000000   \n",
       "max      19.330000     0.855500     1.000000     1.000000     1.000000   \n",
       "\n",
       "              Open         High          Low        Volume  \n",
       "count  5094.000000  5094.000000  5094.000000  5.094000e+03  \n",
       "mean      6.423301     6.491481     6.354288  1.225933e+07  \n",
       "std       3.131143     3.145358     3.115879  9.389762e+06  \n",
       "min       1.015938     1.070938     0.956250  3.360000e+05  \n",
       "25%       4.374531     4.425312     4.313125  6.629950e+06  \n",
       "50%       6.536875     6.597500     6.476250  1.004820e+07  \n",
       "75%       8.220000     8.299062     8.150000  1.525480e+07  \n",
       "max      19.219999    19.370001    19.160000  1.475912e+08  "
      ]
     },
     "execution_count": 58,
     "metadata": {},
     "output_type": "execute_result"
    }
   ],
   "source": [
    "stocks.describe()"
   ]
  },
  {
   "cell_type": "code",
   "execution_count": 59,
   "id": "187e4e69",
   "metadata": {},
   "outputs": [
    {
     "data": {
      "text/html": [
       "<div>\n",
       "<style scoped>\n",
       "    .dataframe tbody tr th:only-of-type {\n",
       "        vertical-align: middle;\n",
       "    }\n",
       "\n",
       "    .dataframe tbody tr th {\n",
       "        vertical-align: top;\n",
       "    }\n",
       "\n",
       "    .dataframe thead th {\n",
       "        text-align: right;\n",
       "    }\n",
       "</style>\n",
       "<table border=\"1\" class=\"dataframe\">\n",
       "  <thead>\n",
       "    <tr style=\"text-align: right;\">\n",
       "      <th></th>\n",
       "      <th>Close</th>\n",
       "      <th>compound</th>\n",
       "      <th>negative</th>\n",
       "      <th>neutral</th>\n",
       "      <th>positive</th>\n",
       "      <th>Open</th>\n",
       "      <th>High</th>\n",
       "      <th>Low</th>\n",
       "      <th>Volume</th>\n",
       "    </tr>\n",
       "  </thead>\n",
       "  <tbody>\n",
       "    <tr>\n",
       "      <th>Close</th>\n",
       "      <td>1.000000</td>\n",
       "      <td>-0.025452</td>\n",
       "      <td>0.025437</td>\n",
       "      <td>-0.008522</td>\n",
       "      <td>-0.014068</td>\n",
       "      <td>0.999569</td>\n",
       "      <td>0.999800</td>\n",
       "      <td>0.999802</td>\n",
       "      <td>0.021037</td>\n",
       "    </tr>\n",
       "    <tr>\n",
       "      <th>compound</th>\n",
       "      <td>-0.025452</td>\n",
       "      <td>1.000000</td>\n",
       "      <td>-0.753391</td>\n",
       "      <td>0.046703</td>\n",
       "      <td>0.678783</td>\n",
       "      <td>-0.025419</td>\n",
       "      <td>-0.025749</td>\n",
       "      <td>-0.025210</td>\n",
       "      <td>-0.006691</td>\n",
       "    </tr>\n",
       "    <tr>\n",
       "      <th>negative</th>\n",
       "      <td>0.025437</td>\n",
       "      <td>-0.753391</td>\n",
       "      <td>1.000000</td>\n",
       "      <td>-0.634041</td>\n",
       "      <td>-0.172289</td>\n",
       "      <td>0.025352</td>\n",
       "      <td>0.025753</td>\n",
       "      <td>0.025194</td>\n",
       "      <td>0.010477</td>\n",
       "    </tr>\n",
       "    <tr>\n",
       "      <th>neutral</th>\n",
       "      <td>-0.008522</td>\n",
       "      <td>0.046703</td>\n",
       "      <td>-0.634041</td>\n",
       "      <td>1.000000</td>\n",
       "      <td>-0.652497</td>\n",
       "      <td>-0.008406</td>\n",
       "      <td>-0.008730</td>\n",
       "      <td>-0.008571</td>\n",
       "      <td>-0.010673</td>\n",
       "    </tr>\n",
       "    <tr>\n",
       "      <th>positive</th>\n",
       "      <td>-0.014068</td>\n",
       "      <td>0.678783</td>\n",
       "      <td>-0.172289</td>\n",
       "      <td>-0.652497</td>\n",
       "      <td>1.000000</td>\n",
       "      <td>-0.014133</td>\n",
       "      <td>-0.014113</td>\n",
       "      <td>-0.013768</td>\n",
       "      <td>0.003341</td>\n",
       "    </tr>\n",
       "    <tr>\n",
       "      <th>Open</th>\n",
       "      <td>0.999569</td>\n",
       "      <td>-0.025419</td>\n",
       "      <td>0.025352</td>\n",
       "      <td>-0.008406</td>\n",
       "      <td>-0.014133</td>\n",
       "      <td>1.000000</td>\n",
       "      <td>0.999784</td>\n",
       "      <td>0.999781</td>\n",
       "      <td>0.021369</td>\n",
       "    </tr>\n",
       "    <tr>\n",
       "      <th>High</th>\n",
       "      <td>0.999800</td>\n",
       "      <td>-0.025749</td>\n",
       "      <td>0.025753</td>\n",
       "      <td>-0.008730</td>\n",
       "      <td>-0.014113</td>\n",
       "      <td>0.999784</td>\n",
       "      <td>1.000000</td>\n",
       "      <td>0.999713</td>\n",
       "      <td>0.026577</td>\n",
       "    </tr>\n",
       "    <tr>\n",
       "      <th>Low</th>\n",
       "      <td>0.999802</td>\n",
       "      <td>-0.025210</td>\n",
       "      <td>0.025194</td>\n",
       "      <td>-0.008571</td>\n",
       "      <td>-0.013768</td>\n",
       "      <td>0.999781</td>\n",
       "      <td>0.999713</td>\n",
       "      <td>1.000000</td>\n",
       "      <td>0.015846</td>\n",
       "    </tr>\n",
       "    <tr>\n",
       "      <th>Volume</th>\n",
       "      <td>0.021037</td>\n",
       "      <td>-0.006691</td>\n",
       "      <td>0.010477</td>\n",
       "      <td>-0.010673</td>\n",
       "      <td>0.003341</td>\n",
       "      <td>0.021369</td>\n",
       "      <td>0.026577</td>\n",
       "      <td>0.015846</td>\n",
       "      <td>1.000000</td>\n",
       "    </tr>\n",
       "  </tbody>\n",
       "</table>\n",
       "</div>"
      ],
      "text/plain": [
       "             Close  compound  negative   neutral  positive      Open  \\\n",
       "Close     1.000000 -0.025452  0.025437 -0.008522 -0.014068  0.999569   \n",
       "compound -0.025452  1.000000 -0.753391  0.046703  0.678783 -0.025419   \n",
       "negative  0.025437 -0.753391  1.000000 -0.634041 -0.172289  0.025352   \n",
       "neutral  -0.008522  0.046703 -0.634041  1.000000 -0.652497 -0.008406   \n",
       "positive -0.014068  0.678783 -0.172289 -0.652497  1.000000 -0.014133   \n",
       "Open      0.999569 -0.025419  0.025352 -0.008406 -0.014133  1.000000   \n",
       "High      0.999800 -0.025749  0.025753 -0.008730 -0.014113  0.999784   \n",
       "Low       0.999802 -0.025210  0.025194 -0.008571 -0.013768  0.999781   \n",
       "Volume    0.021037 -0.006691  0.010477 -0.010673  0.003341  0.021369   \n",
       "\n",
       "              High       Low    Volume  \n",
       "Close     0.999800  0.999802  0.021037  \n",
       "compound -0.025749 -0.025210 -0.006691  \n",
       "negative  0.025753  0.025194  0.010477  \n",
       "neutral  -0.008730 -0.008571 -0.010673  \n",
       "positive -0.014113 -0.013768  0.003341  \n",
       "Open      0.999784  0.999781  0.021369  \n",
       "High      1.000000  0.999713  0.026577  \n",
       "Low       0.999713  1.000000  0.015846  \n",
       "Volume    0.026577  0.015846  1.000000  "
      ]
     },
     "execution_count": 59,
     "metadata": {},
     "output_type": "execute_result"
    }
   ],
   "source": [
    "stocks.corr()"
   ]
  },
  {
   "cell_type": "code",
   "execution_count": 60,
   "id": "74c5056a",
   "metadata": {},
   "outputs": [
    {
     "data": {
      "text/plain": [
       "(5094, 9)"
      ]
     },
     "execution_count": 60,
     "metadata": {},
     "output_type": "execute_result"
    }
   ],
   "source": [
    "## Feautre Engineering of Stock Data\n",
    "stocks.shape"
   ]
  },
  {
   "cell_type": "code",
   "execution_count": 61,
   "id": "4fac465b",
   "metadata": {},
   "outputs": [
    {
     "data": {
      "text/plain": [
       "Close       0\n",
       "compound    0\n",
       "negative    0\n",
       "neutral     0\n",
       "positive    0\n",
       "Open        0\n",
       "High        0\n",
       "Low         0\n",
       "Volume      0\n",
       "dtype: int64"
      ]
     },
     "execution_count": 61,
     "metadata": {},
     "output_type": "execute_result"
    }
   ],
   "source": [
    "stocks.isna().sum()"
   ]
  },
  {
   "cell_type": "code",
   "execution_count": 62,
   "id": "05593b5e",
   "metadata": {},
   "outputs": [
    {
     "name": "stdout",
     "output_type": "stream",
     "text": [
      "<class 'pandas.core.frame.DataFrame'>\n",
      "Index: 5094 entries, 2001-01-02 to 2021-04-01\n",
      "Data columns (total 9 columns):\n",
      " #   Column    Non-Null Count  Dtype  \n",
      "---  ------    --------------  -----  \n",
      " 0   Close     5094 non-null   float64\n",
      " 1   compound  5094 non-null   float64\n",
      " 2   negative  5094 non-null   float64\n",
      " 3   neutral   5094 non-null   float64\n",
      " 4   positive  5094 non-null   float64\n",
      " 5   Open      5094 non-null   float64\n",
      " 6   High      5094 non-null   float64\n",
      " 7   Low       5094 non-null   float64\n",
      " 8   Volume    5094 non-null   float64\n",
      "dtypes: float64(9)\n",
      "memory usage: 398.0+ KB\n"
     ]
    }
   ],
   "source": [
    "stocks.info()"
   ]
  },
  {
   "cell_type": "markdown",
   "id": "47d280a4",
   "metadata": {},
   "source": [
    "## EDA (Exploratory Data Analysis) of Stock Data"
   ]
  },
  {
   "cell_type": "code",
   "execution_count": 63,
   "id": "d1f16be0",
   "metadata": {},
   "outputs": [
    {
     "data": {
      "text/plain": [
       "<AxesSubplot:>"
      ]
     },
     "execution_count": 63,
     "metadata": {},
     "output_type": "execute_result"
    },
    {
     "data": {
      "image/png": "[encoded data removed]",
      "text/plain": [
       "<Figure size 432x288 with 2 Axes>"
      ]
     },
     "metadata": {
      "needs_background": "light"
     },
     "output_type": "display_data"
    }
   ],
   "source": [
    "# Getting correlation between independent variables\n",
    "import seaborn as sns\n",
    "sns.heatmap(stocks.corr())"
   ]
  },
  {
   "cell_type": "code",
   "execution_count": 64,
   "id": "defb7bd8",
   "metadata": {},
   "outputs": [
    {
     "data": {
      "text/plain": [
       "Text(0, 0.5, 'Close Price ($)')"
      ]
     },
     "execution_count": 64,
     "metadata": {},
     "output_type": "execute_result"
    },
    {
     "data": {
      "image/png": "[encoded data removed]",
      "text/plain": [
       "<Figure size 864x720 with 1 Axes>"
      ]
     },
     "metadata": {
      "needs_background": "light"
     },
     "output_type": "display_data"
    }
   ],
   "source": [
    "## PLOTTING FIGURE SIZE\n",
    "\n",
    "import matplotlib.pyplot as plt\n",
    "# plotting close price\n",
    "plt.figure(figsize=(12,10))\n",
    "stocks['Close'].plot()\n",
    "\n",
    "# setting plot title, x and y labels\n",
    "plt.title(\"Close Price\")\n",
    "plt.xlabel('Date')\n",
    "plt.ylabel('Close Price ($)')"
   ]
  },
  {
   "cell_type": "code",
   "execution_count": 65,
   "id": "14d677ee",
   "metadata": {},
   "outputs": [
    {
     "data": {
      "text/html": [
       "<div>\n",
       "<style scoped>\n",
       "    .dataframe tbody tr th:only-of-type {\n",
       "        vertical-align: middle;\n",
       "    }\n",
       "\n",
       "    .dataframe tbody tr th {\n",
       "        vertical-align: top;\n",
       "    }\n",
       "\n",
       "    .dataframe thead th {\n",
       "        text-align: right;\n",
       "    }\n",
       "</style>\n",
       "<table border=\"1\" class=\"dataframe\">\n",
       "  <thead>\n",
       "    <tr style=\"text-align: right;\">\n",
       "      <th></th>\n",
       "      <th>Close</th>\n",
       "      <th>compound</th>\n",
       "      <th>negative</th>\n",
       "      <th>neutral</th>\n",
       "      <th>positive</th>\n",
       "      <th>Open</th>\n",
       "      <th>High</th>\n",
       "      <th>Low</th>\n",
       "      <th>Volume</th>\n",
       "    </tr>\n",
       "    <tr>\n",
       "      <th>Date</th>\n",
       "      <th></th>\n",
       "      <th></th>\n",
       "      <th></th>\n",
       "      <th></th>\n",
       "      <th></th>\n",
       "      <th></th>\n",
       "      <th></th>\n",
       "      <th></th>\n",
       "      <th></th>\n",
       "    </tr>\n",
       "  </thead>\n",
       "  <tbody>\n",
       "    <tr>\n",
       "      <th>2001-01-02</th>\n",
       "      <td>NaN</td>\n",
       "      <td>NaN</td>\n",
       "      <td>NaN</td>\n",
       "      <td>NaN</td>\n",
       "      <td>NaN</td>\n",
       "      <td>NaN</td>\n",
       "      <td>NaN</td>\n",
       "      <td>NaN</td>\n",
       "      <td>NaN</td>\n",
       "    </tr>\n",
       "    <tr>\n",
       "      <th>2001-01-03</th>\n",
       "      <td>NaN</td>\n",
       "      <td>NaN</td>\n",
       "      <td>NaN</td>\n",
       "      <td>NaN</td>\n",
       "      <td>NaN</td>\n",
       "      <td>NaN</td>\n",
       "      <td>NaN</td>\n",
       "      <td>NaN</td>\n",
       "      <td>NaN</td>\n",
       "    </tr>\n",
       "    <tr>\n",
       "      <th>2001-01-04</th>\n",
       "      <td>NaN</td>\n",
       "      <td>NaN</td>\n",
       "      <td>NaN</td>\n",
       "      <td>NaN</td>\n",
       "      <td>NaN</td>\n",
       "      <td>NaN</td>\n",
       "      <td>NaN</td>\n",
       "      <td>NaN</td>\n",
       "      <td>NaN</td>\n",
       "    </tr>\n",
       "    <tr>\n",
       "      <th>2001-01-05</th>\n",
       "      <td>NaN</td>\n",
       "      <td>NaN</td>\n",
       "      <td>NaN</td>\n",
       "      <td>NaN</td>\n",
       "      <td>NaN</td>\n",
       "      <td>NaN</td>\n",
       "      <td>NaN</td>\n",
       "      <td>NaN</td>\n",
       "      <td>NaN</td>\n",
       "    </tr>\n",
       "    <tr>\n",
       "      <th>2001-01-08</th>\n",
       "      <td>NaN</td>\n",
       "      <td>NaN</td>\n",
       "      <td>NaN</td>\n",
       "      <td>NaN</td>\n",
       "      <td>NaN</td>\n",
       "      <td>NaN</td>\n",
       "      <td>NaN</td>\n",
       "      <td>NaN</td>\n",
       "      <td>NaN</td>\n",
       "    </tr>\n",
       "    <tr>\n",
       "      <th>2001-01-09</th>\n",
       "      <td>NaN</td>\n",
       "      <td>NaN</td>\n",
       "      <td>NaN</td>\n",
       "      <td>NaN</td>\n",
       "      <td>NaN</td>\n",
       "      <td>NaN</td>\n",
       "      <td>NaN</td>\n",
       "      <td>NaN</td>\n",
       "      <td>NaN</td>\n",
       "    </tr>\n",
       "    <tr>\n",
       "      <th>2001-01-10</th>\n",
       "      <td>2.987654</td>\n",
       "      <td>0.063986</td>\n",
       "      <td>0.046000</td>\n",
       "      <td>0.877286</td>\n",
       "      <td>0.076714</td>\n",
       "      <td>2.973772</td>\n",
       "      <td>3.118304</td>\n",
       "      <td>2.836496</td>\n",
       "      <td>4.706286e+06</td>\n",
       "    </tr>\n",
       "    <tr>\n",
       "      <th>2001-01-11</th>\n",
       "      <td>3.035366</td>\n",
       "      <td>0.022214</td>\n",
       "      <td>0.046000</td>\n",
       "      <td>0.905143</td>\n",
       "      <td>0.048857</td>\n",
       "      <td>2.989955</td>\n",
       "      <td>3.161830</td>\n",
       "      <td>2.862165</td>\n",
       "      <td>4.530286e+06</td>\n",
       "    </tr>\n",
       "    <tr>\n",
       "      <th>2001-01-12</th>\n",
       "      <td>3.024205</td>\n",
       "      <td>0.082429</td>\n",
       "      <td>0.087857</td>\n",
       "      <td>0.811571</td>\n",
       "      <td>0.100571</td>\n",
       "      <td>3.054409</td>\n",
       "      <td>3.127790</td>\n",
       "      <td>2.910714</td>\n",
       "      <td>4.074971e+06</td>\n",
       "    </tr>\n",
       "    <tr>\n",
       "      <th>2001-01-16</th>\n",
       "      <td>3.086426</td>\n",
       "      <td>0.114757</td>\n",
       "      <td>0.041857</td>\n",
       "      <td>0.857571</td>\n",
       "      <td>0.100571</td>\n",
       "      <td>3.053293</td>\n",
       "      <td>3.178571</td>\n",
       "      <td>2.928432</td>\n",
       "      <td>4.314971e+06</td>\n",
       "    </tr>\n",
       "    <tr>\n",
       "      <th>2001-01-17</th>\n",
       "      <td>3.168178</td>\n",
       "      <td>0.066186</td>\n",
       "      <td>0.105286</td>\n",
       "      <td>0.794143</td>\n",
       "      <td>0.100571</td>\n",
       "      <td>3.116909</td>\n",
       "      <td>3.247768</td>\n",
       "      <td>2.999860</td>\n",
       "      <td>3.804343e+06</td>\n",
       "    </tr>\n",
       "    <tr>\n",
       "      <th>2001-01-18</th>\n",
       "      <td>3.277344</td>\n",
       "      <td>0.011643</td>\n",
       "      <td>0.105286</td>\n",
       "      <td>0.843000</td>\n",
       "      <td>0.051714</td>\n",
       "      <td>3.203962</td>\n",
       "      <td>3.369978</td>\n",
       "      <td>3.113421</td>\n",
       "      <td>3.985371e+06</td>\n",
       "    </tr>\n",
       "    <tr>\n",
       "      <th>2001-01-19</th>\n",
       "      <td>3.401507</td>\n",
       "      <td>0.077014</td>\n",
       "      <td>0.105286</td>\n",
       "      <td>0.795429</td>\n",
       "      <td>0.099286</td>\n",
       "      <td>3.320034</td>\n",
       "      <td>3.515067</td>\n",
       "      <td>3.233677</td>\n",
       "      <td>4.512914e+06</td>\n",
       "    </tr>\n",
       "    <tr>\n",
       "      <th>2001-01-22</th>\n",
       "      <td>3.515346</td>\n",
       "      <td>0.077014</td>\n",
       "      <td>0.105286</td>\n",
       "      <td>0.795429</td>\n",
       "      <td>0.099286</td>\n",
       "      <td>3.449498</td>\n",
       "      <td>3.633371</td>\n",
       "      <td>3.354771</td>\n",
       "      <td>4.311771e+06</td>\n",
       "    </tr>\n",
       "    <tr>\n",
       "      <th>2001-01-23</th>\n",
       "      <td>3.613839</td>\n",
       "      <td>0.077014</td>\n",
       "      <td>0.105286</td>\n",
       "      <td>0.795429</td>\n",
       "      <td>0.099286</td>\n",
       "      <td>3.573382</td>\n",
       "      <td>3.724888</td>\n",
       "      <td>3.474470</td>\n",
       "      <td>4.165486e+06</td>\n",
       "    </tr>\n",
       "    <tr>\n",
       "      <th>2001-01-24</th>\n",
       "      <td>3.697545</td>\n",
       "      <td>-0.072471</td>\n",
       "      <td>0.121429</td>\n",
       "      <td>0.831000</td>\n",
       "      <td>0.047571</td>\n",
       "      <td>3.645717</td>\n",
       "      <td>3.816406</td>\n",
       "      <td>3.564662</td>\n",
       "      <td>3.997257e+06</td>\n",
       "    </tr>\n",
       "    <tr>\n",
       "      <th>2001-01-25</th>\n",
       "      <td>3.717913</td>\n",
       "      <td>-0.072471</td>\n",
       "      <td>0.121429</td>\n",
       "      <td>0.831000</td>\n",
       "      <td>0.047571</td>\n",
       "      <td>3.713030</td>\n",
       "      <td>3.837612</td>\n",
       "      <td>3.633998</td>\n",
       "      <td>3.499886e+06</td>\n",
       "    </tr>\n",
       "    <tr>\n",
       "      <th>2001-01-26</th>\n",
       "      <td>3.739119</td>\n",
       "      <td>-0.005614</td>\n",
       "      <td>0.058000</td>\n",
       "      <td>0.855429</td>\n",
       "      <td>0.086571</td>\n",
       "      <td>3.712542</td>\n",
       "      <td>3.846540</td>\n",
       "      <td>3.648507</td>\n",
       "      <td>3.480229e+06</td>\n",
       "    </tr>\n",
       "    <tr>\n",
       "      <th>2001-01-29</th>\n",
       "      <td>3.760045</td>\n",
       "      <td>-0.005614</td>\n",
       "      <td>0.058000</td>\n",
       "      <td>0.855429</td>\n",
       "      <td>0.086571</td>\n",
       "      <td>3.733747</td>\n",
       "      <td>3.850726</td>\n",
       "      <td>3.652972</td>\n",
       "      <td>3.049143e+06</td>\n",
       "    </tr>\n",
       "    <tr>\n",
       "      <th>2001-01-30</th>\n",
       "      <td>3.751953</td>\n",
       "      <td>-0.070986</td>\n",
       "      <td>0.058000</td>\n",
       "      <td>0.903000</td>\n",
       "      <td>0.039000</td>\n",
       "      <td>3.734863</td>\n",
       "      <td>3.818918</td>\n",
       "      <td>3.666365</td>\n",
       "      <td>2.550400e+06</td>\n",
       "    </tr>\n",
       "  </tbody>\n",
       "</table>\n",
       "</div>"
      ],
      "text/plain": [
       "               Close  compound  negative   neutral  positive      Open  \\\n",
       "Date                                                                     \n",
       "2001-01-02       NaN       NaN       NaN       NaN       NaN       NaN   \n",
       "2001-01-03       NaN       NaN       NaN       NaN       NaN       NaN   \n",
       "2001-01-04       NaN       NaN       NaN       NaN       NaN       NaN   \n",
       "2001-01-05       NaN       NaN       NaN       NaN       NaN       NaN   \n",
       "2001-01-08       NaN       NaN       NaN       NaN       NaN       NaN   \n",
       "2001-01-09       NaN       NaN       NaN       NaN       NaN       NaN   \n",
       "2001-01-10  2.987654  0.063986  0.046000  0.877286  0.076714  2.973772   \n",
       "2001-01-11  3.035366  0.022214  0.046000  0.905143  0.048857  2.989955   \n",
       "2001-01-12  3.024205  0.082429  0.087857  0.811571  0.100571  3.054409   \n",
       "2001-01-16  3.086426  0.114757  0.041857  0.857571  0.100571  3.053293   \n",
       "2001-01-17  3.168178  0.066186  0.105286  0.794143  0.100571  3.116909   \n",
       "2001-01-18  3.277344  0.011643  0.105286  0.843000  0.051714  3.203962   \n",
       "2001-01-19  3.401507  0.077014  0.105286  0.795429  0.099286  3.320034   \n",
       "2001-01-22  3.515346  0.077014  0.105286  0.795429  0.099286  3.449498   \n",
       "2001-01-23  3.613839  0.077014  0.105286  0.795429  0.099286  3.573382   \n",
       "2001-01-24  3.697545 -0.072471  0.121429  0.831000  0.047571  3.645717   \n",
       "2001-01-25  3.717913 -0.072471  0.121429  0.831000  0.047571  3.713030   \n",
       "2001-01-26  3.739119 -0.005614  0.058000  0.855429  0.086571  3.712542   \n",
       "2001-01-29  3.760045 -0.005614  0.058000  0.855429  0.086571  3.733747   \n",
       "2001-01-30  3.751953 -0.070986  0.058000  0.903000  0.039000  3.734863   \n",
       "\n",
       "                High       Low        Volume  \n",
       "Date                                          \n",
       "2001-01-02       NaN       NaN           NaN  \n",
       "2001-01-03       NaN       NaN           NaN  \n",
       "2001-01-04       NaN       NaN           NaN  \n",
       "2001-01-05       NaN       NaN           NaN  \n",
       "2001-01-08       NaN       NaN           NaN  \n",
       "2001-01-09       NaN       NaN           NaN  \n",
       "2001-01-10  3.118304  2.836496  4.706286e+06  \n",
       "2001-01-11  3.161830  2.862165  4.530286e+06  \n",
       "2001-01-12  3.127790  2.910714  4.074971e+06  \n",
       "2001-01-16  3.178571  2.928432  4.314971e+06  \n",
       "2001-01-17  3.247768  2.999860  3.804343e+06  \n",
       "2001-01-18  3.369978  3.113421  3.985371e+06  \n",
       "2001-01-19  3.515067  3.233677  4.512914e+06  \n",
       "2001-01-22  3.633371  3.354771  4.311771e+06  \n",
       "2001-01-23  3.724888  3.474470  4.165486e+06  \n",
       "2001-01-24  3.816406  3.564662  3.997257e+06  \n",
       "2001-01-25  3.837612  3.633998  3.499886e+06  \n",
       "2001-01-26  3.846540  3.648507  3.480229e+06  \n",
       "2001-01-29  3.850726  3.652972  3.049143e+06  \n",
       "2001-01-30  3.818918  3.666365  2.550400e+06  "
      ]
     },
     "execution_count": 65,
     "metadata": {},
     "output_type": "execute_result"
    }
   ],
   "source": [
    "## Calculating 7 day or Weekly rolling mean \n",
    "stocks.rolling(7).mean().head(20)"
   ]
  },
  {
   "cell_type": "code",
   "execution_count": 66,
   "id": "790df257",
   "metadata": {},
   "outputs": [
    {
     "data": {
      "text/plain": [
       "<AxesSubplot:xlabel='Date'>"
      ]
     },
     "execution_count": 66,
     "metadata": {},
     "output_type": "execute_result"
    },
    {
     "data": {
      "image/png": "[encoded data removed]",
      "text/plain": [
       "<Figure size 864x720 with 1 Axes>"
      ]
     },
     "metadata": {
      "needs_background": "light"
     },
     "output_type": "display_data"
    }
   ],
   "source": [
    "## Calculating 30 days monthly rolling mean of close price \n",
    "plt.figure(figsize=(12,10))\n",
    "stocks.rolling(30).mean()['Close'].plot()"
   ]
  },
  {
   "cell_type": "code",
   "execution_count": 67,
   "id": "50899667",
   "metadata": {},
   "outputs": [
    {
     "data": {
      "text/html": [
       "<div>\n",
       "<style scoped>\n",
       "    .dataframe tbody tr th:only-of-type {\n",
       "        vertical-align: middle;\n",
       "    }\n",
       "\n",
       "    .dataframe tbody tr th {\n",
       "        vertical-align: top;\n",
       "    }\n",
       "\n",
       "    .dataframe thead th {\n",
       "        text-align: right;\n",
       "    }\n",
       "</style>\n",
       "<table border=\"1\" class=\"dataframe\">\n",
       "  <thead>\n",
       "    <tr style=\"text-align: right;\">\n",
       "      <th></th>\n",
       "      <th>Close</th>\n",
       "      <th>compound</th>\n",
       "      <th>negative</th>\n",
       "      <th>neutral</th>\n",
       "      <th>positive</th>\n",
       "      <th>Open</th>\n",
       "      <th>High</th>\n",
       "      <th>Low</th>\n",
       "      <th>Volume</th>\n",
       "    </tr>\n",
       "    <tr>\n",
       "      <th>Date</th>\n",
       "      <th></th>\n",
       "      <th></th>\n",
       "      <th></th>\n",
       "      <th></th>\n",
       "      <th></th>\n",
       "      <th></th>\n",
       "      <th></th>\n",
       "      <th></th>\n",
       "      <th></th>\n",
       "    </tr>\n",
       "  </thead>\n",
       "  <tbody>\n",
       "    <tr>\n",
       "      <th>2001-01-02</th>\n",
       "      <td>2.730469</td>\n",
       "      <td>0.2924</td>\n",
       "      <td>0.000</td>\n",
       "      <td>0.805</td>\n",
       "      <td>0.195</td>\n",
       "      <td>2.878906</td>\n",
       "      <td>2.914063</td>\n",
       "      <td>2.710938</td>\n",
       "      <td>4483200.0</td>\n",
       "    </tr>\n",
       "    <tr>\n",
       "      <th>2001-01-03</th>\n",
       "      <td>3.234375</td>\n",
       "      <td>0.0000</td>\n",
       "      <td>0.000</td>\n",
       "      <td>1.000</td>\n",
       "      <td>0.000</td>\n",
       "      <td>2.705078</td>\n",
       "      <td>3.406250</td>\n",
       "      <td>2.691406</td>\n",
       "      <td>5856000.0</td>\n",
       "    </tr>\n",
       "    <tr>\n",
       "      <th>2001-01-04</th>\n",
       "      <td>3.093750</td>\n",
       "      <td>-0.2263</td>\n",
       "      <td>0.322</td>\n",
       "      <td>0.678</td>\n",
       "      <td>0.000</td>\n",
       "      <td>3.193359</td>\n",
       "      <td>3.238281</td>\n",
       "      <td>3.031250</td>\n",
       "      <td>3811200.0</td>\n",
       "    </tr>\n",
       "    <tr>\n",
       "      <th>2001-01-05</th>\n",
       "      <td>2.960938</td>\n",
       "      <td>0.0000</td>\n",
       "      <td>0.000</td>\n",
       "      <td>1.000</td>\n",
       "      <td>0.000</td>\n",
       "      <td>3.148438</td>\n",
       "      <td>3.171875</td>\n",
       "      <td>2.937500</td>\n",
       "      <td>7414400.0</td>\n",
       "    </tr>\n",
       "    <tr>\n",
       "      <th>2001-01-08</th>\n",
       "      <td>2.901855</td>\n",
       "      <td>0.3818</td>\n",
       "      <td>0.000</td>\n",
       "      <td>0.658</td>\n",
       "      <td>0.342</td>\n",
       "      <td>2.953125</td>\n",
       "      <td>2.957031</td>\n",
       "      <td>2.767578</td>\n",
       "      <td>4326400.0</td>\n",
       "    </tr>\n",
       "    <tr>\n",
       "      <th>...</th>\n",
       "      <td>...</td>\n",
       "      <td>...</td>\n",
       "      <td>...</td>\n",
       "      <td>...</td>\n",
       "      <td>...</td>\n",
       "      <td>...</td>\n",
       "      <td>...</td>\n",
       "      <td>...</td>\n",
       "      <td>...</td>\n",
       "    </tr>\n",
       "    <tr>\n",
       "      <th>2021-03-26</th>\n",
       "      <td>18.719999</td>\n",
       "      <td>0.0000</td>\n",
       "      <td>0.000</td>\n",
       "      <td>1.000</td>\n",
       "      <td>0.000</td>\n",
       "      <td>18.530001</td>\n",
       "      <td>18.719999</td>\n",
       "      <td>18.299999</td>\n",
       "      <td>13425300.0</td>\n",
       "    </tr>\n",
       "    <tr>\n",
       "      <th>2021-03-29</th>\n",
       "      <td>18.430000</td>\n",
       "      <td>0.0000</td>\n",
       "      <td>0.000</td>\n",
       "      <td>1.000</td>\n",
       "      <td>0.000</td>\n",
       "      <td>18.700001</td>\n",
       "      <td>18.740000</td>\n",
       "      <td>18.360001</td>\n",
       "      <td>8066300.0</td>\n",
       "    </tr>\n",
       "    <tr>\n",
       "      <th>2021-03-30</th>\n",
       "      <td>18.799999</td>\n",
       "      <td>0.0000</td>\n",
       "      <td>0.000</td>\n",
       "      <td>1.000</td>\n",
       "      <td>0.000</td>\n",
       "      <td>18.790001</td>\n",
       "      <td>18.910000</td>\n",
       "      <td>18.750000</td>\n",
       "      <td>7845100.0</td>\n",
       "    </tr>\n",
       "    <tr>\n",
       "      <th>2021-03-31</th>\n",
       "      <td>18.719999</td>\n",
       "      <td>0.4019</td>\n",
       "      <td>0.000</td>\n",
       "      <td>0.649</td>\n",
       "      <td>0.351</td>\n",
       "      <td>18.750000</td>\n",
       "      <td>18.830000</td>\n",
       "      <td>18.660000</td>\n",
       "      <td>8991400.0</td>\n",
       "    </tr>\n",
       "    <tr>\n",
       "      <th>2021-04-01</th>\n",
       "      <td>19.010000</td>\n",
       "      <td>0.0258</td>\n",
       "      <td>0.000</td>\n",
       "      <td>0.864</td>\n",
       "      <td>0.136</td>\n",
       "      <td>18.920000</td>\n",
       "      <td>19.040001</td>\n",
       "      <td>18.870001</td>\n",
       "      <td>4213100.0</td>\n",
       "    </tr>\n",
       "  </tbody>\n",
       "</table>\n",
       "<p>5094 rows × 9 columns</p>\n",
       "</div>"
      ],
      "text/plain": [
       "                Close  compound  negative  neutral  positive       Open  \\\n",
       "Date                                                                      \n",
       "2001-01-02   2.730469    0.2924     0.000    0.805     0.195   2.878906   \n",
       "2001-01-03   3.234375    0.0000     0.000    1.000     0.000   2.705078   \n",
       "2001-01-04   3.093750   -0.2263     0.322    0.678     0.000   3.193359   \n",
       "2001-01-05   2.960938    0.0000     0.000    1.000     0.000   3.148438   \n",
       "2001-01-08   2.901855    0.3818     0.000    0.658     0.342   2.953125   \n",
       "...               ...       ...       ...      ...       ...        ...   \n",
       "2021-03-26  18.719999    0.0000     0.000    1.000     0.000  18.530001   \n",
       "2021-03-29  18.430000    0.0000     0.000    1.000     0.000  18.700001   \n",
       "2021-03-30  18.799999    0.0000     0.000    1.000     0.000  18.790001   \n",
       "2021-03-31  18.719999    0.4019     0.000    0.649     0.351  18.750000   \n",
       "2021-04-01  19.010000    0.0258     0.000    0.864     0.136  18.920000   \n",
       "\n",
       "                 High        Low      Volume  \n",
       "Date                                          \n",
       "2001-01-02   2.914063   2.710938   4483200.0  \n",
       "2001-01-03   3.406250   2.691406   5856000.0  \n",
       "2001-01-04   3.238281   3.031250   3811200.0  \n",
       "2001-01-05   3.171875   2.937500   7414400.0  \n",
       "2001-01-08   2.957031   2.767578   4326400.0  \n",
       "...               ...        ...         ...  \n",
       "2021-03-26  18.719999  18.299999  13425300.0  \n",
       "2021-03-29  18.740000  18.360001   8066300.0  \n",
       "2021-03-30  18.910000  18.750000   7845100.0  \n",
       "2021-03-31  18.830000  18.660000   8991400.0  \n",
       "2021-04-01  19.040001  18.870001   4213100.0  \n",
       "\n",
       "[5094 rows x 9 columns]"
      ]
     },
     "execution_count": 67,
     "metadata": {},
     "output_type": "execute_result"
    }
   ],
   "source": [
    "stocks"
   ]
  },
  {
   "cell_type": "markdown",
   "id": "ee3da6c0",
   "metadata": {},
   "source": [
    "## Model Preparation"
   ]
  },
  {
   "cell_type": "code",
   "execution_count": 68,
   "id": "5ce04350",
   "metadata": {},
   "outputs": [
    {
     "name": "stdout",
     "output_type": "stream",
     "text": [
      "Number of records in Training Data: 4074\n",
      "Number of records in Test Data: 1020\n"
     ]
    }
   ],
   "source": [
    "# calculating data_to_use\n",
    "percentage_of_data = 1.0 #It means 100% dataset\n",
    "data_to_use = int(percentage_of_data*(len(stocks)-1))\n",
    "\n",
    "# using 80% of data for training\n",
    "train = int(data_to_use*0.8)\n",
    "total_data = len(stocks)\n",
    "start = total_data - data_to_use\n",
    "\n",
    "# printing number of records in the training and test datasets\n",
    "print(\"Number of records in Training Data:\", train)\n",
    "print(\"Number of records in Test Data:\", total_data - train)"
   ]
  },
  {
   "cell_type": "code",
   "execution_count": 69,
   "id": "37038b67",
   "metadata": {},
   "outputs": [
    {
     "name": "stdout",
     "output_type": "stream",
     "text": [
      "Close Price:\n"
     ]
    },
    {
     "data": {
      "text/plain": [
       "Date\n",
       "2001-01-03     3.234375\n",
       "2001-01-04     3.093750\n",
       "2001-01-05     2.960938\n",
       "2001-01-08     2.901855\n",
       "2001-01-09     3.031250\n",
       "                ...    \n",
       "2021-03-26    18.719999\n",
       "2021-03-29    18.430000\n",
       "2021-03-30    18.799999\n",
       "2021-03-31    18.719999\n",
       "2021-04-01    19.010000\n",
       "Name: Close, Length: 5093, dtype: float64"
      ]
     },
     "execution_count": 69,
     "metadata": {},
     "output_type": "execute_result"
    }
   ],
   "source": [
    "# predicting one step ahead\n",
    "steps_to_predict = 1\n",
    "\n",
    "# capturing data to be used for each column\n",
    "close_price = stocks.iloc[start:total_data,0] #close\n",
    "compound = stocks.iloc[start:total_data,1] #compound\n",
    "negative = stocks.iloc[start:total_data,2] #neg\n",
    "neutral = stocks.iloc[start:total_data,3] #neu\n",
    "positive = stocks.iloc[start:total_data,4] #pos\n",
    "open_price = stocks.iloc[start:total_data,5] #open\n",
    "high = stocks.iloc[start:total_data,6] #high\n",
    "low = stocks.iloc[start:total_data,7] #low\n",
    "volume = stocks.iloc[start:total_data,8] #volume\n",
    "\n",
    "# printing close price\n",
    "print(\"Close Price:\")\n",
    "close_price"
   ]
  },
  {
   "cell_type": "code",
   "execution_count": 70,
   "id": "5f278f06",
   "metadata": {},
   "outputs": [
    {
     "data": {
      "text/html": [
       "<div>\n",
       "<style scoped>\n",
       "    .dataframe tbody tr th:only-of-type {\n",
       "        vertical-align: middle;\n",
       "    }\n",
       "\n",
       "    .dataframe tbody tr th {\n",
       "        vertical-align: top;\n",
       "    }\n",
       "\n",
       "    .dataframe thead th {\n",
       "        text-align: right;\n",
       "    }\n",
       "</style>\n",
       "<table border=\"1\" class=\"dataframe\">\n",
       "  <thead>\n",
       "    <tr style=\"text-align: right;\">\n",
       "      <th></th>\n",
       "      <th>close_price</th>\n",
       "      <th>close_price_shifted</th>\n",
       "      <th>compound</th>\n",
       "      <th>compound_shifted</th>\n",
       "      <th>volume</th>\n",
       "      <th>open_price</th>\n",
       "      <th>high</th>\n",
       "      <th>low</th>\n",
       "    </tr>\n",
       "    <tr>\n",
       "      <th>Date</th>\n",
       "      <th></th>\n",
       "      <th></th>\n",
       "      <th></th>\n",
       "      <th></th>\n",
       "      <th></th>\n",
       "      <th></th>\n",
       "      <th></th>\n",
       "      <th></th>\n",
       "    </tr>\n",
       "  </thead>\n",
       "  <tbody>\n",
       "    <tr>\n",
       "      <th>2001-01-03</th>\n",
       "      <td>3.234375</td>\n",
       "      <td>3.093750</td>\n",
       "      <td>0.0000</td>\n",
       "      <td>-0.2263</td>\n",
       "      <td>5856000.0</td>\n",
       "      <td>2.705078</td>\n",
       "      <td>3.406250</td>\n",
       "      <td>2.691406</td>\n",
       "    </tr>\n",
       "    <tr>\n",
       "      <th>2001-01-04</th>\n",
       "      <td>3.093750</td>\n",
       "      <td>2.960938</td>\n",
       "      <td>-0.2263</td>\n",
       "      <td>0.0000</td>\n",
       "      <td>3811200.0</td>\n",
       "      <td>3.193359</td>\n",
       "      <td>3.238281</td>\n",
       "      <td>3.031250</td>\n",
       "    </tr>\n",
       "    <tr>\n",
       "      <th>2001-01-05</th>\n",
       "      <td>2.960938</td>\n",
       "      <td>2.901855</td>\n",
       "      <td>0.0000</td>\n",
       "      <td>0.3818</td>\n",
       "      <td>7414400.0</td>\n",
       "      <td>3.148438</td>\n",
       "      <td>3.171875</td>\n",
       "      <td>2.937500</td>\n",
       "    </tr>\n",
       "    <tr>\n",
       "      <th>2001-01-08</th>\n",
       "      <td>2.901855</td>\n",
       "      <td>3.031250</td>\n",
       "      <td>0.3818</td>\n",
       "      <td>0.0000</td>\n",
       "      <td>4326400.0</td>\n",
       "      <td>2.953125</td>\n",
       "      <td>2.957031</td>\n",
       "      <td>2.767578</td>\n",
       "    </tr>\n",
       "    <tr>\n",
       "      <th>2001-01-09</th>\n",
       "      <td>3.031250</td>\n",
       "      <td>2.960938</td>\n",
       "      <td>0.0000</td>\n",
       "      <td>0.0000</td>\n",
       "      <td>2934400.0</td>\n",
       "      <td>3.000000</td>\n",
       "      <td>3.089844</td>\n",
       "      <td>2.845703</td>\n",
       "    </tr>\n",
       "    <tr>\n",
       "      <th>2001-01-10</th>\n",
       "      <td>2.960938</td>\n",
       "      <td>3.064453</td>\n",
       "      <td>0.0000</td>\n",
       "      <td>0.0000</td>\n",
       "      <td>4118400.0</td>\n",
       "      <td>2.937500</td>\n",
       "      <td>3.050781</td>\n",
       "      <td>2.871094</td>\n",
       "    </tr>\n",
       "    <tr>\n",
       "      <th>2001-01-11</th>\n",
       "      <td>3.064453</td>\n",
       "      <td>3.156250</td>\n",
       "      <td>0.0000</td>\n",
       "      <td>0.4215</td>\n",
       "      <td>3251200.0</td>\n",
       "      <td>2.992188</td>\n",
       "      <td>3.218750</td>\n",
       "      <td>2.890625</td>\n",
       "    </tr>\n",
       "    <tr>\n",
       "      <th>2001-01-12</th>\n",
       "      <td>3.156250</td>\n",
       "      <td>3.529297</td>\n",
       "      <td>0.4215</td>\n",
       "      <td>0.0000</td>\n",
       "      <td>2668800.0</td>\n",
       "      <td>3.156250</td>\n",
       "      <td>3.167969</td>\n",
       "      <td>3.031250</td>\n",
       "    </tr>\n",
       "    <tr>\n",
       "      <th>2001-01-16</th>\n",
       "      <td>3.529297</td>\n",
       "      <td>3.533203</td>\n",
       "      <td>0.0000</td>\n",
       "      <td>-0.3400</td>\n",
       "      <td>5491200.0</td>\n",
       "      <td>3.185547</td>\n",
       "      <td>3.593750</td>\n",
       "      <td>3.155273</td>\n",
       "    </tr>\n",
       "    <tr>\n",
       "      <th>2001-01-17</th>\n",
       "      <td>3.533203</td>\n",
       "      <td>3.666016</td>\n",
       "      <td>-0.3400</td>\n",
       "      <td>0.0000</td>\n",
       "      <td>3840000.0</td>\n",
       "      <td>3.593750</td>\n",
       "      <td>3.656250</td>\n",
       "      <td>3.437500</td>\n",
       "    </tr>\n",
       "  </tbody>\n",
       "</table>\n",
       "</div>"
      ],
      "text/plain": [
       "            close_price  close_price_shifted  compound  compound_shifted  \\\n",
       "Date                                                                       \n",
       "2001-01-03     3.234375             3.093750    0.0000           -0.2263   \n",
       "2001-01-04     3.093750             2.960938   -0.2263            0.0000   \n",
       "2001-01-05     2.960938             2.901855    0.0000            0.3818   \n",
       "2001-01-08     2.901855             3.031250    0.3818            0.0000   \n",
       "2001-01-09     3.031250             2.960938    0.0000            0.0000   \n",
       "2001-01-10     2.960938             3.064453    0.0000            0.0000   \n",
       "2001-01-11     3.064453             3.156250    0.0000            0.4215   \n",
       "2001-01-12     3.156250             3.529297    0.4215            0.0000   \n",
       "2001-01-16     3.529297             3.533203    0.0000           -0.3400   \n",
       "2001-01-17     3.533203             3.666016   -0.3400            0.0000   \n",
       "\n",
       "               volume  open_price      high       low  \n",
       "Date                                                   \n",
       "2001-01-03  5856000.0    2.705078  3.406250  2.691406  \n",
       "2001-01-04  3811200.0    3.193359  3.238281  3.031250  \n",
       "2001-01-05  7414400.0    3.148438  3.171875  2.937500  \n",
       "2001-01-08  4326400.0    2.953125  2.957031  2.767578  \n",
       "2001-01-09  2934400.0    3.000000  3.089844  2.845703  \n",
       "2001-01-10  4118400.0    2.937500  3.050781  2.871094  \n",
       "2001-01-11  3251200.0    2.992188  3.218750  2.890625  \n",
       "2001-01-12  2668800.0    3.156250  3.167969  3.031250  \n",
       "2001-01-16  5491200.0    3.185547  3.593750  3.155273  \n",
       "2001-01-17  3840000.0    3.593750  3.656250  3.437500  "
      ]
     },
     "execution_count": 70,
     "metadata": {},
     "output_type": "execute_result"
    }
   ],
   "source": [
    "close_price_shifted = close_price.shift(-1) \n",
    "\n",
    "# shifting next day compound\n",
    "compound_shifted = compound.shift(-1) \n",
    "\n",
    "# concatenating the captured training data into a dataframe\n",
    "data = pd.concat([close_price, close_price_shifted, compound, compound_shifted, volume, open_price, high, low], axis=1)\n",
    "\n",
    "# setting column names of the revised stock data\n",
    "data.columns = ['close_price', 'close_price_shifted', 'compound', 'compound_shifted','volume', 'open_price', 'high', 'low']\n",
    "\n",
    "# dropping nulls\n",
    "data = data.dropna()    \n",
    "data.head(10)"
   ]
  },
  {
   "cell_type": "markdown",
   "id": "2b9f07d9",
   "metadata": {},
   "source": [
    "## Setting Target Variable"
   ]
  },
  {
   "cell_type": "code",
   "execution_count": 71,
   "id": "53139e1b",
   "metadata": {},
   "outputs": [
    {
     "data": {
      "text/plain": [
       "Date\n",
       "2001-01-03     3.093750\n",
       "2001-01-04     2.960938\n",
       "2001-01-05     2.901855\n",
       "2001-01-08     3.031250\n",
       "2001-01-09     2.960938\n",
       "                ...    \n",
       "2021-03-25    18.719999\n",
       "2021-03-26    18.430000\n",
       "2021-03-29    18.799999\n",
       "2021-03-30    18.719999\n",
       "2021-03-31    19.010000\n",
       "Name: close_price_shifted, Length: 5092, dtype: float64"
      ]
     },
     "execution_count": 71,
     "metadata": {},
     "output_type": "execute_result"
    }
   ],
   "source": [
    "# setting the target variable as the shifted close_price\n",
    "y = data['close_price_shifted']\n",
    "y"
   ]
  },
  {
   "cell_type": "code",
   "execution_count": 72,
   "id": "60d3f52e",
   "metadata": {},
   "outputs": [
    {
     "data": {
      "text/html": [
       "<div>\n",
       "<style scoped>\n",
       "    .dataframe tbody tr th:only-of-type {\n",
       "        vertical-align: middle;\n",
       "    }\n",
       "\n",
       "    .dataframe tbody tr th {\n",
       "        vertical-align: top;\n",
       "    }\n",
       "\n",
       "    .dataframe thead th {\n",
       "        text-align: right;\n",
       "    }\n",
       "</style>\n",
       "<table border=\"1\" class=\"dataframe\">\n",
       "  <thead>\n",
       "    <tr style=\"text-align: right;\">\n",
       "      <th></th>\n",
       "      <th>close_price</th>\n",
       "      <th>compound</th>\n",
       "      <th>compound_shifted</th>\n",
       "      <th>volume</th>\n",
       "      <th>open_price</th>\n",
       "      <th>high</th>\n",
       "      <th>low</th>\n",
       "    </tr>\n",
       "    <tr>\n",
       "      <th>Date</th>\n",
       "      <th></th>\n",
       "      <th></th>\n",
       "      <th></th>\n",
       "      <th></th>\n",
       "      <th></th>\n",
       "      <th></th>\n",
       "      <th></th>\n",
       "    </tr>\n",
       "  </thead>\n",
       "  <tbody>\n",
       "    <tr>\n",
       "      <th>2001-01-03</th>\n",
       "      <td>3.234375</td>\n",
       "      <td>0.0000</td>\n",
       "      <td>-0.2263</td>\n",
       "      <td>5856000.0</td>\n",
       "      <td>2.705078</td>\n",
       "      <td>3.406250</td>\n",
       "      <td>2.691406</td>\n",
       "    </tr>\n",
       "    <tr>\n",
       "      <th>2001-01-04</th>\n",
       "      <td>3.093750</td>\n",
       "      <td>-0.2263</td>\n",
       "      <td>0.0000</td>\n",
       "      <td>3811200.0</td>\n",
       "      <td>3.193359</td>\n",
       "      <td>3.238281</td>\n",
       "      <td>3.031250</td>\n",
       "    </tr>\n",
       "    <tr>\n",
       "      <th>2001-01-05</th>\n",
       "      <td>2.960938</td>\n",
       "      <td>0.0000</td>\n",
       "      <td>0.3818</td>\n",
       "      <td>7414400.0</td>\n",
       "      <td>3.148438</td>\n",
       "      <td>3.171875</td>\n",
       "      <td>2.937500</td>\n",
       "    </tr>\n",
       "    <tr>\n",
       "      <th>2001-01-08</th>\n",
       "      <td>2.901855</td>\n",
       "      <td>0.3818</td>\n",
       "      <td>0.0000</td>\n",
       "      <td>4326400.0</td>\n",
       "      <td>2.953125</td>\n",
       "      <td>2.957031</td>\n",
       "      <td>2.767578</td>\n",
       "    </tr>\n",
       "    <tr>\n",
       "      <th>2001-01-09</th>\n",
       "      <td>3.031250</td>\n",
       "      <td>0.0000</td>\n",
       "      <td>0.0000</td>\n",
       "      <td>2934400.0</td>\n",
       "      <td>3.000000</td>\n",
       "      <td>3.089844</td>\n",
       "      <td>2.845703</td>\n",
       "    </tr>\n",
       "    <tr>\n",
       "      <th>...</th>\n",
       "      <td>...</td>\n",
       "      <td>...</td>\n",
       "      <td>...</td>\n",
       "      <td>...</td>\n",
       "      <td>...</td>\n",
       "      <td>...</td>\n",
       "      <td>...</td>\n",
       "    </tr>\n",
       "    <tr>\n",
       "      <th>2021-03-25</th>\n",
       "      <td>18.459999</td>\n",
       "      <td>-0.4019</td>\n",
       "      <td>0.0000</td>\n",
       "      <td>6647900.0</td>\n",
       "      <td>18.469999</td>\n",
       "      <td>18.559999</td>\n",
       "      <td>18.250000</td>\n",
       "    </tr>\n",
       "    <tr>\n",
       "      <th>2021-03-26</th>\n",
       "      <td>18.719999</td>\n",
       "      <td>0.0000</td>\n",
       "      <td>0.0000</td>\n",
       "      <td>13425300.0</td>\n",
       "      <td>18.530001</td>\n",
       "      <td>18.719999</td>\n",
       "      <td>18.299999</td>\n",
       "    </tr>\n",
       "    <tr>\n",
       "      <th>2021-03-29</th>\n",
       "      <td>18.430000</td>\n",
       "      <td>0.0000</td>\n",
       "      <td>0.0000</td>\n",
       "      <td>8066300.0</td>\n",
       "      <td>18.700001</td>\n",
       "      <td>18.740000</td>\n",
       "      <td>18.360001</td>\n",
       "    </tr>\n",
       "    <tr>\n",
       "      <th>2021-03-30</th>\n",
       "      <td>18.799999</td>\n",
       "      <td>0.0000</td>\n",
       "      <td>0.4019</td>\n",
       "      <td>7845100.0</td>\n",
       "      <td>18.790001</td>\n",
       "      <td>18.910000</td>\n",
       "      <td>18.750000</td>\n",
       "    </tr>\n",
       "    <tr>\n",
       "      <th>2021-03-31</th>\n",
       "      <td>18.719999</td>\n",
       "      <td>0.4019</td>\n",
       "      <td>0.0258</td>\n",
       "      <td>8991400.0</td>\n",
       "      <td>18.750000</td>\n",
       "      <td>18.830000</td>\n",
       "      <td>18.660000</td>\n",
       "    </tr>\n",
       "  </tbody>\n",
       "</table>\n",
       "<p>5092 rows × 7 columns</p>\n",
       "</div>"
      ],
      "text/plain": [
       "            close_price  compound  compound_shifted      volume  open_price  \\\n",
       "Date                                                                          \n",
       "2001-01-03     3.234375    0.0000           -0.2263   5856000.0    2.705078   \n",
       "2001-01-04     3.093750   -0.2263            0.0000   3811200.0    3.193359   \n",
       "2001-01-05     2.960938    0.0000            0.3818   7414400.0    3.148438   \n",
       "2001-01-08     2.901855    0.3818            0.0000   4326400.0    2.953125   \n",
       "2001-01-09     3.031250    0.0000            0.0000   2934400.0    3.000000   \n",
       "...                 ...       ...               ...         ...         ...   \n",
       "2021-03-25    18.459999   -0.4019            0.0000   6647900.0   18.469999   \n",
       "2021-03-26    18.719999    0.0000            0.0000  13425300.0   18.530001   \n",
       "2021-03-29    18.430000    0.0000            0.0000   8066300.0   18.700001   \n",
       "2021-03-30    18.799999    0.0000            0.4019   7845100.0   18.790001   \n",
       "2021-03-31    18.719999    0.4019            0.0258   8991400.0   18.750000   \n",
       "\n",
       "                 high        low  \n",
       "Date                              \n",
       "2001-01-03   3.406250   2.691406  \n",
       "2001-01-04   3.238281   3.031250  \n",
       "2001-01-05   3.171875   2.937500  \n",
       "2001-01-08   2.957031   2.767578  \n",
       "2001-01-09   3.089844   2.845703  \n",
       "...               ...        ...  \n",
       "2021-03-25  18.559999  18.250000  \n",
       "2021-03-26  18.719999  18.299999  \n",
       "2021-03-29  18.740000  18.360001  \n",
       "2021-03-30  18.910000  18.750000  \n",
       "2021-03-31  18.830000  18.660000  \n",
       "\n",
       "[5092 rows x 7 columns]"
      ]
     },
     "execution_count": 72,
     "metadata": {},
     "output_type": "execute_result"
    }
   ],
   "source": [
    "# setting the features dataset for prediction  \n",
    "cols = ['close_price', 'compound', 'compound_shifted', 'volume', 'open_price', 'high', 'low']\n",
    "x = data[cols]\n",
    "x"
   ]
  },
  {
   "cell_type": "markdown",
   "id": "5f1e3e81",
   "metadata": {},
   "source": [
    "## Feature Scaling\n",
    "Since we are using LSTM to predict stock prices, which is a time series data, it is important to understand that LSTM can be very sensitive to the scale of the data. Right now, if the data is observed, it is present in different scales. Therefore, it is important to re-scale the data so that the range of the dataset is same, for almost all records. Here a feature range of (-1,1) is used."
   ]
  },
  {
   "cell_type": "code",
   "execution_count": 73,
   "id": "272e64f6",
   "metadata": {},
   "outputs": [
    {
     "data": {
      "text/plain": [
       "(array([[-0.75926495,  0.03724961, -0.21742066, ..., -0.81442163,\n",
       "         -0.74476158, -0.8093628 ],\n",
       "        [-0.77463538, -0.21742066,  0.03724961, ..., -0.76077635,\n",
       "         -0.76311978, -0.77202499],\n",
       "        [-0.78915184,  0.03724961,  0.46691425, ..., -0.76571162,\n",
       "         -0.77037764, -0.78232507],\n",
       "        ...,\n",
       "        [ 0.90162927,  0.03724961,  0.03724961, ...,  0.94287011,\n",
       "          0.93114391,  0.91210613],\n",
       "        [ 0.94207046,  0.03724961,  0.4895341 , ...,  0.95275801,\n",
       "          0.94972409,  0.95495434],\n",
       "        [ 0.93332639,  0.4895341 ,  0.06628404, ...,  0.94836328,\n",
       "          0.94098048,  0.94506626]]),\n",
       " array([[-0.77463538],\n",
       "        [-0.78915184],\n",
       "        [-0.79560966],\n",
       "        ...,\n",
       "        [ 0.94207046],\n",
       "        [ 0.93332639],\n",
       "        [ 0.96502374]]))"
      ]
     },
     "execution_count": 73,
     "metadata": {},
     "output_type": "execute_result"
    }
   ],
   "source": [
    "from sklearn import preprocessing, metrics\n",
    "from sklearn.preprocessing import MinMaxScaler\n",
    "# scaling the feature dataset\n",
    "scaler_x = MinMaxScaler (feature_range=(-1, 1))\n",
    "x = np.array(x).reshape((len(x) ,len(cols)))\n",
    "x = scaler_x.fit_transform(x)\n",
    "\n",
    "# scaling the target variable\n",
    "scaler_y = preprocessing.MinMaxScaler (feature_range=(-1, 1))\n",
    "y = np.array (y).reshape ((len( y), 1))\n",
    "y = scaler_y.fit_transform (y)\n",
    "\n",
    "# displaying the scaled feature dataset and the target variable\n",
    "x, y"
   ]
  },
  {
   "cell_type": "markdown",
   "id": "46c20a3c",
   "metadata": {},
   "source": [
    "### Dividing dataset into training and test set\n",
    "##### Normally for any other dataset train_test_split from sklearn package is used, but for time series data like stock prices which is dependent on date, the dataset is divided into train and test dataset in a different way as shown below. In timeseries data, an observation for a particular date is always dependent on the previous date records."
   ]
  },
  {
   "cell_type": "code",
   "execution_count": 74,
   "id": "a2eb1fd0",
   "metadata": {},
   "outputs": [
    {
     "data": {
      "text/plain": [
       "(3564, 7)"
      ]
     },
     "execution_count": 74,
     "metadata": {},
     "output_type": "execute_result"
    }
   ],
   "source": [
    "from sklearn.model_selection import train_test_split, KFold\n",
    "x_train, x_test, y_train, y_test = train_test_split(x, y, test_size=0.3, random_state = 0)\n",
    "x_train.shape"
   ]
  },
  {
   "cell_type": "code",
   "execution_count": 75,
   "id": "bf9debf8",
   "metadata": {},
   "outputs": [
    {
     "data": {
      "text/plain": [
       "(1528, 7)"
      ]
     },
     "execution_count": 75,
     "metadata": {},
     "output_type": "execute_result"
    }
   ],
   "source": [
    "x_test.shape"
   ]
  },
  {
   "cell_type": "code",
   "execution_count": 76,
   "id": "1d3361fe",
   "metadata": {},
   "outputs": [
    {
     "data": {
      "text/plain": [
       "(3564, 1)"
      ]
     },
     "execution_count": 76,
     "metadata": {},
     "output_type": "execute_result"
    }
   ],
   "source": [
    "y_train.shape"
   ]
  },
  {
   "cell_type": "markdown",
   "id": "89dd6ce4",
   "metadata": {},
   "source": [
    "### Data Modeling"
   ]
  },
  {
   "cell_type": "code",
   "execution_count": 77,
   "id": "d55ee999",
   "metadata": {},
   "outputs": [],
   "source": [
    "from sklearn import metrics\n",
    "from sklearn.metrics import mean_squared_error\n",
    "from sklearn.model_selection import train_test_split\n",
    "from sklearn.ensemble import RandomForestRegressor, AdaBoostRegressor\n",
    "import xgboost\n",
    "import lightgbm"
   ]
  },
  {
   "cell_type": "markdown",
   "id": "678d4e49",
   "metadata": {},
   "source": [
    "### I have used 11 Machine Learning Algorithms for prediction\n",
    "\n",
    "-Random Forest, \n",
    "-Decision Tree, \n",
    "-XGBoost, \n",
    "-Adaboost, \n",
    "-lgbm Boost, \n",
    "-Support Vector Machines (SVM), \n",
    "-LinearRegression, \n",
    "-Ridge, \n",
    "-Lasso, \n",
    "-ElasticNet, \n",
    "-KNRegressor"
   ]
  },
  {
   "cell_type": "code",
   "execution_count": 78,
   "id": "090403e9",
   "metadata": {},
   "outputs": [
    {
     "name": "stderr",
     "output_type": "stream",
     "text": [
      "<ipython-input-78-3f5920641a8b>:2: DataConversionWarning: A column-vector y was passed when a 1d array was expected. Please change the shape of y to (n_samples,), for example using ravel().\n",
      "  rf.fit(x_train, y_train)\n"
     ]
    },
    {
     "name": "stdout",
     "output_type": "stream",
     "text": [
      "[-0.182531   -0.57339686 -0.92424801 -0.38267855 -0.38324828 -0.60871332\n",
      " -0.61511972  0.03555146 -0.24699252 -0.63265362]\n",
      "[[-0.18850975]\n",
      " [-0.57652765]\n",
      " [-0.90145843]\n",
      " [-0.34467329]\n",
      " [-0.37923968]\n",
      " [-0.61444137]\n",
      " [-0.61437306]\n",
      " [ 0.04033883]\n",
      " [-0.23564573]\n",
      " [-0.65037401]]\n",
      "Mean Squared Error is :- 0.00026896145022748275\n"
     ]
    }
   ],
   "source": [
    "rf = RandomForestRegressor()\n",
    "rf.fit(x_train, y_train)\n",
    "prediction=rf.predict(x_test)\n",
    "print(prediction[:10])\n",
    "print(y_test[:10])\n",
    "print(\"Mean Squared Error is :-\",mean_squared_error(prediction,y_test))"
   ]
  },
  {
   "cell_type": "code",
   "execution_count": 79,
   "id": "ce6a3fe6",
   "metadata": {},
   "outputs": [
    {
     "name": "stderr",
     "output_type": "stream",
     "text": [
      "c:\\users\\usaxe\\appdata\\local\\programs\\python\\python39\\lib\\site-packages\\sklearn\\utils\\validation.py:63: DataConversionWarning: A column-vector y was passed when a 1d array was expected. Please change the shape of y to (n_samples, ), for example using ravel().\n",
      "  return f(*args, **kwargs)\n"
     ]
    },
    {
     "name": "stdout",
     "output_type": "stream",
     "text": [
      "[-0.19736758 -0.60123938 -0.90315554 ... -0.47634817  0.09463496\n",
      " -0.38131519]\n",
      "\n",
      "Mean Squared Error is:- 0.0005626435968721201\n"
     ]
    }
   ],
   "source": [
    "adb = AdaBoostRegressor()\n",
    "adb.fit(x_train, y_train)\n",
    "predictions = adb.predict(x_test)\n",
    "print(predictions)\n",
    "print()\n",
    "print(\"Mean Squared Error is:-\",mean_squared_error(predictions,y_test))"
   ]
  },
  {
   "cell_type": "code",
   "execution_count": 80,
   "id": "cd3d9b05",
   "metadata": {},
   "outputs": [
    {
     "name": "stdout",
     "output_type": "stream",
     "text": [
      "[-0.17416402 -0.59743143 -0.97530479 ... -0.49878744  0.10701233\n",
      " -0.37828329]\n",
      "\n",
      "Mean squared error is :- 0.0005832566628161646\n"
     ]
    }
   ],
   "source": [
    "from sklearn.tree import DecisionTreeRegressor\n",
    "dec_tree=DecisionTreeRegressor()\n",
    "dec_tree.fit(x_train,y_train)\n",
    "predictions = dec_tree.predict(x_test)\n",
    "print(predictions)\n",
    "print()\n",
    "print(\"Mean squared error is :-\",mean_squared_error(predictions,y_test))"
   ]
  },
  {
   "cell_type": "code",
   "execution_count": 81,
   "id": "edcb5f3f",
   "metadata": {},
   "outputs": [
    {
     "name": "stderr",
     "output_type": "stream",
     "text": [
      "c:\\users\\usaxe\\appdata\\local\\programs\\python\\python39\\lib\\site-packages\\sklearn\\utils\\validation.py:63: DataConversionWarning: A column-vector y was passed when a 1d array was expected. Please change the shape of y to (n_samples, ), for example using ravel().\n",
      "  return f(*args, **kwargs)\n"
     ]
    },
    {
     "name": "stdout",
     "output_type": "stream",
     "text": [
      "[-0.17783416 -0.57191607 -0.90898549 ... -0.50737628  0.09498657\n",
      " -0.3729328 ]\n",
      "\n",
      "Mean squared error is :- 0.0002719179680315304\n"
     ]
    }
   ],
   "source": [
    "lgb = lightgbm.LGBMRegressor()\n",
    "lgb.fit(x_train, y_train)\n",
    "predictions=lgb.predict(x_test)\n",
    "print(predictions)\n",
    "print()\n",
    "print(\"Mean squared error is :-\",mean_squared_error(predictions,y_test))"
   ]
  },
  {
   "cell_type": "code",
   "execution_count": 82,
   "id": "7f18b548",
   "metadata": {},
   "outputs": [
    {
     "name": "stdout",
     "output_type": "stream",
     "text": [
      "[-0.18226235 -0.5715469  -0.91853404 ... -0.4977652   0.09361318\n",
      " -0.37317157]\n",
      "\n",
      "Mean squared error is :- 0.00028154152667403447\n"
     ]
    }
   ],
   "source": [
    "xgb=xgboost.XGBRegressor()\n",
    "xgb.fit(x_train,y_train)\n",
    "predictions=xgb.predict(x_test)\n",
    "print(predictions)\n",
    "print()\n",
    "print(\"Mean squared error is :-\",mean_squared_error(predictions,y_test))"
   ]
  },
  {
   "cell_type": "code",
   "execution_count": 83,
   "id": "35c7698d",
   "metadata": {},
   "outputs": [
    {
     "name": "stderr",
     "output_type": "stream",
     "text": [
      "c:\\users\\usaxe\\appdata\\local\\programs\\python\\python39\\lib\\site-packages\\sklearn\\utils\\validation.py:63: DataConversionWarning: A column-vector y was passed when a 1d array was expected. Please change the shape of y to (n_samples, ), for example using ravel().\n",
      "  return f(*args, **kwargs)\n"
     ]
    },
    {
     "name": "stdout",
     "output_type": "stream",
     "text": [
      "[-0.18025755 -0.57467061 -0.9131175  ... -0.51105726  0.09548056\n",
      " -0.3737422 ]\n",
      "\n",
      "Mean squared error is :- 0.00022039177016982078\n"
     ]
    },
    {
     "name": "stderr",
     "output_type": "stream",
     "text": [
      "c:\\users\\usaxe\\appdata\\local\\programs\\python\\python39\\lib\\site-packages\\sklearn\\svm\\_base.py:985: ConvergenceWarning: Liblinear failed to converge, increase the number of iterations.\n",
      "  warnings.warn(\"Liblinear failed to converge, increase \"\n"
     ]
    }
   ],
   "source": [
    "from sklearn.svm import LinearSVR\n",
    "svm_reg = LinearSVR(epsilon=0) #sensitivity of the SVM to additional training instances is set by the epsilon (ϵ) parameter,\n",
    "                    #i.e the higher the parameter, the more of an impact additional training instances has on the model results.\n",
    "svm_reg.fit(x_train, y_train)\n",
    "predictions=svm_reg.predict(x_test)\n",
    "print(predictions)\n",
    "print()\n",
    "print(\"Mean squared error is :-\",mean_squared_error(predictions,y_test))"
   ]
  },
  {
   "cell_type": "code",
   "execution_count": 85,
   "id": "7e7c09a0",
   "metadata": {},
   "outputs": [
    {
     "name": "stdout",
     "output_type": "stream",
     "text": [
      "[[-0.17817147]\n",
      " [-0.57277324]\n",
      " [-0.91086918]\n",
      " ...\n",
      " [-0.50859122]\n",
      " [ 0.09751728]\n",
      " [-0.37156088]]\n",
      "\n",
      "Mean squared error is:   0.00021779497199156105\n"
     ]
    }
   ],
   "source": [
    "from sklearn.linear_model import LinearRegression, Ridge, Lasso, ElasticNet\n",
    "lreg=LinearRegression()\n",
    "lreg.fit(x_train,y_train)\n",
    "predictions=lreg.predict(x_test)\n",
    "print(predictions)\n",
    "print()\n",
    "print(\"Mean squared error is:  \",mean_squared_error(predictions,y_test))"
   ]
  },
  {
   "cell_type": "code",
   "execution_count": 86,
   "id": "7648db98",
   "metadata": {},
   "outputs": [
    {
     "name": "stdout",
     "output_type": "stream",
     "text": [
      "Mean squared error is :  0.00023173217693780478\n"
     ]
    }
   ],
   "source": [
    "ridgeR = Ridge(alpha = 1)\n",
    "ridgeR.fit(x_train, y_train)\n",
    "y_pred = ridgeR.predict(x_test)\n",
    "mean_squared_error_ridge = np.mean((y_pred - y_test)**2)\n",
    "print(\"Mean squared error is : \",mean_squared_error_ridge)"
   ]
  },
  {
   "cell_type": "code",
   "execution_count": 87,
   "id": "d9d250f4",
   "metadata": {},
   "outputs": [
    {
     "name": "stdout",
     "output_type": "stream",
     "text": [
      "Mean squared error on test set:   0.12087799596714277\n"
     ]
    }
   ],
   "source": [
    "lasso = Lasso(alpha = 1)\n",
    "lasso.fit(x_train, y_train)\n",
    "y_pred1 = lasso.predict(x_test)\n",
    "  \n",
    "# Calculate Mean Squared Error\n",
    "mean_squared_error = np.mean((y_pred1 - y_test)**2)\n",
    "print(\"Mean squared error on test set:  \", mean_squared_error)"
   ]
  },
  {
   "cell_type": "code",
   "execution_count": 88,
   "id": "630fe48d",
   "metadata": {},
   "outputs": [
    {
     "name": "stdout",
     "output_type": "stream",
     "text": [
      "[-0.41400469 -0.41400469 -0.41400469 ... -0.41400469 -0.41400469\n",
      " -0.41400469]\n",
      "Mean Squared Error on test set:   0.12087799596714277\n"
     ]
    }
   ],
   "source": [
    "e_net = ElasticNet(alpha = 1)\n",
    "e_net.fit(x_train, y_train)\n",
    "  \n",
    "# calculate the prediction and mean square error\n",
    "y_pred_elastic = e_net.predict(x_test)\n",
    "mean_squared_error = np.mean((y_pred_elastic - y_test)**2)\n",
    "print(y_pred_elastic)\n",
    "print(\"Mean Squared Error on test set:  \", mean_squared_error)"
   ]
  },
  {
   "cell_type": "code",
   "execution_count": 89,
   "id": "7e737bcd",
   "metadata": {},
   "outputs": [
    {
     "name": "stdout",
     "output_type": "stream",
     "text": [
      "[[-0.3528162 ]\n",
      " [-0.54912047]\n",
      " [-0.43296103]\n",
      " ...\n",
      " [-0.44727943]\n",
      " [-0.26288896]\n",
      " [-0.33822454]]\n"
     ]
    }
   ],
   "source": [
    "from sklearn.neighbors import KNeighborsRegressor \n",
    "import math\n",
    "n_neighbors=5\n",
    "knn=KNeighborsRegressor(n_neighbors,weights='uniform')\n",
    "knn.fit(x_train,y_train)\n",
    "predictions=knn.predict(x_train)\n",
    "print(predictions)"
   ]
  },
  {
   "cell_type": "markdown",
   "id": "ed877c3f",
   "metadata": {},
   "source": [
    "## Comparing Different ML Models"
   ]
  },
  {
   "cell_type": "code",
   "execution_count": 91,
   "id": "f355a12e",
   "metadata": {},
   "outputs": [
    {
     "name": "stdout",
     "output_type": "stream",
     "text": [
      "LR: 0.997864 (0.000197)\n",
      "RIDGE: 0.997738 (0.000204)\n",
      "LASSO: -0.003155 (0.003550)\n",
      "ELN: -0.003155 (0.003550)\n",
      "KNN: 0.994180 (0.000438)\n"
     ]
    },
    {
     "name": "stderr",
     "output_type": "stream",
     "text": [
      "c:\\users\\usaxe\\appdata\\local\\programs\\python\\python39\\lib\\site-packages\\sklearn\\utils\\validation.py:63: DataConversionWarning: A column-vector y was passed when a 1d array was expected. Please change the shape of y to (n_samples, ), for example using ravel().\n",
      "  return f(*args, **kwargs)\n",
      "c:\\users\\usaxe\\appdata\\local\\programs\\python\\python39\\lib\\site-packages\\sklearn\\svm\\_base.py:985: ConvergenceWarning: Liblinear failed to converge, increase the number of iterations.\n",
      "  warnings.warn(\"Liblinear failed to converge, increase \"\n",
      "c:\\users\\usaxe\\appdata\\local\\programs\\python\\python39\\lib\\site-packages\\sklearn\\utils\\validation.py:63: DataConversionWarning: A column-vector y was passed when a 1d array was expected. Please change the shape of y to (n_samples, ), for example using ravel().\n",
      "  return f(*args, **kwargs)\n",
      "c:\\users\\usaxe\\appdata\\local\\programs\\python\\python39\\lib\\site-packages\\sklearn\\svm\\_base.py:985: ConvergenceWarning: Liblinear failed to converge, increase the number of iterations.\n",
      "  warnings.warn(\"Liblinear failed to converge, increase \"\n",
      "c:\\users\\usaxe\\appdata\\local\\programs\\python\\python39\\lib\\site-packages\\sklearn\\utils\\validation.py:63: DataConversionWarning: A column-vector y was passed when a 1d array was expected. Please change the shape of y to (n_samples, ), for example using ravel().\n",
      "  return f(*args, **kwargs)\n",
      "c:\\users\\usaxe\\appdata\\local\\programs\\python\\python39\\lib\\site-packages\\sklearn\\svm\\_base.py:985: ConvergenceWarning: Liblinear failed to converge, increase the number of iterations.\n",
      "  warnings.warn(\"Liblinear failed to converge, increase \"\n",
      "c:\\users\\usaxe\\appdata\\local\\programs\\python\\python39\\lib\\site-packages\\sklearn\\utils\\validation.py:63: DataConversionWarning: A column-vector y was passed when a 1d array was expected. Please change the shape of y to (n_samples, ), for example using ravel().\n",
      "  return f(*args, **kwargs)\n",
      "c:\\users\\usaxe\\appdata\\local\\programs\\python\\python39\\lib\\site-packages\\sklearn\\svm\\_base.py:985: ConvergenceWarning: Liblinear failed to converge, increase the number of iterations.\n",
      "  warnings.warn(\"Liblinear failed to converge, increase \"\n",
      "c:\\users\\usaxe\\appdata\\local\\programs\\python\\python39\\lib\\site-packages\\sklearn\\utils\\validation.py:63: DataConversionWarning: A column-vector y was passed when a 1d array was expected. Please change the shape of y to (n_samples, ), for example using ravel().\n",
      "  return f(*args, **kwargs)\n",
      "c:\\users\\usaxe\\appdata\\local\\programs\\python\\python39\\lib\\site-packages\\sklearn\\svm\\_base.py:985: ConvergenceWarning: Liblinear failed to converge, increase the number of iterations.\n",
      "  warnings.warn(\"Liblinear failed to converge, increase \"\n"
     ]
    },
    {
     "name": "stdout",
     "output_type": "stream",
     "text": [
      "SVM: 0.997826 (0.000222)\n"
     ]
    },
    {
     "name": "stderr",
     "output_type": "stream",
     "text": [
      "c:\\users\\usaxe\\appdata\\local\\programs\\python\\python39\\lib\\site-packages\\sklearn\\utils\\validation.py:63: DataConversionWarning: A column-vector y was passed when a 1d array was expected. Please change the shape of y to (n_samples, ), for example using ravel().\n",
      "  return f(*args, **kwargs)\n",
      "c:\\users\\usaxe\\appdata\\local\\programs\\python\\python39\\lib\\site-packages\\sklearn\\utils\\validation.py:63: DataConversionWarning: A column-vector y was passed when a 1d array was expected. Please change the shape of y to (n_samples, ), for example using ravel().\n",
      "  return f(*args, **kwargs)\n",
      "c:\\users\\usaxe\\appdata\\local\\programs\\python\\python39\\lib\\site-packages\\sklearn\\utils\\validation.py:63: DataConversionWarning: A column-vector y was passed when a 1d array was expected. Please change the shape of y to (n_samples, ), for example using ravel().\n",
      "  return f(*args, **kwargs)\n",
      "c:\\users\\usaxe\\appdata\\local\\programs\\python\\python39\\lib\\site-packages\\sklearn\\utils\\validation.py:63: DataConversionWarning: A column-vector y was passed when a 1d array was expected. Please change the shape of y to (n_samples, ), for example using ravel().\n",
      "  return f(*args, **kwargs)\n",
      "c:\\users\\usaxe\\appdata\\local\\programs\\python\\python39\\lib\\site-packages\\sklearn\\utils\\validation.py:63: DataConversionWarning: A column-vector y was passed when a 1d array was expected. Please change the shape of y to (n_samples, ), for example using ravel().\n",
      "  return f(*args, **kwargs)\n"
     ]
    },
    {
     "name": "stdout",
     "output_type": "stream",
     "text": [
      "LGBoost: 0.997301 (0.000195)\n"
     ]
    },
    {
     "name": "stderr",
     "output_type": "stream",
     "text": [
      "c:\\users\\usaxe\\appdata\\local\\programs\\python\\python39\\lib\\site-packages\\sklearn\\model_selection\\_validation.py:593: DataConversionWarning: A column-vector y was passed when a 1d array was expected. Please change the shape of y to (n_samples,), for example using ravel().\n",
      "  estimator.fit(X_train, y_train, **fit_params)\n",
      "c:\\users\\usaxe\\appdata\\local\\programs\\python\\python39\\lib\\site-packages\\sklearn\\model_selection\\_validation.py:593: DataConversionWarning: A column-vector y was passed when a 1d array was expected. Please change the shape of y to (n_samples,), for example using ravel().\n",
      "  estimator.fit(X_train, y_train, **fit_params)\n",
      "c:\\users\\usaxe\\appdata\\local\\programs\\python\\python39\\lib\\site-packages\\sklearn\\model_selection\\_validation.py:593: DataConversionWarning: A column-vector y was passed when a 1d array was expected. Please change the shape of y to (n_samples,), for example using ravel().\n",
      "  estimator.fit(X_train, y_train, **fit_params)\n",
      "c:\\users\\usaxe\\appdata\\local\\programs\\python\\python39\\lib\\site-packages\\sklearn\\model_selection\\_validation.py:593: DataConversionWarning: A column-vector y was passed when a 1d array was expected. Please change the shape of y to (n_samples,), for example using ravel().\n",
      "  estimator.fit(X_train, y_train, **fit_params)\n",
      "c:\\users\\usaxe\\appdata\\local\\programs\\python\\python39\\lib\\site-packages\\sklearn\\model_selection\\_validation.py:593: DataConversionWarning: A column-vector y was passed when a 1d array was expected. Please change the shape of y to (n_samples,), for example using ravel().\n",
      "  estimator.fit(X_train, y_train, **fit_params)\n"
     ]
    },
    {
     "name": "stdout",
     "output_type": "stream",
     "text": [
      "RForest: 0.997483 (0.000131)\n"
     ]
    },
    {
     "name": "stderr",
     "output_type": "stream",
     "text": [
      "c:\\users\\usaxe\\appdata\\local\\programs\\python\\python39\\lib\\site-packages\\sklearn\\utils\\validation.py:63: DataConversionWarning: A column-vector y was passed when a 1d array was expected. Please change the shape of y to (n_samples, ), for example using ravel().\n",
      "  return f(*args, **kwargs)\n",
      "c:\\users\\usaxe\\appdata\\local\\programs\\python\\python39\\lib\\site-packages\\sklearn\\utils\\validation.py:63: DataConversionWarning: A column-vector y was passed when a 1d array was expected. Please change the shape of y to (n_samples, ), for example using ravel().\n",
      "  return f(*args, **kwargs)\n",
      "c:\\users\\usaxe\\appdata\\local\\programs\\python\\python39\\lib\\site-packages\\sklearn\\utils\\validation.py:63: DataConversionWarning: A column-vector y was passed when a 1d array was expected. Please change the shape of y to (n_samples, ), for example using ravel().\n",
      "  return f(*args, **kwargs)\n",
      "c:\\users\\usaxe\\appdata\\local\\programs\\python\\python39\\lib\\site-packages\\sklearn\\utils\\validation.py:63: DataConversionWarning: A column-vector y was passed when a 1d array was expected. Please change the shape of y to (n_samples, ), for example using ravel().\n",
      "  return f(*args, **kwargs)\n",
      "c:\\users\\usaxe\\appdata\\local\\programs\\python\\python39\\lib\\site-packages\\sklearn\\utils\\validation.py:63: DataConversionWarning: A column-vector y was passed when a 1d array was expected. Please change the shape of y to (n_samples, ), for example using ravel().\n",
      "  return f(*args, **kwargs)\n"
     ]
    },
    {
     "name": "stdout",
     "output_type": "stream",
     "text": [
      "ABoost: 0.993759 (0.000689)\n",
      "DTree: 0.995525 (0.000367)\n",
      "XGboost: 0.997219 (0.000208)\n"
     ]
    }
   ],
   "source": [
    "from sklearn. model_selection import cross_val_score\n",
    "from lightgbm import LGBMRegressor\n",
    "from xgboost import XGBRegressor\n",
    "import random\n",
    "models = []\n",
    "models.append(('LR', LinearRegression()))\n",
    "models.append(('RIDGE', Ridge()))\n",
    "models.append(('LASSO', Lasso()))\n",
    "models.append(('ELN', ElasticNet()))\n",
    "models.append(('KNN', KNeighborsRegressor()))\n",
    "models.append(('SVM', LinearSVR()))\n",
    "models.append(('LGBoost', LGBMRegressor()))\n",
    "models.append(('RForest', RandomForestRegressor()))\n",
    "models.append(('ABoost', AdaBoostRegressor()))\n",
    "models.append(('DTree', DecisionTreeRegressor()))\n",
    "models.append(('XGboost', XGBRegressor()))\n",
    "scoring = 'r2'\n",
    "\n",
    "# evaluate each model in turn\n",
    "results = []\n",
    "names = []\n",
    "for name, model in models:\n",
    "    kfold = KFold(n_splits=5, random_state=None)\n",
    "    cv_results = cross_val_score(model, x_train, y_train,  cv=kfold, scoring=scoring)\n",
    "    results.append(cv_results)\n",
    "    names.append(name)\n",
    "    msg = \"%s: %f (%f)\" % (name, cv_results.mean(), cv_results.std())\n",
    "    print(msg)"
   ]
  },
  {
   "cell_type": "markdown",
   "id": "a05ac062",
   "metadata": {},
   "source": [
    "### Out of all algorithms above, Random Forest Regression algorithm has fairly desired outcomes. So let's use RandomForestRegressor for further predictions"
   ]
  },
  {
   "cell_type": "code",
   "execution_count": 92,
   "id": "c0ec4f9d",
   "metadata": {},
   "outputs": [
    {
     "name": "stderr",
     "output_type": "stream",
     "text": [
      "<ipython-input-92-2d4d65d2a867>:3: DataConversionWarning: A column-vector y was passed when a 1d array was expected. Please change the shape of y to (n_samples,), for example using ravel().\n",
      "  model.fit(x_train, y_train)\n"
     ]
    },
    {
     "data": {
      "text/plain": [
       "0.9977303613596834"
      ]
     },
     "execution_count": 92,
     "metadata": {},
     "output_type": "execute_result"
    }
   ],
   "source": [
    "# train the model to get accuracy of the final model\n",
    "model = RandomForestRegressor()\n",
    "model.fit(x_train, y_train)\n",
    "\n",
    "#We now have a fit model, pass in our test data to the fitted model to make predictions with it.\n",
    "predictions = model.predict(x_test)\n",
    "\n",
    "#calculate the error\n",
    "from sklearn.metrics import r2_score\n",
    "r2_score(y_test,predictions)"
   ]
  },
  {
   "cell_type": "code",
   "execution_count": 93,
   "id": "936c7c13",
   "metadata": {},
   "outputs": [
    {
     "name": "stdout",
     "output_type": "stream",
     "text": [
      "Predictions:\n"
     ]
    },
    {
     "data": {
      "text/plain": [
       "array([[8.5352875 ],\n",
       "       [4.91799375],\n",
       "       [1.76915344],\n",
       "       [6.6862    ],\n",
       "       [6.6703    ]])"
      ]
     },
     "execution_count": 93,
     "metadata": {},
     "output_type": "execute_result"
    }
   ],
   "source": [
    "# unscaling the predictions\n",
    "predictions = scaler_y.inverse_transform(np.array(predictions).reshape((len(predictions), 1)))\n",
    "\n",
    "# printing the predictions\n",
    "print('Predictions:')\n",
    "predictions[0:5]"
   ]
  },
  {
   "cell_type": "code",
   "execution_count": 94,
   "id": "68a7cfad",
   "metadata": {},
   "outputs": [
    {
     "name": "stdout",
     "output_type": "stream",
     "text": [
      "Root Mean Square Error = 7.465\n"
     ]
    }
   ],
   "source": [
    "# calculating root mean squared error\n",
    "root_mean_square_error = np.sqrt(np.mean(np.power((y_test - predictions),2)))\n",
    "print('Root Mean Square Error =', round(root_mean_square_error,4))"
   ]
  },
  {
   "cell_type": "code",
   "execution_count": 95,
   "id": "6d9941c8",
   "metadata": {},
   "outputs": [
    {
     "data": {
      "text/plain": [
       "(array([[ 8.54    , -0.6369  , -0.296   , ...,  8.58    ,  8.65    ,\n",
       "          8.48625 ],\n",
       "        [ 4.9325  ,  0.4939  ,  0.296   , ...,  4.995625,  4.99875 ,\n",
       "          4.916875],\n",
       "        [ 1.8425  ,  0.      ,  0.      , ...,  1.95625 ,  1.95625 ,\n",
       "          1.812813],\n",
       "        ...,\n",
       "        [ 5.51875 , -0.4019  ,  0.2263  , ...,  5.46    ,  5.605   ,\n",
       "          5.42    ],\n",
       "        [11.07    ,  0.1027  ,  0.      , ..., 10.92    , 11.09    ,\n",
       "         10.91    ],\n",
       "        [ 6.7725  , -0.296   ,  0.      , ...,  6.80125 ,  6.82125 ,\n",
       "          6.75875 ]]),\n",
       " array([[6.8925 ],\n",
       "        [5.14375],\n",
       "        [6.1875 ],\n",
       "        ...,\n",
       "        [6.03   ],\n",
       "        [7.895  ],\n",
       "        [6.92875]]),\n",
       " array([[ 8.45625 ],\n",
       "        [ 4.90625 ],\n",
       "        [ 1.933438],\n",
       "        ...,\n",
       "        [ 5.44    ],\n",
       "        [11.13    ],\n",
       "        [ 6.9     ]]))"
      ]
     },
     "execution_count": 95,
     "metadata": {},
     "output_type": "execute_result"
    }
   ],
   "source": [
    "x_test = scaler_x.inverse_transform(np.array(x_test).reshape((len(x_test), len(cols))))\n",
    "\n",
    "# unscaling the test y dataset, y_test\n",
    "y_train = scaler_y.inverse_transform(np.array(y_train).reshape((len(y_train), 1)))\n",
    "y_test = scaler_y.inverse_transform(np.array(y_test).reshape((len(y_test), 1)))\n",
    "x_test,y_train,y_test"
   ]
  },
  {
   "cell_type": "code",
   "execution_count": 96,
   "id": "0c2d0582",
   "metadata": {},
   "outputs": [
    {
     "name": "stderr",
     "output_type": "stream",
     "text": [
      "<ipython-input-96-1a321f2ed02e>:6: MatplotlibDeprecationWarning: The 'linthreshx' parameter of __init__() has been renamed 'linthresh' since Matplotlib 3.3; support for the old name will be dropped two minor releases later.\n",
      "  plt.xscale('symlog',linthreshx=20)\n"
     ]
    },
    {
     "data": {
      "image/png": "[encoded data removed]",
      "text/plain": [
       "<Figure size 1440x1080 with 1 Axes>"
      ]
     },
     "metadata": {
      "needs_background": "light"
     },
     "output_type": "display_data"
    }
   ],
   "source": [
    "# plotting\n",
    "fig=plt.figure(figsize=(20,15))\n",
    "# plt.plot([row[0] for row in y_train], label=\"Training Close Price\")\n",
    "plt.plot(predictions, label=\"Predicted Close Price\")\n",
    "plt.plot([row[0] for row in y_test], label=\" Testing Close Price\")\n",
    "plt.xscale('symlog',linthreshx=20)\n",
    "plt.legend(loc='upper center', bbox_to_anchor=(0.5, 1), fancybox=True, shadow=True, ncol=4)\n",
    "plt.show()"
   ]
  },
  {
   "cell_type": "code",
   "execution_count": null,
   "id": "6bb3b738",
   "metadata": {},
   "outputs": [],
   "source": []
  }
 ],
 "metadata": {
  "kernelspec": {
   "display_name": "Python 3",
   "language": "python",
   "name": "python3"
  },
  "language_info": {
   "codemirror_mode": {
    "name": "ipython",
    "version": 3
   },
   "file_extension": ".py",
   "mimetype": "text/x-python",
   "name": "python",
   "nbconvert_exporter": "python",
   "pygments_lexer": "ipython3",
   "version": "3.9.3"
  }
 },
 "nbformat": 4,
 "nbformat_minor": 5
}
